{
 "cells": [
  {
   "cell_type": "code",
   "execution_count": 1,
   "metadata": {},
   "outputs": [
    {
     "name": "stderr",
     "output_type": "stream",
     "text": [
      "/usr/lib/python3.6/importlib/_bootstrap.py:219: RuntimeWarning: numpy.dtype size changed, may indicate binary incompatibility. Expected 96, got 88\n",
      "  return f(*args, **kwds)\n",
      "/usr/lib/python3.6/importlib/_bootstrap.py:219: RuntimeWarning: numpy.dtype size changed, may indicate binary incompatibility. Expected 96, got 88\n",
      "  return f(*args, **kwds)\n",
      "/home/loherzberger/Projects/ML/venv/lib/python3.6/site-packages/IPython/core/interactiveshell.py:2785: DtypeWarning: Columns (13) have mixed types. Specify dtype option on import or set low_memory=False.\n",
      "  interactivity=interactivity, compiler=compiler, result=result)\n"
     ]
    }
   ],
   "source": [
    "import pandas as pd\n",
    "import numpy as np\n",
    "\n",
    "#read data from csv\n",
    "data = pd.read_csv(\"data/training_data_utf8.csv\")"
   ]
  },
  {
   "cell_type": "code",
   "execution_count": 2,
   "metadata": {},
   "outputs": [],
   "source": [
    "#define function to transform long/lat to distance\n",
    "from math import radians, cos, sin, asin, sqrt\n",
    "def haversine(lon1, lat1, lon2, lat2):\n",
    "    \"\"\"\n",
    "    Calculate the great circle distance between two points \n",
    "    on the earth (specified in decimal degrees)\n",
    "    \"\"\"\n",
    "    # convert decimal degrees to radians \n",
    "    lon1, lat1, lon2, lat2 = map(radians, [lon1, lat1, lon2, lat2])\n",
    "    # haversine formula \n",
    "    dlon = lon2 - lon1 \n",
    "    dlat = lat2 - lat1 \n",
    "    a = sin(dlat/2)**2 + cos(lat1) * cos(lat2) * sin(dlon/2)**2\n",
    "    c = 2 * asin(sqrt(a)) \n",
    "    km = 6367 * c\n",
    "    return km"
   ]
  },
  {
   "cell_type": "code",
   "execution_count": 3,
   "metadata": {},
   "outputs": [],
   "source": [
    "#define long/lat center of vienna\n",
    "latitude_center = 48.210033\n",
    "longitude_center = 16.363449"
   ]
  },
  {
   "cell_type": "code",
   "execution_count": 4,
   "metadata": {},
   "outputs": [],
   "source": [
    "#create new column distance_to_center\n",
    "for index, row in data.iterrows():\n",
    "    data.loc[index, 'distance_to_center'] = haversine(row['longitude'], row['latitude'], longitude_center, latitude_center)"
   ]
  },
  {
   "cell_type": "code",
   "execution_count": 5,
   "metadata": {},
   "outputs": [],
   "source": [
    "#extract year from transaction_ym\n",
    "date = data.transaction_ym.apply(pd.to_datetime, format=\"%Y-%m\")\n",
    "\n",
    "data[\"year\"] = date.dt.year"
   ]
  },
  {
   "cell_type": "code",
   "execution_count": 6,
   "metadata": {},
   "outputs": [],
   "source": [
    "#create new column relative_share\n",
    "relative_share = data.plot_area * data.plot_share\n",
    "data[\"relative_share\"] = relative_share"
   ]
  },
  {
   "cell_type": "code",
   "execution_count": 7,
   "metadata": {},
   "outputs": [
    {
     "data": {
      "text/plain": [
       "(30441, 21)"
      ]
     },
     "execution_count": 7,
     "metadata": {},
     "output_type": "execute_result"
    }
   ],
   "source": [
    "#filter outliers\n",
    "data = data[data.distance_to_center < 15]\n",
    "data = data[data.price_per_m2 < 2500]\n",
    "data.shape"
   ]
  },
  {
   "cell_type": "code",
   "execution_count": 8,
   "metadata": {},
   "outputs": [],
   "source": [
    "#fill NA/NaN with mean\n",
    "data = data.fillna(data.mean())"
   ]
  },
  {
   "cell_type": "code",
   "execution_count": 9,
   "metadata": {},
   "outputs": [],
   "source": [
    "data[\"land_use\"] = data[\"land_use\"].astype(str)\n",
    "data[\"district\"] = data[\"district\"].astype(str)\n",
    "data[\"property_type\"] = data[\"property_type\"].astype(str)\n",
    "data[\"contract_type\"] = data[\"contract_type\"].astype(str)\n",
    "data[\"protection_zone\"] = data[\"protection_zone\"].astype(str)\n",
    "data[\"building_ban\"] = data[\"building_ban\"].astype(str)"
   ]
  },
  {
   "cell_type": "code",
   "execution_count": 10,
   "metadata": {},
   "outputs": [],
   "source": [
    "#split data into training and test data\n",
    "data_train = data[data.year <= 2010]\n",
    "data_test = data[data.year > 2010]"
   ]
  },
  {
   "cell_type": "code",
   "execution_count": 11,
   "metadata": {},
   "outputs": [
    {
     "data": {
      "text/plain": [
       "(27754, 21)"
      ]
     },
     "execution_count": 11,
     "metadata": {},
     "output_type": "execute_result"
    }
   ],
   "source": [
    "#display shape of training data\n",
    "data_train.shape"
   ]
  },
  {
   "cell_type": "code",
   "execution_count": 12,
   "metadata": {},
   "outputs": [
    {
     "data": {
      "text/plain": [
       "(2687, 21)"
      ]
     },
     "execution_count": 12,
     "metadata": {},
     "output_type": "execute_result"
    }
   ],
   "source": [
    "#display shape of testing data\n",
    "data_test.shape"
   ]
  },
  {
   "cell_type": "code",
   "execution_count": 13,
   "metadata": {},
   "outputs": [],
   "source": [
    "#define numerical and categorical pipeline\n",
    "from sklearn.pipeline import Pipeline\n",
    "from sklearn.preprocessing import StandardScaler\n",
    "from future_encoders import OneHotEncoder\n",
    "\n",
    "num_pipeline = Pipeline([\n",
    "    ('std_scaler', StandardScaler())\n",
    "])\n",
    "\n",
    "cat_pipeline = Pipeline([\n",
    "    ('one_hot', OneHotEncoder())\n",
    "])"
   ]
  },
  {
   "cell_type": "code",
   "execution_count": 14,
   "metadata": {},
   "outputs": [],
   "source": [
    "#define features for pipeline A\n",
    "pip_data_a = data[[\"building_floors\", \"year\", \"distance_to_center\", \"land_use\", \"relative_share\", \"district\"]]\n",
    "pip_data_a_num = data[[\"year\", \"distance_to_center\", \"building_floors\", \"relative_share\"]]\n",
    "pip_data_a_cat = data[[\"land_use\", \"district\"]]"
   ]
  },
  {
   "cell_type": "code",
   "execution_count": 42,
   "metadata": {},
   "outputs": [
    {
     "data": {
      "text/plain": [
       "<30441x75 sparse matrix of type '<class 'numpy.float64'>'\n",
       "\twith 182646 stored elements in Compressed Sparse Row format>"
      ]
     },
     "execution_count": 42,
     "metadata": {},
     "output_type": "execute_result"
    }
   ],
   "source": [
    "#define full_pipeline_a for training data_a\n",
    "from future_encoders import ColumnTransformer\n",
    "\n",
    "num_attribs = list(pip_data_a_num)\n",
    "cat_attribs = list(pip_data_a_cat)\n",
    "\n",
    "full_pipeline_a = ColumnTransformer([\n",
    "    ('num', num_pipeline, num_attribs),\n",
    "    ('cat', cat_pipeline, cat_attribs)\n",
    "])\n",
    "\n",
    "full_pipeline_a.fit_transform(pip_data_a)"
   ]
  },
  {
   "cell_type": "code",
   "execution_count": 16,
   "metadata": {},
   "outputs": [],
   "source": [
    "#define training data for pipeline A\n",
    "data_train_a = data_train[[\"price_per_m2\", \"building_floors\", \"year\", \"distance_to_center\", \"land_use\", \"relative_share\", \"district\"]]\n",
    "\n",
    "data_train_labels_a = data_train_a[\"price_per_m2\"].copy()\n",
    "data_train_a = data_train_a.drop(\"price_per_m2\", axis=1)"
   ]
  },
  {
   "cell_type": "code",
   "execution_count": 17,
   "metadata": {},
   "outputs": [],
   "source": [
    "#define features for pipeline B\n",
    "pip_data_b = data[[\"price_per_m2\", \"property_type\",\"district\",\"contract_type\",\"protection_zone\",\"building_ban\", \"building_floors\", \"building_year\", \"land_use\"]]\n",
    "pip_data_b_num = data[[\"building_floors\", \"building_year\"]]\n",
    "pip_data_b_cat = data[[\"property_type\",\"district\",\"contract_type\",\"protection_zone\",\"building_ban\", \"land_use\"]]"
   ]
  },
  {
   "cell_type": "code",
   "execution_count": 18,
   "metadata": {},
   "outputs": [
    {
     "data": {
      "text/plain": [
       "<30441x104 sparse matrix of type '<class 'numpy.float64'>'\n",
       "\twith 243528 stored elements in Compressed Sparse Row format>"
      ]
     },
     "execution_count": 18,
     "metadata": {},
     "output_type": "execute_result"
    }
   ],
   "source": [
    "#define full_pipeline_b for training data_b\n",
    "num_attribs = list(pip_data_b_num)\n",
    "cat_attribs = list(pip_data_b_cat)\n",
    "\n",
    "full_pipeline_b = ColumnTransformer([\n",
    "    ('num', num_pipeline, num_attribs),\n",
    "    ('cat', cat_pipeline, cat_attribs)\n",
    "])\n",
    "\n",
    "full_pipeline_b.fit_transform(pip_data_b)"
   ]
  },
  {
   "cell_type": "code",
   "execution_count": 19,
   "metadata": {},
   "outputs": [],
   "source": [
    "#define training data for pipeline B\n",
    "data_train_b = data_train[[\"price_per_m2\", \"property_type\",\"district\",\"contract_type\",\"protection_zone\",\"building_ban\", \"building_floors\", \"building_year\", \"land_use\"]]\n",
    "data_train_b_num = data_train[[\"building_floors\", \"building_year\"]]\n",
    "data_train_b_cat = data_train[[\"property_type\",\"district\",\"contract_type\",\"protection_zone\",\"building_ban\", \"land_use\"]]\n",
    "\n",
    "data_train_labels_b = data_train_b[\"price_per_m2\"].copy()\n",
    "data_train_b = data_train_b.drop(\"price_per_m2\", axis=1)"
   ]
  },
  {
   "cell_type": "code",
   "execution_count": 20,
   "metadata": {},
   "outputs": [],
   "source": [
    "#fit data_a and data_b\n",
    "data_train_prep_a = full_pipeline_a.transform(data_train_a)\n",
    "data_train_prep_b = full_pipeline_b.transform(data_train_b)"
   ]
  },
  {
   "cell_type": "code",
   "execution_count": 21,
   "metadata": {},
   "outputs": [],
   "source": [
    "#declare diplay_scores function for model evaluation\n",
    "from sklearn.model_selection import cross_val_score\n",
    "\n",
    "def display_scores(scores):\n",
    "    print(\"Scores:\", scores)\n",
    "    print(\"Mean:\", scores.mean())\n",
    "    print(\"Standard Deviation\", scores.std())"
   ]
  },
  {
   "cell_type": "code",
   "execution_count": 22,
   "metadata": {},
   "outputs": [
    {
     "name": "stdout",
     "output_type": "stream",
     "text": [
      "Scores: [428.07599805 383.70809955 368.58897131 323.70836266 342.89403222\n",
      " 344.57305531 359.15661085 371.24994065 308.75595641 336.02724009]\n",
      "Mean: 356.67382670940106\n",
      "Standard Deviation 32.14833902938146\n"
     ]
    }
   ],
   "source": [
    "#train and cv linear regression for data_prep_a\n",
    "from sklearn.linear_model import LinearRegression\n",
    "\n",
    "lin_reg_a = LinearRegression()\n",
    "lin_reg_a.fit(data_train_prep_a, data_train_labels_a)\n",
    "\n",
    "scores = cross_val_score(lin_reg_a, data_train_prep_a, data_train_labels_a, scoring=\"neg_mean_squared_error\", cv=10)\n",
    "lin_reg_rmse_scores_a = np.sqrt(-scores)\n",
    "\n",
    "display_scores(lin_reg_rmse_scores_a)"
   ]
  },
  {
   "cell_type": "code",
   "execution_count": 23,
   "metadata": {},
   "outputs": [
    {
     "name": "stdout",
     "output_type": "stream",
     "text": [
      "Scores: [453.99782919 390.94191389 380.43655399 339.26626396 354.64263696\n",
      " 348.94466852 352.93208611 352.41580021 348.31558628 422.60774121]\n",
      "Mean: 374.4501080345841\n",
      "Standard Deviation 35.87078229619428\n"
     ]
    }
   ],
   "source": [
    "#train and cv linear regression for data_prep_b\n",
    "lin_reg_b = LinearRegression()\n",
    "lin_reg_b.fit(data_train_prep_b, data_train_labels_b)\n",
    "\n",
    "scores = cross_val_score(lin_reg_b, data_train_prep_b, data_train_labels_b, scoring=\"neg_mean_squared_error\", cv=10)\n",
    "lin_reg_rmse_scores_b = np.sqrt(-scores)\n",
    "\n",
    "display_scores(lin_reg_rmse_scores_b)"
   ]
  },
  {
   "cell_type": "code",
   "execution_count": 24,
   "metadata": {},
   "outputs": [
    {
     "name": "stdout",
     "output_type": "stream",
     "text": [
      "Scores: [428.36068786 383.92625523 367.82797659 323.52101959 342.88948522\n",
      " 344.667256   359.09334766 371.17649736 308.9600659  336.16981695]\n",
      "Mean: 356.6592408360203\n",
      "Standard Deviation 32.175436608183915\n"
     ]
    }
   ],
   "source": [
    "#train and cv ridge regression for data_prep_a\n",
    "from sklearn.linear_model import Ridge\n",
    "\n",
    "ridge_reg_a = Ridge(alpha=0.9)\n",
    "ridge_reg_a.fit(data_train_prep_a, data_train_labels_a)\n",
    "\n",
    "scores = cross_val_score(ridge_reg_a, data_train_prep_a, data_train_labels_a, scoring=\"neg_mean_squared_error\", cv=10)\n",
    "ridge_reg_rmse_scores_a = np.sqrt(-scores)\n",
    "\n",
    "display_scores(ridge_reg_rmse_scores_a)"
   ]
  },
  {
   "cell_type": "code",
   "execution_count": 25,
   "metadata": {},
   "outputs": [
    {
     "name": "stdout",
     "output_type": "stream",
     "text": [
      "Scores: [453.93092758 390.82498309 380.30410339 339.27748146 354.62062984\n",
      " 348.96406242 352.90269641 352.45015978 348.27731046 422.39064186]\n",
      "Mean: 374.39429962969984\n",
      "Standard Deviation 35.820433412764665\n"
     ]
    }
   ],
   "source": [
    "#train and cv ridge regression for data_prep_b\n",
    "ridge_reg_b = Ridge(alpha=0.9)\n",
    "ridge_reg_b.fit(data_train_prep_b, data_train_labels_b)\n",
    "\n",
    "scores = cross_val_score(ridge_reg_b, data_train_prep_b, data_train_labels_b, scoring=\"neg_mean_squared_error\", cv=10)\n",
    "ridge_reg_rmse_scores_b = np.sqrt(-scores)\n",
    "\n",
    "display_scores(ridge_reg_rmse_scores_b)"
   ]
  },
  {
   "cell_type": "code",
   "execution_count": 26,
   "metadata": {},
   "outputs": [
    {
     "name": "stdout",
     "output_type": "stream",
     "text": [
      "Scores: [432.20985016 387.39643375 366.81390533 323.0161888  344.04912034\n",
      " 348.6945086  360.52429909 373.53331489 310.38127547 335.51775564]\n",
      "Mean: 358.2136652071593\n",
      "Standard Deviation 33.12735581313222\n"
     ]
    }
   ],
   "source": [
    "#train and cv lasso regression for data_prep_a\n",
    "from sklearn.linear_model import Lasso\n",
    "\n",
    "lasso_reg_a = Lasso(alpha=0.5)\n",
    "lasso_reg_a.fit(data_train_prep_a, data_train_labels_a)\n",
    "\n",
    "scores = cross_val_score(lasso_reg_a, data_train_prep_a, data_train_labels_a, scoring=\"neg_mean_squared_error\", cv=10)\n",
    "lasso_reg_rmse_scores_a = np.sqrt(-scores)\n",
    "\n",
    "display_scores(lasso_reg_rmse_scores_a)"
   ]
  },
  {
   "cell_type": "code",
   "execution_count": 27,
   "metadata": {},
   "outputs": [
    {
     "name": "stdout",
     "output_type": "stream",
     "text": [
      "Scores: [454.327219   390.26059253 382.62988832 340.34179351 354.97732535\n",
      " 351.94100345 353.38416872 354.67759394 349.51501726 419.50789407]\n",
      "Mean: 375.1562496150731\n",
      "Standard Deviation 34.96878871799998\n"
     ]
    }
   ],
   "source": [
    "#train and cv lasso regression for data_prep_b\n",
    "lasso_reg_b = Lasso(alpha=0.5)\n",
    "lasso_reg_b.fit(data_train_prep_b, data_train_labels_b)\n",
    "\n",
    "scores = cross_val_score(lasso_reg_b, data_train_prep_b, data_train_labels_b, scoring=\"neg_mean_squared_error\", cv=10)\n",
    "lasso_reg_rmse_scores_b = np.sqrt(-scores)\n",
    "\n",
    "display_scores(lasso_reg_rmse_scores_b)"
   ]
  },
  {
   "cell_type": "code",
   "execution_count": 28,
   "metadata": {},
   "outputs": [
    {
     "name": "stdout",
     "output_type": "stream",
     "text": [
      "Scores: [539.26169024 487.32458726 466.91962114 452.94526351 438.44682117\n",
      " 450.24779663 442.72145787 463.27005546 420.1088163  371.01117005]\n",
      "Mean: 453.22572796292934\n",
      "Standard Deviation 41.2880080855494\n"
     ]
    }
   ],
   "source": [
    "#train and cv decision tree regression for data_prep_a\n",
    "from sklearn.tree import DecisionTreeRegressor\n",
    "\n",
    "tree_reg_a = DecisionTreeRegressor()\n",
    "tree_reg_a.fit(data_train_prep_a, data_train_labels_a)\n",
    "\n",
    "scores = cross_val_score(tree_reg_a, data_train_prep_a, data_train_labels_a, scoring=\"neg_mean_squared_error\", cv=10)\n",
    "tree_reg_rmse_scores_a = np.sqrt(-scores)\n",
    "\n",
    "display_scores(tree_reg_rmse_scores_a)"
   ]
  },
  {
   "cell_type": "code",
   "execution_count": 29,
   "metadata": {},
   "outputs": [
    {
     "name": "stdout",
     "output_type": "stream",
     "text": [
      "Scores: [451.97221121 427.65506722 443.12416704 396.22633096 419.01510951\n",
      " 396.84902032 404.41775304 407.98584504 392.87356165 445.19444834]\n",
      "Mean: 418.53135143095415\n",
      "Standard Deviation 21.104159761313884\n"
     ]
    }
   ],
   "source": [
    "#train and cv decision tree regression for data_prep_b\n",
    "tree_reg_b = DecisionTreeRegressor()\n",
    "tree_reg_b.fit(data_train_prep_b, data_train_labels_b)\n",
    "\n",
    "scores = cross_val_score(tree_reg_b, data_train_prep_b, data_train_labels_b, scoring=\"neg_mean_squared_error\", cv=10)\n",
    "tree_reg_rmse_scores_b = np.sqrt(-scores)\n",
    "\n",
    "display_scores(tree_reg_rmse_scores_b)"
   ]
  },
  {
   "cell_type": "code",
   "execution_count": 30,
   "metadata": {},
   "outputs": [
    {
     "name": "stderr",
     "output_type": "stream",
     "text": [
      "/home/loherzberger/Projects/ML/venv/lib/python3.6/site-packages/sklearn/ensemble/weight_boosting.py:29: DeprecationWarning: numpy.core.umath_tests is an internal NumPy module and should not be imported. It will be removed in a future NumPy release.\n",
      "  from numpy.core.umath_tests import inner1d\n"
     ]
    },
    {
     "name": "stdout",
     "output_type": "stream",
     "text": [
      "Scores: [397.89424775 360.54713375 351.90751428 329.60500394 331.21194746\n",
      " 335.13000581 348.12351399 373.75023834 321.63884779 293.27661395]\n",
      "Mean: 344.308506705876\n",
      "Standard Deviation 27.68458896281967\n"
     ]
    }
   ],
   "source": [
    "#train and cv random forest regression for data_prep_a\n",
    "from sklearn.ensemble import RandomForestRegressor\n",
    "\n",
    "forest_reg_a = RandomForestRegressor()\n",
    "forest_reg_a.fit(data_train_prep_a, data_train_labels_a)\n",
    "\n",
    "scores = cross_val_score(forest_reg_a, data_train_prep_a, data_train_labels_a, scoring=\"neg_mean_squared_error\", cv=10)\n",
    "forest_reg_rmse_scores_a = np.sqrt(-scores)\n",
    "\n",
    "display_scores(forest_reg_rmse_scores_a)"
   ]
  },
  {
   "cell_type": "code",
   "execution_count": 31,
   "metadata": {},
   "outputs": [
    {
     "name": "stdout",
     "output_type": "stream",
     "text": [
      "Scores: [419.24656918 377.61920628 398.53856958 345.34002215 354.1344575\n",
      " 371.26651435 380.81338225 378.55221163 347.66025028 413.53672732]\n",
      "Mean: 378.67079105198195\n",
      "Standard Deviation 24.47838897280553\n"
     ]
    }
   ],
   "source": [
    "#train and cv random forest regression for data_prep_b\n",
    "forest_reg_b = RandomForestRegressor()\n",
    "forest_reg_b.fit(data_train_prep_b, data_train_labels_b)\n",
    "\n",
    "scores = cross_val_score(forest_reg_b, data_train_prep_b, data_train_labels_b, scoring=\"neg_mean_squared_error\", cv=10)\n",
    "forest_reg_rmse_scores_b = np.sqrt(-scores)\n",
    "\n",
    "display_scores(forest_reg_rmse_scores_b)"
   ]
  },
  {
   "cell_type": "code",
   "execution_count": 32,
   "metadata": {},
   "outputs": [],
   "source": [
    "#prepare test_data_a for testing\n",
    "test_data_a = data_test[[\"price_per_m2\", \"building_floors\", \"year\", \"distance_to_center\", \"land_use\", \"relative_share\", \"district\"]]\n",
    "\n",
    "test_labels_a = test_data_a[\"price_per_m2\"].copy()\n",
    "test_set_a = test_data_a.drop(\"price_per_m2\", axis=1)\n",
    "\n",
    "test_data_prep_a = full_pipeline_a.transform(test_set_a)\n",
    "\n",
    "#prepare test_data_b for testing\n",
    "test_data_b = data_test[[\"price_per_m2\", \"property_type\",\"district\",\"contract_type\",\"protection_zone\",\"building_ban\", \"building_floors\", \"building_year\", \"land_use\"]]\n",
    "\n",
    "test_labels_b = test_data_b[\"price_per_m2\"].copy()\n",
    "test_set_b = test_data_b.drop(\"price_per_m2\", axis=1)\n",
    "\n",
    "test_data_prep_b = full_pipeline_b.transform(test_set_b)"
   ]
  },
  {
   "cell_type": "code",
   "execution_count": 33,
   "metadata": {},
   "outputs": [],
   "source": [
    "#prepare predictions on test set\n",
    "\n",
    "#predictions from A-Models\n",
    "lin_reg_pred_a = lin_reg_a.predict(test_data_prep_a)\n",
    "ridge_reg_pred_a = ridge_reg_a.predict(test_data_prep_a)\n",
    "lasso_reg_pred_a = lasso_reg_a.predict(test_data_prep_a)\n",
    "tree_reg_pred_a = tree_reg_a.predict(test_data_prep_a)\n",
    "forest_reg_pred_a = forest_reg_a.predict(test_data_prep_a)\n",
    "\n",
    "#predictions from B-Models\n",
    "lin_reg_pred_b = lin_reg_b.predict(test_data_prep_b)\n",
    "ridge_reg_pred_b = ridge_reg_b.predict(test_data_prep_b)\n",
    "lasso_reg_pred_b = lasso_reg_b.predict(test_data_prep_b)\n",
    "tree_reg_pred_b = tree_reg_b.predict(test_data_prep_b)\n",
    "forest_reg_pred_b = forest_reg_b.predict(test_data_prep_b)"
   ]
  },
  {
   "cell_type": "code",
   "execution_count": 34,
   "metadata": {},
   "outputs": [],
   "source": [
    "#used metrics for experiment\n",
    "from sklearn.metrics import mean_squared_error\n",
    "from sklearn.metrics import mean_absolute_error"
   ]
  },
  {
   "cell_type": "code",
   "execution_count": 35,
   "metadata": {},
   "outputs": [],
   "source": [
    "#get metrics for models\n",
    "\n",
    "#metrics for A-Models\n",
    "lin_mse_a = mean_squared_error(test_labels_a, lin_reg_pred_a)\n",
    "lin_mae_a = mean_absolute_error(test_labels_a, lin_reg_pred_a)\n",
    "ridge_mse_a = mean_squared_error(test_labels_a, ridge_reg_pred_a)\n",
    "ridge_mae_a = mean_absolute_error(test_labels_a, ridge_reg_pred_a)\n",
    "lasso_mse_a = mean_squared_error(test_labels_a, lasso_reg_pred_a)\n",
    "lasso_mae_a = mean_absolute_error(test_labels_a, lasso_reg_pred_a)\n",
    "tree_mse_a = mean_squared_error(test_labels_a, tree_reg_pred_a)\n",
    "tree_mae_a = mean_absolute_error(test_labels_a, tree_reg_pred_a)\n",
    "forest_mse_a = mean_squared_error(test_labels_a, forest_reg_pred_a)\n",
    "forest_mae_a = mean_absolute_error(test_labels_a, forest_reg_pred_a)\n",
    "\n",
    "\n",
    "#metrics for B-Models\n",
    "lin_mse_b = mean_squared_error(test_labels_b, lin_reg_pred_b)\n",
    "lin_mae_b = mean_absolute_error(test_labels_b, lin_reg_pred_b)\n",
    "ridge_mse_b = mean_squared_error(test_labels_b, ridge_reg_pred_b)\n",
    "ridge_mae_b = mean_absolute_error(test_labels_b, ridge_reg_pred_b)\n",
    "lasso_mse_b = mean_squared_error(test_labels_b, lasso_reg_pred_b)\n",
    "lasso_mae_b = mean_absolute_error(test_labels_b, lasso_reg_pred_b)\n",
    "tree_mse_b = mean_squared_error(test_labels_b, tree_reg_pred_b)\n",
    "tree_mae_b = mean_absolute_error(test_labels_b, tree_reg_pred_b)\n",
    "forest_mse_b = mean_squared_error(test_labels_b, forest_reg_pred_b)\n",
    "forest_mae_b = mean_absolute_error(test_labels_b, forest_reg_pred_b)"
   ]
  },
  {
   "cell_type": "code",
   "execution_count": 36,
   "metadata": {},
   "outputs": [
    {
     "data": {
      "text/html": [
       "<div>\n",
       "<style scoped>\n",
       "    .dataframe tbody tr th:only-of-type {\n",
       "        vertical-align: middle;\n",
       "    }\n",
       "\n",
       "    .dataframe tbody tr th {\n",
       "        vertical-align: top;\n",
       "    }\n",
       "\n",
       "    .dataframe thead th {\n",
       "        text-align: right;\n",
       "    }\n",
       "</style>\n",
       "<table border=\"1\" class=\"dataframe\">\n",
       "  <thead>\n",
       "    <tr style=\"text-align: right;\">\n",
       "      <th></th>\n",
       "      <th>Linear/MSE</th>\n",
       "      <th>Linear/MAE</th>\n",
       "      <th>Ridge/MSE</th>\n",
       "      <th>Ridge/MAE</th>\n",
       "      <th>Lasso/MSE</th>\n",
       "      <th>Lasso/MAE</th>\n",
       "      <th>Tree/MSE</th>\n",
       "      <th>Tree/MAE</th>\n",
       "      <th>Forest/MSE</th>\n",
       "      <th>Forest/MAE</th>\n",
       "    </tr>\n",
       "  </thead>\n",
       "  <tbody>\n",
       "    <tr>\n",
       "      <th>0</th>\n",
       "      <td>216558.587898</td>\n",
       "      <td>343.656663</td>\n",
       "      <td>216794.697258</td>\n",
       "      <td>344.0786</td>\n",
       "      <td>219044.208201</td>\n",
       "      <td>346.466355</td>\n",
       "      <td>280586.307571</td>\n",
       "      <td>368.740114</td>\n",
       "      <td>183794.900856</td>\n",
       "      <td>297.953178</td>\n",
       "    </tr>\n",
       "  </tbody>\n",
       "</table>\n",
       "</div>"
      ],
      "text/plain": [
       "      Linear/MSE  Linear/MAE      Ridge/MSE  Ridge/MAE      Lasso/MSE  \\\n",
       "0  216558.587898  343.656663  216794.697258   344.0786  219044.208201   \n",
       "\n",
       "    Lasso/MAE       Tree/MSE    Tree/MAE     Forest/MSE  Forest/MAE  \n",
       "0  346.466355  280586.307571  368.740114  183794.900856  297.953178  "
      ]
     },
     "execution_count": 36,
     "metadata": {},
     "output_type": "execute_result"
    }
   ],
   "source": [
    "df_a = pd.DataFrame(columns=['Linear/MSE', 'Linear/MAE', 'Ridge/MSE', 'Ridge/MAE', 'Lasso/MSE', 'Lasso/MAE', 'Tree/MSE', 'Tree/MAE', 'Forest/MSE', 'Forest/MAE'])\n",
    "df_a['Linear/MSE'] = [lin_mse_a]\n",
    "df_a['Linear/MAE'] = [lin_mae_a]\n",
    "df_a['Ridge/MSE'] = [ridge_mse_a]\n",
    "df_a['Ridge/MAE'] = [ridge_mae_a]\n",
    "df_a['Lasso/MSE'] = [lasso_mse_a]\n",
    "df_a['Lasso/MAE'] = [lasso_mae_a]\n",
    "df_a['Tree/MSE'] = [tree_mse_a]\n",
    "df_a['Tree/MAE'] = [tree_mae_a]\n",
    "df_a['Forest/MSE'] = [forest_mse_a]\n",
    "df_a['Forest/MAE'] = [forest_mae_a]\n",
    "\n",
    "df_a"
   ]
  },
  {
   "cell_type": "code",
   "execution_count": 37,
   "metadata": {},
   "outputs": [
    {
     "data": {
      "text/html": [
       "<div>\n",
       "<style scoped>\n",
       "    .dataframe tbody tr th:only-of-type {\n",
       "        vertical-align: middle;\n",
       "    }\n",
       "\n",
       "    .dataframe tbody tr th {\n",
       "        vertical-align: top;\n",
       "    }\n",
       "\n",
       "    .dataframe thead th {\n",
       "        text-align: right;\n",
       "    }\n",
       "</style>\n",
       "<table border=\"1\" class=\"dataframe\">\n",
       "  <thead>\n",
       "    <tr style=\"text-align: right;\">\n",
       "      <th></th>\n",
       "      <th>Linear/MSE</th>\n",
       "      <th>Linear/MAE</th>\n",
       "      <th>Ridge/MSE</th>\n",
       "      <th>Ridge/MAE</th>\n",
       "      <th>Lasso/MSE</th>\n",
       "      <th>Lasso/MAE</th>\n",
       "      <th>Tree/MSE</th>\n",
       "      <th>Tree/MAE</th>\n",
       "      <th>Forest/MSE</th>\n",
       "      <th>Forest/MAE</th>\n",
       "    </tr>\n",
       "  </thead>\n",
       "  <tbody>\n",
       "    <tr>\n",
       "      <th>0</th>\n",
       "      <td>248655.957769</td>\n",
       "      <td>339.963574</td>\n",
       "      <td>248543.291939</td>\n",
       "      <td>339.78874</td>\n",
       "      <td>250681.552118</td>\n",
       "      <td>342.080145</td>\n",
       "      <td>249343.643634</td>\n",
       "      <td>334.718229</td>\n",
       "      <td>219979.578944</td>\n",
       "      <td>317.602263</td>\n",
       "    </tr>\n",
       "  </tbody>\n",
       "</table>\n",
       "</div>"
      ],
      "text/plain": [
       "      Linear/MSE  Linear/MAE      Ridge/MSE  Ridge/MAE      Lasso/MSE  \\\n",
       "0  248655.957769  339.963574  248543.291939  339.78874  250681.552118   \n",
       "\n",
       "    Lasso/MAE       Tree/MSE    Tree/MAE     Forest/MSE  Forest/MAE  \n",
       "0  342.080145  249343.643634  334.718229  219979.578944  317.602263  "
      ]
     },
     "execution_count": 37,
     "metadata": {},
     "output_type": "execute_result"
    }
   ],
   "source": [
    "df_b = pd.DataFrame(columns=['Linear/MSE', 'Linear/MAE', 'Ridge/MSE', 'Ridge/MAE', 'Lasso/MSE', 'Lasso/MAE', 'Tree/MSE', 'Tree/MAE', 'Forest/MSE', 'Forest/MAE'])\n",
    "df_b['Linear/MSE'] = [lin_mse_b]\n",
    "df_b['Linear/MAE'] = [lin_mae_b]\n",
    "df_b['Ridge/MSE'] = [ridge_mse_b]\n",
    "df_b['Ridge/MAE'] = [ridge_mae_b]\n",
    "df_b['Lasso/MSE'] = [lasso_mse_b]\n",
    "df_b['Lasso/MAE'] = [lasso_mae_b]\n",
    "df_b['Tree/MSE'] = [tree_mse_b]\n",
    "df_b['Tree/MAE'] = [tree_mae_b]\n",
    "df_b['Forest/MSE'] = [forest_mse_b]\n",
    "df_b['Forest/MAE'] = [forest_mae_b]\n",
    "\n",
    "df_b"
   ]
  },
  {
   "cell_type": "code",
   "execution_count": 40,
   "metadata": {},
   "outputs": [
    {
     "data": {
      "text/plain": [
       "[(0.3021688574808543, 'building_floors'),\n",
       " (0.15925461969551222, 'building_year'),\n",
       " (0.0074118668304055235, 'contract_type'),\n",
       " (0.006052116828774271, 'property_type'),\n",
       " (0.004279947609165976, 'building_ban'),\n",
       " (0.003622788305831662, 'district'),\n",
       " (0.0008557226727345851, 'protection_zone'),\n",
       " (0.0, 'land_use')]"
      ]
     },
     "execution_count": 40,
     "metadata": {},
     "output_type": "execute_result"
    }
   ],
   "source": [
    "sorted(zip(tree_reg_b.feature_importances_, num_attribs + cat_attribs), reverse=True)"
   ]
  },
  {
   "cell_type": "code",
   "execution_count": 43,
   "metadata": {
    "scrolled": true
   },
   "outputs": [
    {
     "data": {
      "text/plain": [
       "[(0.4288235487396782, 'distance_to_center'),\n",
       " (0.1821114197260744, 'year'),\n",
       " (0.160040708816696, 'relative_share'),\n",
       " (0.0871539720064223, 'building_floors'),\n",
       " (0.00010981242060749826, 'land_use'),\n",
       " (0.0, 'district')]"
      ]
     },
     "execution_count": 43,
     "metadata": {},
     "output_type": "execute_result"
    }
   ],
   "source": [
    "sorted(zip(tree_reg_a.feature_importances_, num_attribs + cat_attribs), reverse=True)"
   ]
  },
  {
   "cell_type": "code",
   "execution_count": 41,
   "metadata": {},
   "outputs": [
    {
     "data": {
      "text/plain": [
       "[(0.297501665522286, 'building_floors'),\n",
       " (0.17039672245813714, 'building_year'),\n",
       " (0.006196497132072714, 'property_type'),\n",
       " (0.0059084139932619835, 'contract_type'),\n",
       " (0.00511233604846519, 'building_ban'),\n",
       " (0.004039597495434979, 'district'),\n",
       " (0.0009981690207341094, 'protection_zone'),\n",
       " (5.359427084232771e-06, 'land_use')]"
      ]
     },
     "execution_count": 41,
     "metadata": {},
     "output_type": "execute_result"
    }
   ],
   "source": [
    "sorted(zip(forest_reg_b.feature_importances_, num_attribs + cat_attribs), reverse=True)"
   ]
  },
  {
   "cell_type": "code",
   "execution_count": 44,
   "metadata": {},
   "outputs": [
    {
     "data": {
      "text/plain": [
       "[(0.42822532283669945, 'distance_to_center'),\n",
       " (0.1814231643861969, 'year'),\n",
       " (0.15358685652667442, 'relative_share'),\n",
       " (0.09177652367580746, 'building_floors'),\n",
       " (0.00010555361184959944, 'land_use'),\n",
       " (7.329625804671939e-08, 'district')]"
      ]
     },
     "execution_count": 44,
     "metadata": {},
     "output_type": "execute_result"
    }
   ],
   "source": [
    "sorted(zip(forest_reg_a.feature_importances_, num_attribs + cat_attribs), reverse=True)"
   ]
  },
  {
   "cell_type": "code",
   "execution_count": 46,
   "metadata": {},
   "outputs": [
    {
     "data": {
      "text/html": [
       "<div>\n",
       "<style scoped>\n",
       "    .dataframe tbody tr th:only-of-type {\n",
       "        vertical-align: middle;\n",
       "    }\n",
       "\n",
       "    .dataframe tbody tr th {\n",
       "        vertical-align: top;\n",
       "    }\n",
       "\n",
       "    .dataframe thead th {\n",
       "        text-align: right;\n",
       "    }\n",
       "</style>\n",
       "<table border=\"1\" class=\"dataframe\">\n",
       "  <thead>\n",
       "    <tr style=\"text-align: right;\">\n",
       "      <th></th>\n",
       "      <th>Linear/MSE</th>\n",
       "      <th>Linear/MAE</th>\n",
       "      <th>Ridge/MSE</th>\n",
       "      <th>Ridge/MAE</th>\n",
       "      <th>Lasso/MSE</th>\n",
       "      <th>Lasso/MAE</th>\n",
       "      <th>Tree/MSE</th>\n",
       "      <th>Tree/MAE</th>\n",
       "      <th>Forest/MSE</th>\n",
       "      <th>Forest/MAE</th>\n",
       "    </tr>\n",
       "  </thead>\n",
       "  <tbody>\n",
       "    <tr>\n",
       "      <th>0</th>\n",
       "      <td>216558.587898</td>\n",
       "      <td>343.656663</td>\n",
       "      <td>216794.697258</td>\n",
       "      <td>344.07860</td>\n",
       "      <td>219044.208201</td>\n",
       "      <td>346.466355</td>\n",
       "      <td>280586.307571</td>\n",
       "      <td>368.740114</td>\n",
       "      <td>183794.900856</td>\n",
       "      <td>297.953178</td>\n",
       "    </tr>\n",
       "    <tr>\n",
       "      <th>0</th>\n",
       "      <td>248655.957769</td>\n",
       "      <td>339.963574</td>\n",
       "      <td>248543.291939</td>\n",
       "      <td>339.78874</td>\n",
       "      <td>250681.552118</td>\n",
       "      <td>342.080145</td>\n",
       "      <td>249343.643634</td>\n",
       "      <td>334.718229</td>\n",
       "      <td>219979.578944</td>\n",
       "      <td>317.602263</td>\n",
       "    </tr>\n",
       "  </tbody>\n",
       "</table>\n",
       "</div>"
      ],
      "text/plain": [
       "      Linear/MSE  Linear/MAE      Ridge/MSE  Ridge/MAE      Lasso/MSE  \\\n",
       "0  216558.587898  343.656663  216794.697258  344.07860  219044.208201   \n",
       "0  248655.957769  339.963574  248543.291939  339.78874  250681.552118   \n",
       "\n",
       "    Lasso/MAE       Tree/MSE    Tree/MAE     Forest/MSE  Forest/MAE  \n",
       "0  346.466355  280586.307571  368.740114  183794.900856  297.953178  \n",
       "0  342.080145  249343.643634  334.718229  219979.578944  317.602263  "
      ]
     },
     "execution_count": 46,
     "metadata": {},
     "output_type": "execute_result"
    }
   ],
   "source": [
    "pd.concat([df_a, df_b])"
   ]
  },
  {
   "cell_type": "code",
   "execution_count": null,
   "metadata": {},
   "outputs": [],
   "source": []
  }
 ],
 "metadata": {
  "kernelspec": {
   "display_name": "Python 3",
   "language": "python",
   "name": "python3"
  },
  "language_info": {
   "codemirror_mode": {
    "name": "ipython",
    "version": 3
   },
   "file_extension": ".py",
   "mimetype": "text/x-python",
   "name": "python",
   "nbconvert_exporter": "python",
   "pygments_lexer": "ipython3",
   "version": "3.6.7"
  }
 },
 "nbformat": 4,
 "nbformat_minor": 2
}
