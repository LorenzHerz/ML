{
 "cells": [
  {
   "cell_type": "code",
   "execution_count": 1,
   "metadata": {},
   "outputs": [
    {
     "name": "stderr",
     "output_type": "stream",
     "text": [
      "/usr/lib/python3.6/importlib/_bootstrap.py:219: RuntimeWarning: numpy.dtype size changed, may indicate binary incompatibility. Expected 96, got 88\n",
      "  return f(*args, **kwds)\n",
      "/usr/lib/python3.6/importlib/_bootstrap.py:219: RuntimeWarning: numpy.dtype size changed, may indicate binary incompatibility. Expected 96, got 88\n",
      "  return f(*args, **kwds)\n",
      "/home/loherzberger/Projects/ML/venv/lib/python3.6/site-packages/IPython/core/interactiveshell.py:2785: DtypeWarning: Columns (13) have mixed types. Specify dtype option on import or set low_memory=False.\n",
      "  interactivity=interactivity, compiler=compiler, result=result)\n"
     ]
    }
   ],
   "source": [
    "import os\n",
    "import pandas as pd\n",
    "import numpy as np\n",
    "\n",
    "train_data = pd.read_csv(\"data/training_data_utf8.csv\")\n",
    "val_data = pd.read_csv(\"data/validation_data_utf8.csv\")"
   ]
  },
  {
   "cell_type": "code",
   "execution_count": 2,
   "metadata": {},
   "outputs": [],
   "source": [
    "date = train_data.transaction_ym.apply(pd.to_datetime, format=\"%Y-%m\")\n",
    "relativeShare = train_data.plot_area * train_data.plot_share"
   ]
  },
  {
   "cell_type": "code",
   "execution_count": 3,
   "metadata": {},
   "outputs": [],
   "source": [
    "train_data[\"relativeShare\"] = relativeShare\n",
    "train_data[\"transaction_month\"] = date.dt.month\n",
    "train_data[\"transaction_year\"] = date.dt.year"
   ]
  },
  {
   "cell_type": "code",
   "execution_count": 4,
   "metadata": {},
   "outputs": [
    {
     "data": {
      "text/plain": [
       "(44260, 9)"
      ]
     },
     "execution_count": 4,
     "metadata": {},
     "output_type": "execute_result"
    }
   ],
   "source": [
    "train_data_clean = train_data[[\"price_per_m2\", \"transaction_year\", \"relativeShare\", \"property_type\", \"cadastral\", \"contract_type\", \"land_use\", \"protection_zone\", \"building_ban\"]]\n",
    "train_data_clean = train_data_clean.dropna()\n",
    "train_data_clean.shape"
   ]
  },
  {
   "cell_type": "code",
   "execution_count": 5,
   "metadata": {},
   "outputs": [],
   "source": [
    "#from sklearn.model_selection import train_test_split\n",
    "#train_set, test_set = train_test_split(train_data_clean, test_size=0.2, random_state=42)"
   ]
  },
  {
   "cell_type": "code",
   "execution_count": 6,
   "metadata": {},
   "outputs": [],
   "source": [
    "#data = train_set.drop(\"price_per_m2\", axis=1)\n",
    "#labels = train_set[\"price_per_m2\"].copy()"
   ]
  },
  {
   "cell_type": "code",
   "execution_count": 7,
   "metadata": {},
   "outputs": [],
   "source": [
    "#test_data = test_set.drop(\"price_per_m2\", axis=1)\n",
    "#test_labels = test_set[\"price_per_m2\"].copy()"
   ]
  },
  {
   "cell_type": "code",
   "execution_count": 8,
   "metadata": {},
   "outputs": [],
   "source": [
    "data = train_data_clean.drop(\"price_per_m2\", axis=1)\n",
    "labels = train_data_clean[\"price_per_m2\"].copy()"
   ]
  },
  {
   "cell_type": "code",
   "execution_count": 9,
   "metadata": {},
   "outputs": [],
   "source": [
    "train_data_cat = train_data_clean[[\"property_type\", \"cadastral\", \"contract_type\", \"land_use\", \"protection_zone\", \"building_ban\"]]"
   ]
  },
  {
   "cell_type": "code",
   "execution_count": 10,
   "metadata": {},
   "outputs": [],
   "source": [
    "train_data_num = train_data_clean[[\"transaction_year\", \"relativeShare\"]]"
   ]
  },
  {
   "cell_type": "code",
   "execution_count": 11,
   "metadata": {},
   "outputs": [],
   "source": [
    "from sklearn.pipeline import Pipeline\n",
    "from sklearn.preprocessing import StandardScaler\n",
    "\n",
    "num_pipeline = Pipeline([\n",
    "    ('std_scaler', StandardScaler())\n",
    "])"
   ]
  },
  {
   "cell_type": "code",
   "execution_count": 12,
   "metadata": {},
   "outputs": [],
   "source": [
    "from future_encoders import ColumnTransformer\n",
    "from future_encoders import OneHotEncoder\n",
    "\n",
    "num_attribs = list(train_data_num)\n",
    "cat_attribs = list(train_data_cat)\n",
    "\n",
    "fullPipeline = ColumnTransformer([\n",
    "    (\"num\", num_pipeline, num_attribs),\n",
    "    (\"cat\", OneHotEncoder(), cat_attribs)\n",
    "])"
   ]
  },
  {
   "cell_type": "code",
   "execution_count": 13,
   "metadata": {},
   "outputs": [
    {
     "data": {
      "text/plain": [
       "<44260x177 sparse matrix of type '<class 'numpy.float64'>'\n",
       "\twith 354080 stored elements in Compressed Sparse Row format>"
      ]
     },
     "execution_count": 13,
     "metadata": {},
     "output_type": "execute_result"
    }
   ],
   "source": [
    "data_prepared = fullPipeline.fit_transform(data)\n",
    "data_prepared"
   ]
  },
  {
   "cell_type": "code",
   "execution_count": 14,
   "metadata": {},
   "outputs": [
    {
     "data": {
      "text/plain": [
       "LinearRegression(copy_X=True, fit_intercept=True, n_jobs=1, normalize=False)"
      ]
     },
     "execution_count": 14,
     "metadata": {},
     "output_type": "execute_result"
    }
   ],
   "source": [
    "from sklearn.linear_model import LinearRegression\n",
    "\n",
    "lin_reg = LinearRegression()\n",
    "lin_reg.fit(data_prepared, labels)"
   ]
  },
  {
   "cell_type": "code",
   "execution_count": 15,
   "metadata": {},
   "outputs": [
    {
     "name": "stdout",
     "output_type": "stream",
     "text": [
      "Predictions: [ 934.74582264  778.94789359  911.61095942 1326.79912205  729.22052011]\n",
      "Labels: [224.351483991587, 357.99522673031, 636.474908200734, 906.095551894563, 167.941497856602]\n"
     ]
    }
   ],
   "source": [
    "some_data = data.iloc[:5]\n",
    "some_labels = labels.iloc[:5]\n",
    "some_data_prepared = fullPipeline.transform(some_data)\n",
    "print(\"Predictions:\", lin_reg.predict(some_data_prepared))\n",
    "print('Labels:', list(some_labels))"
   ]
  },
  {
   "cell_type": "code",
   "execution_count": 16,
   "metadata": {},
   "outputs": [
    {
     "data": {
      "text/plain": [
       "1913.4007810532614"
      ]
     },
     "execution_count": 16,
     "metadata": {},
     "output_type": "execute_result"
    }
   ],
   "source": [
    "from sklearn.metrics import mean_squared_error\n",
    "\n",
    "predictions = lin_reg.predict(data_prepared)\n",
    "lin_mse = mean_squared_error(labels, predictions)\n",
    "lin_rmse = np.sqrt(lin_mse)\n",
    "lin_rmse"
   ]
  },
  {
   "cell_type": "code",
   "execution_count": 17,
   "metadata": {},
   "outputs": [
    {
     "name": "stderr",
     "output_type": "stream",
     "text": [
      "/home/loherzberger/Projects/ML/venv/lib/python3.6/site-packages/sklearn/ensemble/weight_boosting.py:29: DeprecationWarning: numpy.core.umath_tests is an internal NumPy module and should not be imported. It will be removed in a future NumPy release.\n",
      "  from numpy.core.umath_tests import inner1d\n"
     ]
    },
    {
     "data": {
      "text/plain": [
       "RandomForestRegressor(bootstrap=True, criterion='mse', max_depth=None,\n",
       "           max_features='auto', max_leaf_nodes=None,\n",
       "           min_impurity_decrease=0.0, min_impurity_split=None,\n",
       "           min_samples_leaf=1, min_samples_split=2,\n",
       "           min_weight_fraction_leaf=0.0, n_estimators=10, n_jobs=1,\n",
       "           oob_score=False, random_state=None, verbose=0, warm_start=False)"
      ]
     },
     "execution_count": 17,
     "metadata": {},
     "output_type": "execute_result"
    }
   ],
   "source": [
    "from sklearn.ensemble import RandomForestRegressor\n",
    "\n",
    "forest_reg = RandomForestRegressor()\n",
    "forest_reg.fit(data_prepared, labels)"
   ]
  },
  {
   "cell_type": "code",
   "execution_count": 18,
   "metadata": {},
   "outputs": [
    {
     "data": {
      "text/plain": [
       "969.1395131829798"
      ]
     },
     "execution_count": 18,
     "metadata": {},
     "output_type": "execute_result"
    }
   ],
   "source": [
    "predictions = forest_reg.predict(data_prepared)\n",
    "for_mse = mean_squared_error(labels, predictions)\n",
    "for_rmse = np.sqrt(for_mse)\n",
    "for_rmse"
   ]
  },
  {
   "cell_type": "code",
   "execution_count": 19,
   "metadata": {},
   "outputs": [],
   "source": [
    "from sklearn.model_selection import cross_val_score\n",
    "\n",
    "scores = cross_val_score(forest_reg, data_prepared, labels, scoring=\"neg_mean_squared_error\", cv=10)\n",
    "forest_rmse_scores = np.sqrt(-scores)"
   ]
  },
  {
   "cell_type": "code",
   "execution_count": 20,
   "metadata": {},
   "outputs": [
    {
     "name": "stdout",
     "output_type": "stream",
     "text": [
      "Scores: [1859.75621004 1540.93139783 2401.95303047 3541.12293652 3194.71085165\n",
      " 1776.9375259  1568.78320759 2238.30434378  779.11014249  639.73088179]\n",
      "Mean: 1954.1340528069577\n",
      "Standard Deviation 883.5572127509997\n"
     ]
    }
   ],
   "source": [
    "def display_scores(scores):\n",
    "    print(\"Scores:\", scores)\n",
    "    print(\"Mean:\", scores.mean())\n",
    "    print(\"Standard Deviation\", scores.std())\n",
    "          \n",
    "display_scores(forest_rmse_scores)"
   ]
  },
  {
   "cell_type": "code",
   "execution_count": 21,
   "metadata": {},
   "outputs": [
    {
     "name": "stdout",
     "output_type": "stream",
     "text": [
      "Scores: [1911.17415989 1472.13277139 2463.94348636 3538.46259706 3244.22729352\n",
      " 1911.32714461 1791.77066719 2234.1690892   772.43435707  850.81724314]\n",
      "Mean: 2019.0458809414783\n",
      "Standard Deviation 857.1297785723642\n"
     ]
    }
   ],
   "source": [
    "scores = cross_val_score(forest_reg, data_prepared, labels, scoring=\"neg_mean_squared_error\", cv=10)\n",
    "linear_rmse_scores = np.sqrt(-scores)\n",
    "\n",
    "display_scores(linear_rmse_scores)"
   ]
  },
  {
   "cell_type": "code",
   "execution_count": 22,
   "metadata": {},
   "outputs": [
    {
     "data": {
      "text/plain": [
       "DecisionTreeRegressor(criterion='mse', max_depth=None, max_features=None,\n",
       "           max_leaf_nodes=None, min_impurity_decrease=0.0,\n",
       "           min_impurity_split=None, min_samples_leaf=1,\n",
       "           min_samples_split=2, min_weight_fraction_leaf=0.0,\n",
       "           presort=False, random_state=None, splitter='best')"
      ]
     },
     "execution_count": 22,
     "metadata": {},
     "output_type": "execute_result"
    }
   ],
   "source": [
    "from sklearn.tree import DecisionTreeRegressor\n",
    "\n",
    "tree_reg = DecisionTreeRegressor()\n",
    "tree_reg.fit(data_prepared, labels)"
   ]
  },
  {
   "cell_type": "code",
   "execution_count": 23,
   "metadata": {},
   "outputs": [
    {
     "data": {
      "text/plain": [
       "78.52238929936152"
      ]
     },
     "execution_count": 23,
     "metadata": {},
     "output_type": "execute_result"
    }
   ],
   "source": [
    "predictions = tree_reg.predict(data_prepared)\n",
    "tree_mse = mean_squared_error(labels, predictions)\n",
    "tree_rmse = np.sqrt(tree_mse)\n",
    "tree_rmse"
   ]
  },
  {
   "cell_type": "code",
   "execution_count": 24,
   "metadata": {},
   "outputs": [
    {
     "name": "stdout",
     "output_type": "stream",
     "text": [
      "Scores: [2159.01377167 1758.13819806 2761.15924266 4064.76756987 5900.21273687\n",
      " 1930.73304866 2298.57661821 2336.46948604  867.83603981  721.72319941]\n",
      "Mean: 2479.8629911261573\n",
      "Standard Deviation 1447.6992072126484\n"
     ]
    }
   ],
   "source": [
    "scores = cross_val_score(tree_reg, data_prepared, labels, scoring=\"neg_mean_squared_error\", cv=10)\n",
    "tree_rmse_scores = np.sqrt(-scores)\n",
    "\n",
    "display_scores(tree_rmse_scores)"
   ]
  },
  {
   "cell_type": "code",
   "execution_count": 25,
   "metadata": {},
   "outputs": [
    {
     "data": {
      "text/plain": [
       "GridSearchCV(cv=5, error_score='raise',\n",
       "       estimator=RandomForestRegressor(bootstrap=True, criterion='mse', max_depth=None,\n",
       "           max_features='auto', max_leaf_nodes=None,\n",
       "           min_impurity_decrease=0.0, min_impurity_split=None,\n",
       "           min_samples_leaf=1, min_samples_split=2,\n",
       "           min_weight_fraction_leaf=0.0, n_estimators=10, n_jobs=1,\n",
       "           oob_score=False, random_state=None, verbose=0, warm_start=False),\n",
       "       fit_params=None, iid=True, n_jobs=1,\n",
       "       param_grid=[{'n_estimators': [3, 10, 30], 'max_features': [2, 4, 6, 8]}, {'bootstrap': [False], 'n_estimators': [3, 10], 'max_features': [2, 3, 4]}],\n",
       "       pre_dispatch='2*n_jobs', refit=True, return_train_score='warn',\n",
       "       scoring='neg_mean_squared_error', verbose=0)"
      ]
     },
     "execution_count": 25,
     "metadata": {},
     "output_type": "execute_result"
    }
   ],
   "source": [
    "from sklearn.model_selection import GridSearchCV\n",
    "\n",
    "param_grid = [\n",
    "    {'n_estimators': [3, 10, 30], 'max_features': [2, 4, 6, 8]},\n",
    "    {'bootstrap': [False], 'n_estimators': [3, 10], 'max_features': [2, 3, 4]}\n",
    "]\n",
    "\n",
    "grid_search = GridSearchCV(forest_reg, param_grid, cv=5, scoring='neg_mean_squared_error')\n",
    "grid_search.fit(data_prepared, labels)"
   ]
  },
  {
   "cell_type": "code",
   "execution_count": 26,
   "metadata": {},
   "outputs": [
    {
     "data": {
      "text/plain": [
       "array([1.36272474e-01, 3.90498914e-01, 4.93669600e-03, 1.53651685e-03,\n",
       "       3.88177736e-02, 5.54947627e-03, 9.71529342e-03, 5.70805554e-07,\n",
       "       5.63513616e-04, 2.19579932e-04, 2.05872045e-03, 2.87530926e-02,\n",
       "       3.25063427e-03, 2.37102723e-04, 1.22032618e-05, 3.58519027e-04,\n",
       "       1.51213869e-04, 1.14314023e-02, 6.26376082e-06, 8.55626984e-03,\n",
       "       5.49750658e-04, 1.19096760e-03, 8.12993880e-04, 2.49420146e-04,\n",
       "       2.67712768e-04, 2.47783311e-04, 1.53017131e-03, 8.66855202e-04,\n",
       "       9.98270099e-04, 2.54879699e-04, 1.52145848e-03, 1.60648804e-03,\n",
       "       9.87106251e-04, 1.43911208e-03, 2.30775303e-04, 3.03011005e-04,\n",
       "       2.86161325e-04, 5.97258421e-04, 1.01930093e-03, 9.23336723e-05,\n",
       "       1.96961145e-04, 3.06516165e-04, 1.87399619e-03, 2.89804119e-03,\n",
       "       5.80503370e-04, 1.09247929e-03, 2.73012167e-04, 1.29236706e-01,\n",
       "       2.79653697e-03, 9.34821392e-04, 1.84796947e-04, 2.28105210e-06,\n",
       "       3.85412655e-03, 2.17416525e-03, 8.09848941e-05, 1.01805184e-03,\n",
       "       1.54622487e-07, 4.08954828e-04, 1.34121713e-04, 3.50733736e-04,\n",
       "       5.43557969e-03, 1.18185585e-03, 1.57153983e-02, 8.15979503e-04,\n",
       "       1.95211738e-03, 6.50338854e-03, 1.14888153e-03, 1.58628668e-03,\n",
       "       6.95466030e-03, 9.87142004e-04, 7.66523924e-05, 4.97152863e-05,\n",
       "       2.74229522e-04, 9.30523862e-04, 8.36388678e-05, 3.05282081e-03,\n",
       "       4.61154362e-04, 2.07786861e-04, 1.11070456e-04, 1.64536268e-03,\n",
       "       8.84453181e-04, 3.48901760e-04, 2.64608579e-04, 2.83477871e-07,\n",
       "       2.80977024e-05, 1.69821079e-03, 1.20074250e-04, 8.60442104e-05,\n",
       "       3.40831110e-05, 4.48101801e-04, 8.58436916e-04, 9.11190262e-04,\n",
       "       1.66645521e-04, 5.77692065e-04, 1.16365756e-03, 4.82391585e-04,\n",
       "       7.51213454e-05, 1.41491002e-02, 2.03386317e-03, 1.61677883e-04,\n",
       "       3.59670237e-05, 3.94202465e-04, 1.23016457e-04, 4.85521061e-05,\n",
       "       7.20051693e-03, 4.83609416e-03, 1.11502102e-07, 8.77626253e-07,\n",
       "       6.67273660e-04, 8.88696016e-04, 4.18034099e-07, 3.19491641e-03,\n",
       "       5.81001747e-04, 4.64991742e-04, 5.42542978e-06, 3.10855657e-05,\n",
       "       6.25071141e-04, 6.10322594e-06, 3.08554499e-08, 3.29699033e-05,\n",
       "       1.13669401e-03, 1.42517809e-06, 1.37184049e-05, 2.06883823e-04,\n",
       "       8.34001391e-05, 1.48500007e-04, 1.03858943e-05, 3.85548182e-07,\n",
       "       1.97400694e-06, 4.70374747e-05, 2.80616037e-04, 5.95113427e-05,\n",
       "       1.81461631e-06, 2.03549402e-05, 3.72521950e-06, 2.22874274e-06,\n",
       "       1.85358378e-06, 1.49654649e-02, 2.26801346e-07, 1.53792944e-05,\n",
       "       1.22511337e-04, 5.44535347e-04, 2.75394709e-05, 9.81051286e-05,\n",
       "       8.63861079e-04, 3.29667230e-07, 4.26259348e-06, 1.03581029e-04,\n",
       "       7.42989143e-05, 2.49035522e-04, 4.18024557e-05, 2.49056602e-05,\n",
       "       2.49641603e-04, 1.30686582e-04, 5.64105618e-05, 4.21040320e-05,\n",
       "       2.09988725e-06, 6.00880314e-06, 8.23385899e-03, 5.12769810e-05,\n",
       "       5.43623573e-03, 7.26029191e-07, 2.26499151e-03, 7.47941900e-03,\n",
       "       5.17172800e-03, 3.19386531e-02, 6.43675720e-04, 1.06720107e-07,\n",
       "       4.84484674e-07, 1.47512413e-05, 2.28577686e-07, 1.33542876e-06,\n",
       "       3.49506699e-06, 5.04617668e-03, 9.35515324e-03, 2.00150265e-03,\n",
       "       3.53271294e-03])"
      ]
     },
     "execution_count": 26,
     "metadata": {},
     "output_type": "execute_result"
    }
   ],
   "source": [
    "feature_importances = grid_search.best_estimator_.feature_importances_\n",
    "feature_importances"
   ]
  },
  {
   "cell_type": "code",
   "execution_count": 27,
   "metadata": {},
   "outputs": [
    {
     "data": {
      "text/plain": [
       "[(0.39049891398502784, 'relativeShare'),\n",
       " (0.13627247418377123, 'transaction_year'),\n",
       " (0.0388177735815147, 'contract_type'),\n",
       " (0.009715293415024603, 'protection_zone'),\n",
       " (0.005549476271041922, 'land_use'),\n",
       " (0.004936695996971335, 'property_type'),\n",
       " (0.0015365168454749144, 'cadastral'),\n",
       " (5.708055538599619e-07, 'building_ban')]"
      ]
     },
     "execution_count": 27,
     "metadata": {},
     "output_type": "execute_result"
    }
   ],
   "source": [
    "attributes = num_attribs + cat_attribs\n",
    "sorted(zip(feature_importances, attributes), reverse=True)"
   ]
  },
  {
   "cell_type": "code",
   "execution_count": 29,
   "metadata": {},
   "outputs": [],
   "source": [
    "train_data_cleaned_further = train_data_clean[[\"price_per_m2\", \"relativeShare\", \"transaction_year\", \"contract_type\", \"protection_zone\", \"land_use\", \"property_type\"]]"
   ]
  },
  {
   "cell_type": "code",
   "execution_count": 30,
   "metadata": {},
   "outputs": [],
   "source": [
    "data_elix = train_data_cleaned_further.drop(\"price_per_m2\", axis=1)\n",
    "labels_elix = train_data_cleaned_further[\"price_per_m2\"].copy()"
   ]
  },
  {
   "cell_type": "code",
   "execution_count": 34,
   "metadata": {},
   "outputs": [],
   "source": [
    "train_data_cat_elix = train_data_cleaned_further[[\"property_type\", \"contract_type\", \"land_use\", \"protection_zone\"]]\n",
    "train_data_num_elix = train_data_cleaned_further[[\"transaction_year\", \"relativeShare\"]]\n",
    "\n",
    "num_attribs_elix = list(train_data_num_elix)\n",
    "cat_attribs_elix = list(train_data_cat_elix)\n",
    "\n",
    "fullPipeline_elix = ColumnTransformer([\n",
    "    (\"num\", num_pipeline, num_attribs_elix),\n",
    "    (\"cat\", OneHotEncoder(), cat_attribs_elix)\n",
    "])"
   ]
  },
  {
   "cell_type": "code",
   "execution_count": 35,
   "metadata": {},
   "outputs": [],
   "source": [
    "data_prepared_elix = fullPipeline_elix.fit_transform(data_elix)"
   ]
  },
  {
   "cell_type": "code",
   "execution_count": 36,
   "metadata": {},
   "outputs": [
    {
     "data": {
      "text/plain": [
       "RandomForestRegressor(bootstrap=True, criterion='mse', max_depth=None,\n",
       "           max_features='auto', max_leaf_nodes=None,\n",
       "           min_impurity_decrease=0.0, min_impurity_split=None,\n",
       "           min_samples_leaf=1, min_samples_split=2,\n",
       "           min_weight_fraction_leaf=0.0, n_estimators=10, n_jobs=1,\n",
       "           oob_score=False, random_state=None, verbose=0, warm_start=False)"
      ]
     },
     "execution_count": 36,
     "metadata": {},
     "output_type": "execute_result"
    }
   ],
   "source": [
    "forest_reg_elix = RandomForestRegressor()\n",
    "forest_reg_elix.fit(data_prepared_elix, labels_elix)"
   ]
  },
  {
   "cell_type": "code",
   "execution_count": 37,
   "metadata": {},
   "outputs": [],
   "source": [
    "scores = cross_val_score(forest_reg_elix, data_prepared_elix, labels_elix, scoring=\"neg_mean_squared_error\", cv=10)\n",
    "forest_rmse_scores_elix = np.sqrt(-scores)"
   ]
  },
  {
   "cell_type": "code",
   "execution_count": 38,
   "metadata": {},
   "outputs": [
    {
     "name": "stdout",
     "output_type": "stream",
     "text": [
      "Scores: [2741.18096957 2215.21314521 2807.61262223 3593.01281605 4346.25589448\n",
      " 1852.67378864 1710.34418982 2274.12936439  788.35924504  729.34234488]\n",
      "Mean: 2305.8124380298477\n",
      "Standard Deviation 1077.900494571515\n"
     ]
    }
   ],
   "source": [
    "display_scores(forest_rmse_scores_elix)"
   ]
  },
  {
   "cell_type": "code",
   "execution_count": null,
   "metadata": {},
   "outputs": [],
   "source": []
  }
 ],
 "metadata": {
  "kernelspec": {
   "display_name": "Python 3",
   "language": "python",
   "name": "python3"
  },
  "language_info": {
   "codemirror_mode": {
    "name": "ipython",
    "version": 3
   },
   "file_extension": ".py",
   "mimetype": "text/x-python",
   "name": "python",
   "nbconvert_exporter": "python",
   "pygments_lexer": "ipython3",
   "version": "3.6.3"
  }
 },
 "nbformat": 4,
 "nbformat_minor": 2
}
