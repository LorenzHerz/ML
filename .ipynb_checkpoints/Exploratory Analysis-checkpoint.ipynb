{
 "cells": [
  {
   "cell_type": "code",
   "execution_count": 1,
   "metadata": {},
   "outputs": [
    {
     "name": "stderr",
     "output_type": "stream",
     "text": [
      "/usr/lib/python3.6/importlib/_bootstrap.py:219: RuntimeWarning: numpy.dtype size changed, may indicate binary incompatibility. Expected 96, got 88\n",
      "  return f(*args, **kwds)\n",
      "/usr/lib/python3.6/importlib/_bootstrap.py:219: RuntimeWarning: numpy.dtype size changed, may indicate binary incompatibility. Expected 96, got 88\n",
      "  return f(*args, **kwds)\n",
      "/home/loherzberger/Projects/ML/venv/lib/python3.6/site-packages/IPython/core/interactiveshell.py:2785: DtypeWarning: Columns (13) have mixed types. Specify dtype option on import or set low_memory=False.\n",
      "  interactivity=interactivity, compiler=compiler, result=result)\n"
     ]
    }
   ],
   "source": [
    "import pandas as pd\n",
    "import numpy as np\n",
    "import matplotlib.pyplot as plt\n",
    "import seaborn as sns\n",
    "\n",
    "data = pd.read_csv(\"data/training_data_utf8.csv\")"
   ]
  },
  {
   "cell_type": "code",
   "execution_count": 2,
   "metadata": {},
   "outputs": [
    {
     "data": {
      "text/plain": [
       "(44366, 18)"
      ]
     },
     "execution_count": 2,
     "metadata": {},
     "output_type": "execute_result"
    }
   ],
   "source": [
    "data.shape"
   ]
  },
  {
   "cell_type": "code",
   "execution_count": 3,
   "metadata": {},
   "outputs": [
    {
     "data": {
      "text/html": [
       "<div>\n",
       "<style scoped>\n",
       "    .dataframe tbody tr th:only-of-type {\n",
       "        vertical-align: middle;\n",
       "    }\n",
       "\n",
       "    .dataframe tbody tr th {\n",
       "        vertical-align: top;\n",
       "    }\n",
       "\n",
       "    .dataframe thead th {\n",
       "        text-align: right;\n",
       "    }\n",
       "</style>\n",
       "<table border=\"1\" class=\"dataframe\">\n",
       "  <thead>\n",
       "    <tr style=\"text-align: right;\">\n",
       "      <th></th>\n",
       "      <th>id</th>\n",
       "      <th>price_per_m2</th>\n",
       "      <th>transaction_ym</th>\n",
       "      <th>plot_area</th>\n",
       "      <th>plot_share</th>\n",
       "      <th>property_type</th>\n",
       "      <th>cadastral</th>\n",
       "      <th>district</th>\n",
       "      <th>contract_type</th>\n",
       "      <th>land_use</th>\n",
       "      <th>land_use_share</th>\n",
       "      <th>protection_zone</th>\n",
       "      <th>building_ban</th>\n",
       "      <th>building_height</th>\n",
       "      <th>building_floors</th>\n",
       "      <th>building_year</th>\n",
       "      <th>longitude</th>\n",
       "      <th>latitude</th>\n",
       "    </tr>\n",
       "  </thead>\n",
       "  <tbody>\n",
       "    <tr>\n",
       "      <th>0</th>\n",
       "      <td>7671</td>\n",
       "      <td>224.351484</td>\n",
       "      <td>2013-12</td>\n",
       "      <td>4279</td>\n",
       "      <td>1.0</td>\n",
       "      <td>Betriebsobjekt</td>\n",
       "      <td>Kagran</td>\n",
       "      <td>Donaustadt</td>\n",
       "      <td>Kaufvertrag</td>\n",
       "      <td>GB</td>\n",
       "      <td>1.00</td>\n",
       "      <td>No</td>\n",
       "      <td>No</td>\n",
       "      <td>NaN</td>\n",
       "      <td>1.0</td>\n",
       "      <td>1990.0</td>\n",
       "      <td>16.464163</td>\n",
       "      <td>48.259071</td>\n",
       "    </tr>\n",
       "    <tr>\n",
       "      <th>1</th>\n",
       "      <td>7672</td>\n",
       "      <td>357.995227</td>\n",
       "      <td>2013-12</td>\n",
       "      <td>838</td>\n",
       "      <td>1.0</td>\n",
       "      <td>Abbruchobjekt</td>\n",
       "      <td>Liesing</td>\n",
       "      <td>Liesing</td>\n",
       "      <td>Kaufvertrag</td>\n",
       "      <td>W</td>\n",
       "      <td>1.00</td>\n",
       "      <td>No</td>\n",
       "      <td>No</td>\n",
       "      <td>10.5</td>\n",
       "      <td>2.0</td>\n",
       "      <td>NaN</td>\n",
       "      <td>16.275103</td>\n",
       "      <td>48.133264</td>\n",
       "    </tr>\n",
       "    <tr>\n",
       "      <th>2</th>\n",
       "      <td>7673</td>\n",
       "      <td>636.474908</td>\n",
       "      <td>2013-12</td>\n",
       "      <td>817</td>\n",
       "      <td>1.0</td>\n",
       "      <td>Ein-, Zweifamilienhaus</td>\n",
       "      <td>Atzgersdorf</td>\n",
       "      <td>Liesing</td>\n",
       "      <td>Kaufvertrag</td>\n",
       "      <td>GB</td>\n",
       "      <td>1.00</td>\n",
       "      <td>No</td>\n",
       "      <td>No</td>\n",
       "      <td>3.5</td>\n",
       "      <td>2.0</td>\n",
       "      <td>NaN</td>\n",
       "      <td>16.296926</td>\n",
       "      <td>48.145348</td>\n",
       "    </tr>\n",
       "    <tr>\n",
       "      <th>3</th>\n",
       "      <td>7674</td>\n",
       "      <td>906.095552</td>\n",
       "      <td>2013-12</td>\n",
       "      <td>607</td>\n",
       "      <td>1.0</td>\n",
       "      <td>Ein-, Zweifamilienhaus</td>\n",
       "      <td>Ottakring</td>\n",
       "      <td>Ottakring</td>\n",
       "      <td>Kaufvertrag</td>\n",
       "      <td>W</td>\n",
       "      <td>1.00</td>\n",
       "      <td>No</td>\n",
       "      <td>No</td>\n",
       "      <td>7.5</td>\n",
       "      <td>2.0</td>\n",
       "      <td>NaN</td>\n",
       "      <td>16.290968</td>\n",
       "      <td>48.217580</td>\n",
       "    </tr>\n",
       "    <tr>\n",
       "      <th>4</th>\n",
       "      <td>7675</td>\n",
       "      <td>167.941498</td>\n",
       "      <td>2013-12</td>\n",
       "      <td>11897</td>\n",
       "      <td>1.0</td>\n",
       "      <td>unbebaut</td>\n",
       "      <td>Groß Jedlersdorf I</td>\n",
       "      <td>Floridsdorf</td>\n",
       "      <td>Kaufvertrag</td>\n",
       "      <td>W</td>\n",
       "      <td>0.19</td>\n",
       "      <td>No</td>\n",
       "      <td>No</td>\n",
       "      <td>NaN</td>\n",
       "      <td>NaN</td>\n",
       "      <td>NaN</td>\n",
       "      <td>16.418471</td>\n",
       "      <td>48.288753</td>\n",
       "    </tr>\n",
       "  </tbody>\n",
       "</table>\n",
       "</div>"
      ],
      "text/plain": [
       "     id  price_per_m2 transaction_ym  plot_area  plot_share  \\\n",
       "0  7671    224.351484        2013-12       4279         1.0   \n",
       "1  7672    357.995227        2013-12        838         1.0   \n",
       "2  7673    636.474908        2013-12        817         1.0   \n",
       "3  7674    906.095552        2013-12        607         1.0   \n",
       "4  7675    167.941498        2013-12      11897         1.0   \n",
       "\n",
       "            property_type           cadastral     district contract_type  \\\n",
       "0          Betriebsobjekt              Kagran   Donaustadt   Kaufvertrag   \n",
       "1           Abbruchobjekt             Liesing      Liesing   Kaufvertrag   \n",
       "2  Ein-, Zweifamilienhaus         Atzgersdorf      Liesing   Kaufvertrag   \n",
       "3  Ein-, Zweifamilienhaus           Ottakring    Ottakring   Kaufvertrag   \n",
       "4                unbebaut  Groß Jedlersdorf I  Floridsdorf   Kaufvertrag   \n",
       "\n",
       "  land_use  land_use_share protection_zone building_ban building_height  \\\n",
       "0       GB            1.00              No           No             NaN   \n",
       "1        W            1.00              No           No            10.5   \n",
       "2       GB            1.00              No           No             3.5   \n",
       "3        W            1.00              No           No             7.5   \n",
       "4        W            0.19              No           No             NaN   \n",
       "\n",
       "   building_floors  building_year  longitude   latitude  \n",
       "0              1.0         1990.0  16.464163  48.259071  \n",
       "1              2.0            NaN  16.275103  48.133264  \n",
       "2              2.0            NaN  16.296926  48.145348  \n",
       "3              2.0            NaN  16.290968  48.217580  \n",
       "4              NaN            NaN  16.418471  48.288753  "
      ]
     },
     "execution_count": 3,
     "metadata": {},
     "output_type": "execute_result"
    }
   ],
   "source": [
    "data.head()"
   ]
  },
  {
   "cell_type": "code",
   "execution_count": 4,
   "metadata": {},
   "outputs": [
    {
     "name": "stdout",
     "output_type": "stream",
     "text": [
      "<class 'pandas.core.frame.DataFrame'>\n",
      "RangeIndex: 44366 entries, 0 to 44365\n",
      "Data columns (total 18 columns):\n",
      "id                 44366 non-null int64\n",
      "price_per_m2       44366 non-null float64\n",
      "transaction_ym     44366 non-null object\n",
      "plot_area          44366 non-null int64\n",
      "plot_share         44366 non-null float64\n",
      "property_type      44366 non-null object\n",
      "cadastral          44366 non-null object\n",
      "district           44294 non-null object\n",
      "contract_type      44366 non-null object\n",
      "land_use           44260 non-null object\n",
      "land_use_share     44320 non-null float64\n",
      "protection_zone    44366 non-null object\n",
      "building_ban       44366 non-null object\n",
      "building_height    7800 non-null object\n",
      "building_floors    18422 non-null float64\n",
      "building_year      14739 non-null float64\n",
      "longitude          32465 non-null float64\n",
      "latitude           32465 non-null float64\n",
      "dtypes: float64(7), int64(2), object(9)\n",
      "memory usage: 6.1+ MB\n"
     ]
    }
   ],
   "source": [
    "data.info()"
   ]
  },
  {
   "cell_type": "code",
   "execution_count": 5,
   "metadata": {},
   "outputs": [
    {
     "data": {
      "text/html": [
       "<div>\n",
       "<style scoped>\n",
       "    .dataframe tbody tr th:only-of-type {\n",
       "        vertical-align: middle;\n",
       "    }\n",
       "\n",
       "    .dataframe tbody tr th {\n",
       "        vertical-align: top;\n",
       "    }\n",
       "\n",
       "    .dataframe thead th {\n",
       "        text-align: right;\n",
       "    }\n",
       "</style>\n",
       "<table border=\"1\" class=\"dataframe\">\n",
       "  <thead>\n",
       "    <tr style=\"text-align: right;\">\n",
       "      <th></th>\n",
       "      <th>id</th>\n",
       "      <th>price_per_m2</th>\n",
       "      <th>plot_area</th>\n",
       "      <th>plot_share</th>\n",
       "      <th>land_use_share</th>\n",
       "      <th>building_floors</th>\n",
       "      <th>building_year</th>\n",
       "      <th>longitude</th>\n",
       "      <th>latitude</th>\n",
       "    </tr>\n",
       "  </thead>\n",
       "  <tbody>\n",
       "    <tr>\n",
       "      <th>count</th>\n",
       "      <td>44366.000000</td>\n",
       "      <td>44366.000000</td>\n",
       "      <td>4.436600e+04</td>\n",
       "      <td>44366.000000</td>\n",
       "      <td>44320.000000</td>\n",
       "      <td>18422.000000</td>\n",
       "      <td>14739.000000</td>\n",
       "      <td>32465.000000</td>\n",
       "      <td>32465.000000</td>\n",
       "    </tr>\n",
       "    <tr>\n",
       "      <th>mean</th>\n",
       "      <td>29853.500000</td>\n",
       "      <td>789.062369</td>\n",
       "      <td>1.880226e+03</td>\n",
       "      <td>0.959631</td>\n",
       "      <td>0.956965</td>\n",
       "      <td>2.063402</td>\n",
       "      <td>1913.283737</td>\n",
       "      <td>16.363182</td>\n",
       "      <td>48.207192</td>\n",
       "    </tr>\n",
       "    <tr>\n",
       "      <th>std</th>\n",
       "      <td>12807.505358</td>\n",
       "      <td>2276.246856</td>\n",
       "      <td>1.064498e+04</td>\n",
       "      <td>0.163726</td>\n",
       "      <td>0.144435</td>\n",
       "      <td>1.902943</td>\n",
       "      <td>37.464120</td>\n",
       "      <td>0.074558</td>\n",
       "      <td>0.039031</td>\n",
       "    </tr>\n",
       "    <tr>\n",
       "      <th>min</th>\n",
       "      <td>7671.000000</td>\n",
       "      <td>0.161937</td>\n",
       "      <td>1.000000e+00</td>\n",
       "      <td>0.000260</td>\n",
       "      <td>0.000000</td>\n",
       "      <td>0.000000</td>\n",
       "      <td>1800.000000</td>\n",
       "      <td>15.605753</td>\n",
       "      <td>47.850748</td>\n",
       "    </tr>\n",
       "    <tr>\n",
       "      <th>25%</th>\n",
       "      <td>18762.250000</td>\n",
       "      <td>181.682084</td>\n",
       "      <td>4.120000e+02</td>\n",
       "      <td>1.000000</td>\n",
       "      <td>1.000000</td>\n",
       "      <td>0.000000</td>\n",
       "      <td>1894.000000</td>\n",
       "      <td>16.310912</td>\n",
       "      <td>48.179708</td>\n",
       "    </tr>\n",
       "    <tr>\n",
       "      <th>50%</th>\n",
       "      <td>29853.500000</td>\n",
       "      <td>354.343664</td>\n",
       "      <td>5.810000e+02</td>\n",
       "      <td>1.000000</td>\n",
       "      <td>1.000000</td>\n",
       "      <td>2.000000</td>\n",
       "      <td>1900.000000</td>\n",
       "      <td>16.352831</td>\n",
       "      <td>48.208886</td>\n",
       "    </tr>\n",
       "    <tr>\n",
       "      <th>75%</th>\n",
       "      <td>40944.750000</td>\n",
       "      <td>726.728429</td>\n",
       "      <td>1.035000e+03</td>\n",
       "      <td>1.000000</td>\n",
       "      <td>1.000000</td>\n",
       "      <td>4.000000</td>\n",
       "      <td>1940.000000</td>\n",
       "      <td>16.407386</td>\n",
       "      <td>48.230576</td>\n",
       "    </tr>\n",
       "    <tr>\n",
       "      <th>max</th>\n",
       "      <td>52036.000000</td>\n",
       "      <td>197628.458498</td>\n",
       "      <td>1.187781e+06</td>\n",
       "      <td>1.000000</td>\n",
       "      <td>1.000000</td>\n",
       "      <td>12.000000</td>\n",
       "      <td>2017.000000</td>\n",
       "      <td>16.572405</td>\n",
       "      <td>48.314311</td>\n",
       "    </tr>\n",
       "  </tbody>\n",
       "</table>\n",
       "</div>"
      ],
      "text/plain": [
       "                 id   price_per_m2     plot_area    plot_share  \\\n",
       "count  44366.000000   44366.000000  4.436600e+04  44366.000000   \n",
       "mean   29853.500000     789.062369  1.880226e+03      0.959631   \n",
       "std    12807.505358    2276.246856  1.064498e+04      0.163726   \n",
       "min     7671.000000       0.161937  1.000000e+00      0.000260   \n",
       "25%    18762.250000     181.682084  4.120000e+02      1.000000   \n",
       "50%    29853.500000     354.343664  5.810000e+02      1.000000   \n",
       "75%    40944.750000     726.728429  1.035000e+03      1.000000   \n",
       "max    52036.000000  197628.458498  1.187781e+06      1.000000   \n",
       "\n",
       "       land_use_share  building_floors  building_year     longitude  \\\n",
       "count    44320.000000     18422.000000   14739.000000  32465.000000   \n",
       "mean         0.956965         2.063402    1913.283737     16.363182   \n",
       "std          0.144435         1.902943      37.464120      0.074558   \n",
       "min          0.000000         0.000000    1800.000000     15.605753   \n",
       "25%          1.000000         0.000000    1894.000000     16.310912   \n",
       "50%          1.000000         2.000000    1900.000000     16.352831   \n",
       "75%          1.000000         4.000000    1940.000000     16.407386   \n",
       "max          1.000000        12.000000    2017.000000     16.572405   \n",
       "\n",
       "           latitude  \n",
       "count  32465.000000  \n",
       "mean      48.207192  \n",
       "std        0.039031  \n",
       "min       47.850748  \n",
       "25%       48.179708  \n",
       "50%       48.208886  \n",
       "75%       48.230576  \n",
       "max       48.314311  "
      ]
     },
     "execution_count": 5,
     "metadata": {},
     "output_type": "execute_result"
    }
   ],
   "source": [
    "data.describe()"
   ]
  },
  {
   "cell_type": "code",
   "execution_count": 6,
   "metadata": {},
   "outputs": [
    {
     "data": {
      "text/html": [
       "<div>\n",
       "<style scoped>\n",
       "    .dataframe tbody tr th:only-of-type {\n",
       "        vertical-align: middle;\n",
       "    }\n",
       "\n",
       "    .dataframe tbody tr th {\n",
       "        vertical-align: top;\n",
       "    }\n",
       "\n",
       "    .dataframe thead th {\n",
       "        text-align: right;\n",
       "    }\n",
       "</style>\n",
       "<table border=\"1\" class=\"dataframe\">\n",
       "  <thead>\n",
       "    <tr style=\"text-align: right;\">\n",
       "      <th></th>\n",
       "      <th>transaction_ym</th>\n",
       "      <th>property_type</th>\n",
       "      <th>cadastral</th>\n",
       "      <th>district</th>\n",
       "      <th>contract_type</th>\n",
       "      <th>land_use</th>\n",
       "      <th>protection_zone</th>\n",
       "      <th>building_ban</th>\n",
       "      <th>building_height</th>\n",
       "    </tr>\n",
       "  </thead>\n",
       "  <tbody>\n",
       "    <tr>\n",
       "      <th>count</th>\n",
       "      <td>44366</td>\n",
       "      <td>44366</td>\n",
       "      <td>44366</td>\n",
       "      <td>44294</td>\n",
       "      <td>44366</td>\n",
       "      <td>44260</td>\n",
       "      <td>44366</td>\n",
       "      <td>44366</td>\n",
       "      <td>7800</td>\n",
       "    </tr>\n",
       "    <tr>\n",
       "      <th>unique</th>\n",
       "      <td>324</td>\n",
       "      <td>16</td>\n",
       "      <td>88</td>\n",
       "      <td>23</td>\n",
       "      <td>11</td>\n",
       "      <td>56</td>\n",
       "      <td>2</td>\n",
       "      <td>2</td>\n",
       "      <td>97</td>\n",
       "    </tr>\n",
       "    <tr>\n",
       "      <th>top</th>\n",
       "      <td>1988-12</td>\n",
       "      <td>unbebaut</td>\n",
       "      <td>Eßling</td>\n",
       "      <td>Donaustadt</td>\n",
       "      <td>Kaufvertrag</td>\n",
       "      <td>WI/GBI</td>\n",
       "      <td>No</td>\n",
       "      <td>No</td>\n",
       "      <td>6.5</td>\n",
       "    </tr>\n",
       "    <tr>\n",
       "      <th>freq</th>\n",
       "      <td>296</td>\n",
       "      <td>15345</td>\n",
       "      <td>2270</td>\n",
       "      <td>8476</td>\n",
       "      <td>38853</td>\n",
       "      <td>12099</td>\n",
       "      <td>43306</td>\n",
       "      <td>43857</td>\n",
       "      <td>2763</td>\n",
       "    </tr>\n",
       "  </tbody>\n",
       "</table>\n",
       "</div>"
      ],
      "text/plain": [
       "       transaction_ym property_type cadastral    district contract_type  \\\n",
       "count           44366         44366     44366       44294         44366   \n",
       "unique            324            16        88          23            11   \n",
       "top           1988-12      unbebaut    Eßling  Donaustadt   Kaufvertrag   \n",
       "freq              296         15345      2270        8476         38853   \n",
       "\n",
       "       land_use protection_zone building_ban building_height  \n",
       "count     44260           44366        44366            7800  \n",
       "unique       56               2            2              97  \n",
       "top      WI/GBI              No           No             6.5  \n",
       "freq      12099           43306        43857            2763  "
      ]
     },
     "execution_count": 6,
     "metadata": {},
     "output_type": "execute_result"
    }
   ],
   "source": [
    "data.describe(include=\"O\")"
   ]
  },
  {
   "cell_type": "code",
   "execution_count": 7,
   "metadata": {},
   "outputs": [],
   "source": [
    "groups = data.groupby([\"property_type\", \"district\"])"
   ]
  },
  {
   "cell_type": "code",
   "execution_count": 8,
   "metadata": {},
   "outputs": [],
   "source": [
    "data = data[data.longitude > 16.0]\n",
    "data = data[data.longitude < 16.55]"
   ]
  },
  {
   "cell_type": "code",
   "execution_count": 9,
   "metadata": {},
   "outputs": [],
   "source": [
    "data = data[data.latitude > 48.0]"
   ]
  },
  {
   "cell_type": "code",
   "execution_count": 10,
   "metadata": {},
   "outputs": [
    {
     "data": {
      "text/plain": [
       "<matplotlib.axes._subplots.AxesSubplot at 0x7ff76b97eef0>"
      ]
     },
     "execution_count": 10,
     "metadata": {},
     "output_type": "execute_result"
    },
    {
     "data": {
      "image/png": "[encoded data removed]",
      "text/plain": [
       "<Figure size 432x288 with 1 Axes>"
      ]
     },
     "metadata": {},
     "output_type": "display_data"
    }
   ],
   "source": [
    "data.plot(kind=\"scatter\", x=\"longitude\", y=\"latitude\", alpha=0.1)"
   ]
  },
  {
   "cell_type": "code",
   "execution_count": 11,
   "metadata": {},
   "outputs": [
    {
     "data": {
      "text/plain": [
       "Eßling                1775\n",
       "Aspern                1243\n",
       "Leopoldstadt          1094\n",
       "Ottakring             1072\n",
       "Mauer                 1041\n",
       "Kagran                 956\n",
       "Inzersdorf             833\n",
       "Landstraße             815\n",
       "Ober St.Veit           796\n",
       "Brigittenau            776\n",
       "Leopoldau              774\n",
       "Margarethen            754\n",
       "Favoriten              722\n",
       "Alsergrund             703\n",
       "Neubau                 698\n",
       "Meidling               668\n",
       "Auhof                  644\n",
       "Hadersdorf             617\n",
       "Simmering              612\n",
       "Hernals                600\n",
       "Hütteldorf             596\n",
       "Mariahilf              527\n",
       "Atzgersdorf            513\n",
       "Dornbach               503\n",
       "Groß Jedlersdorf I     496\n",
       "Währing                480\n",
       "Stammersdorf           407\n",
       "Josefstadt             407\n",
       "Rudolfsheim            402\n",
       "Donaufeld              383\n",
       "                      ... \n",
       "Breitensee             177\n",
       "Heiligenstadt          176\n",
       "Gersthof               176\n",
       "Hietzing               174\n",
       "Süßenbrunn             156\n",
       "Neuwaldegg             148\n",
       "Jedlesee               142\n",
       "Unterbaumgarten        133\n",
       "Unter St.Veit          131\n",
       "Floridsdorf            115\n",
       "Nußdorf                113\n",
       "Kaisermühlen           112\n",
       "Kalksburg              101\n",
       "Obersievering           99\n",
       "Sechshaus               97\n",
       "Weidlingau              90\n",
       "Unterdöbling            89\n",
       "Oberbaumgarten          86\n",
       "Neustift am Walde       84\n",
       "Gaudenzdorf             70\n",
       "Hacking                 58\n",
       "Salmannsdorf            58\n",
       "Rothneusiedl            43\n",
       "Weinhaus                39\n",
       "Kahlenbergerdorf        37\n",
       "Unterlaa                33\n",
       "Albern                  26\n",
       "Josefsdorf               7\n",
       "Rosenberg                2\n",
       "Schönbrunn               1\n",
       "Name: cadastral, Length: 87, dtype: int64"
      ]
     },
     "execution_count": 11,
     "metadata": {},
     "output_type": "execute_result"
    }
   ],
   "source": [
    "data[\"cadastral\"].value_counts()"
   ]
  },
  {
   "cell_type": "code",
   "execution_count": 12,
   "metadata": {},
   "outputs": [
    {
     "data": {
      "text/plain": [
       "Donaustadt      5320\n",
       "Liesing         3618\n",
       "Floridsdorf     3101\n",
       "Hietzing        2316\n",
       "Penzing         2079\n",
       "Favoriten       1620\n",
       "Döbling         1407\n",
       "Ottakring       1322\n",
       "Hernals         1249\n",
       "Meidling        1176\n",
       "Leopoldstadt    1092\n",
       "Währing          952\n",
       "Simmering        945\n",
       "Fünfhaus         866\n",
       "Landstraße       813\n",
       "Brigittenau      754\n",
       "Margareten       747\n",
       "Alsergrund       704\n",
       "Neubau           697\n",
       "Mariahilf        523\n",
       "Josefstadt       402\n",
       "Innere Stadt     374\n",
       "Wieden           328\n",
       "Name: district, dtype: int64"
      ]
     },
     "execution_count": 12,
     "metadata": {},
     "output_type": "execute_result"
    }
   ],
   "source": [
    "data[\"district\"].value_counts()"
   ]
  },
  {
   "cell_type": "code",
   "execution_count": 13,
   "metadata": {},
   "outputs": [
    {
     "data": {
      "text/plain": [
       "Kaufvertrag            29568\n",
       "MA 64-Bescheid           914\n",
       "GRA Beschluss            770\n",
       "Magistratsbeschluss      625\n",
       "GR Beschluss             397\n",
       "Versteigerung            144\n",
       "Tauschvertrag             25\n",
       "Sonstiges                 10\n",
       "Enteig. /Einl.             7\n",
       "KV-Entwurf                 1\n",
       "Baurechtsvertrag           1\n",
       "Name: contract_type, dtype: int64"
      ]
     },
     "execution_count": 13,
     "metadata": {},
     "output_type": "execute_result"
    }
   ],
   "source": [
    "data[\"contract_type\"].value_counts()"
   ]
  },
  {
   "cell_type": "code",
   "execution_count": 14,
   "metadata": {},
   "outputs": [
    {
     "data": {
      "text/plain": [
       "<matplotlib.axes._subplots.AxesSubplot at 0x7ff76985d1d0>"
      ]
     },
     "execution_count": 14,
     "metadata": {},
     "output_type": "execute_result"
    },
    {
     "data": {
      "image/png": "[encoded data removed]",
      "text/plain": [
       "<Figure size 864x576 with 2 Axes>"
      ]
     },
     "metadata": {},
     "output_type": "display_data"
    }
   ],
   "source": [
    "corrmat = data.corr()\n",
    "sns.set_color_codes(\"pastel\")\n",
    "f, ax = plt.subplots(figsize=(12,8))\n",
    "cmap = sns.diverging_palette(240, 10, as_cmap=True)\n",
    "sns.heatmap(corrmat, vmin=-1, square=True, cmap=cmap)"
   ]
  },
  {
   "cell_type": "code",
   "execution_count": 15,
   "metadata": {},
   "outputs": [
    {
     "data": {
      "text/plain": [
       "price_per_m2       1.000000\n",
       "building_floors    0.371624\n",
       "plot_share        -0.001121\n",
       "latitude          -0.009355\n",
       "plot_area         -0.032467\n",
       "longitude         -0.039021\n",
       "land_use_share    -0.046570\n",
       "building_year     -0.050554\n",
       "id                -0.140930\n",
       "Name: price_per_m2, dtype: float64"
      ]
     },
     "execution_count": 15,
     "metadata": {},
     "output_type": "execute_result"
    }
   ],
   "source": [
    "corrmat[\"price_per_m2\"].sort_values(ascending=False)"
   ]
  }
 ],
 "metadata": {
  "kernelspec": {
   "display_name": "Python 3",
   "language": "python",
   "name": "python3"
  },
  "language_info": {
   "codemirror_mode": {
    "name": "ipython",
    "version": 3
   },
   "file_extension": ".py",
   "mimetype": "text/x-python",
   "name": "python",
   "nbconvert_exporter": "python",
   "pygments_lexer": "ipython3",
   "version": "3.6.3"
  }
 },
 "nbformat": 4,
 "nbformat_minor": 2
}
