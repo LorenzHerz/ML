{
 "cells": [
  {
   "cell_type": "code",
   "execution_count": 1,
   "metadata": {},
   "outputs": [
    {
     "name": "stderr",
     "output_type": "stream",
     "text": [
      "/usr/lib/python3.6/importlib/_bootstrap.py:219: RuntimeWarning: numpy.dtype size changed, may indicate binary incompatibility. Expected 96, got 88\n",
      "  return f(*args, **kwds)\n",
      "/usr/lib/python3.6/importlib/_bootstrap.py:219: RuntimeWarning: numpy.dtype size changed, may indicate binary incompatibility. Expected 96, got 88\n",
      "  return f(*args, **kwds)\n"
     ]
    }
   ],
   "source": [
    "import os\n",
    "import pandas as pd\n",
    "import numpy as np\n",
    "import matplotlib.pyplot as plt"
   ]
  },
  {
   "cell_type": "code",
   "execution_count": 2,
   "metadata": {},
   "outputs": [
    {
     "name": "stderr",
     "output_type": "stream",
     "text": [
      "/home/lorenz/Projects/ML/venv/lib/python3.6/site-packages/IPython/core/interactiveshell.py:2785: DtypeWarning: Columns (13) have mixed types. Specify dtype option on import or set low_memory=False.\n",
      "  interactivity=interactivity, compiler=compiler, result=result)\n"
     ]
    }
   ],
   "source": [
    "training_data = pd.read_csv(\"data/training_data_utf8.csv\")"
   ]
  },
  {
   "cell_type": "code",
   "execution_count": 3,
   "metadata": {},
   "outputs": [],
   "source": [
    "val_data = pd.read_csv(\"data/validation_data_utf8.csv\")"
   ]
  },
  {
   "cell_type": "code",
   "execution_count": 6,
   "metadata": {},
   "outputs": [],
   "source": [
    "datum = val_data.transaction_ym.apply(pd.to_datetime, format=\"%Y-%m\")\n",
    "share_neu = val_data.plot_area * val_data.plot_share\n",
    "\n",
    "val_data[\"paidshare\"] = share_neu\n",
    "val_data[\"t_month\"] = datum.dt.month\n",
    "val_data[\"t_year\"] = datum.dt.year\n",
    "\n",
    "val_clean = val_data[[\"id\", \"price_per_m2\",\"t_month\",\"t_year\",\"paidshare\",\"property_type\",\"cadastral\",\"contract_type\",\"protection_zone\",\"building_ban\"]]"
   ]
  },
  {
   "cell_type": "code",
   "execution_count": 7,
   "metadata": {},
   "outputs": [],
   "source": [
    "datum = training_data.transaction_ym.apply(pd.to_datetime,format=\"%Y-%m\")\n",
    "share_neu = training_data.plot_area * training_data.plot_share\n",
    "\n",
    "training_data[\"paidshare\"] = share_neu\n",
    "training_data[\"t_month\"] = datum.dt.month\n",
    "training_data[\"t_year\"] = datum.dt.year\n",
    "\n",
    "training_data_clean = training_data[[\"price_per_m2\",\"t_month\",\"t_year\",\"paidshare\",\"property_type\",\"cadastral\",\"contract_type\",\"protection_zone\",\"building_ban\"]]\n",
    "training_data_clean = training_data_clean.dropna()"
   ]
  },
  {
   "cell_type": "code",
   "execution_count": 8,
   "metadata": {},
   "outputs": [],
   "source": [
    "from sklearn.model_selection import train_test_split\n",
    "train_set, test_set = train_test_split(training_data_clean, test_size=0.2, random_state=42)"
   ]
  },
  {
   "cell_type": "code",
   "execution_count": 9,
   "metadata": {},
   "outputs": [],
   "source": [
    "data = train_set.drop(\"price_per_m2\", axis=1)\n",
    "labels = train_set[\"price_per_m2\"].copy()"
   ]
  },
  {
   "cell_type": "code",
   "execution_count": 10,
   "metadata": {},
   "outputs": [],
   "source": [
    "num_attribs = [\"paidshare\", \"t_year\", \"t_month\"]"
   ]
  },
  {
   "cell_type": "code",
   "execution_count": 11,
   "metadata": {},
   "outputs": [],
   "source": [
    "from sklearn.base import BaseEstimator, TransformerMixin\n",
    "\n",
    "class DataFrameSelector(BaseEstimator, TransformerMixin):\n",
    "    def __init__(self, attribute_names):\n",
    "        self.attribute_names = attribute_names\n",
    "    def fit(self, X, y=None):\n",
    "        return self\n",
    "    def transform(self, X):\n",
    "        return X[self.attribute_names].values"
   ]
  },
  {
   "cell_type": "code",
   "execution_count": 12,
   "metadata": {},
   "outputs": [],
   "source": [
    "from sklearn.preprocessing import LabelBinarizer\n",
    "from sklearn.pipeline import Pipeline\n",
    "\n",
    "class LabelBinarizerPipelineFriendly(LabelBinarizer):\n",
    "    def fit(self, X, y=None):\n",
    "        \"\"\"this would allow us to fit the model based on the X input.\"\"\"\n",
    "        super(LabelBinarizerPipelineFriendly, self).fit(X)\n",
    "    def transform(self, X, y=None):\n",
    "        return super(LabelBinarizerPipelineFriendly, self).transform(X)\n",
    "\n",
    "    def fit_transform(self, X, y=None):\n",
    "        return super(LabelBinarizerPipelineFriendly, self).fit(X).transform(X)"
   ]
  },
  {
   "cell_type": "code",
   "execution_count": 14,
   "metadata": {},
   "outputs": [],
   "source": [
    "prop_pipeline = Pipeline([\n",
    "    (\"selector\", DataFrameSelector(\"property_type\")),\n",
    "    (\"label_binarizer\", LabelBinarizerPipelineFriendly()),\n",
    "])\n",
    "cada_pipeline = Pipeline([\n",
    "    (\"selector\", DataFrameSelector(\"cadastral\")),\n",
    "    (\"label_binarizer\", LabelBinarizerPipelineFriendly()),\n",
    "])\n",
    "cont_pipeline = Pipeline([\n",
    "    (\"selector\", DataFrameSelector(\"contract_type\")),\n",
    "    (\"label_binarizer\", LabelBinarizerPipelineFriendly()),\n",
    "])\n",
    "prot_pipeline = Pipeline([\n",
    "    (\"selector\", DataFrameSelector(\"protection_zone\")),\n",
    "    (\"label_binarizer\", LabelBinarizerPipelineFriendly()),\n",
    "])\n",
    "buil_pipeline = Pipeline([\n",
    "    (\"selector\", DataFrameSelector(\"building_ban\")),\n",
    "    (\"label_binarizer\", LabelBinarizerPipelineFriendly()),\n",
    "])\n",
    "num_pipeline = Pipeline([\n",
    "    (\"selector\", DataFrameSelector(num_attribs))\n",
    "])"
   ]
  },
  {
   "cell_type": "code",
   "execution_count": 15,
   "metadata": {},
   "outputs": [],
   "source": [
    "from sklearn.pipeline import FeatureUnion\n",
    "\n",
    "full_pipeline = FeatureUnion(transformer_list=[\n",
    "    (\"num_pipeline\", num_pipeline),\n",
    "    (\"property_type_transform\", prop_pipeline),\n",
    "    (\"cadastral_transform\", cada_pipeline),\n",
    "    (\"contract_type_transform\", cont_pipeline),\n",
    "    (\"protection_zone_transform\", prot_pipeline),\n",
    "    (\"building_type\", buil_pipeline)\n",
    "])"
   ]
  },
  {
   "cell_type": "code",
   "execution_count": 16,
   "metadata": {},
   "outputs": [],
   "source": [
    "data_prepared = full_pipeline.fit_transform(data)"
   ]
  },
  {
   "cell_type": "code",
   "execution_count": 17,
   "metadata": {},
   "outputs": [
    {
     "name": "stderr",
     "output_type": "stream",
     "text": [
      "/home/lorenz/Projects/ML/venv/lib/python3.6/site-packages/sklearn/ensemble/weight_boosting.py:29: DeprecationWarning: numpy.core.umath_tests is an internal NumPy module and should not be imported. It will be removed in a future NumPy release.\n",
      "  from numpy.core.umath_tests import inner1d\n"
     ]
    },
    {
     "data": {
      "text/plain": [
       "RandomForestRegressor(bootstrap=True, criterion='mse', max_depth=None,\n",
       "           max_features='auto', max_leaf_nodes=None,\n",
       "           min_impurity_decrease=0.0, min_impurity_split=None,\n",
       "           min_samples_leaf=1, min_samples_split=2,\n",
       "           min_weight_fraction_leaf=0.0, n_estimators=10, n_jobs=1,\n",
       "           oob_score=False, random_state=None, verbose=0, warm_start=False)"
      ]
     },
     "execution_count": 17,
     "metadata": {},
     "output_type": "execute_result"
    }
   ],
   "source": [
    "from sklearn.model_selection import cross_val_score\n",
    "from sklearn.ensemble import RandomForestRegressor\n",
    "\n",
    "forest_reg =  RandomForestRegressor()\n",
    "forest_reg.fit(data_prepared, labels)"
   ]
  },
  {
   "cell_type": "code",
   "execution_count": 18,
   "metadata": {},
   "outputs": [],
   "source": [
    "scores = cross_val_score(forest_reg, data_prepared, labels, scoring=\"neg_mean_squared_error\", cv=10)\n",
    "forest_rmse_scores = np.sqrt(-scores)"
   ]
  },
  {
   "cell_type": "code",
   "execution_count": 19,
   "metadata": {},
   "outputs": [
    {
     "name": "stdout",
     "output_type": "stream",
     "text": [
      "Scores: [1087.36449437 2826.57960201 1719.91203808 3952.50175059 1227.11987126\n",
      " 2238.81368246 2562.19823843 1503.41502159 3649.21316551 1928.16769444]\n",
      "Mean: 2269.528555874026\n",
      "Standard Deviation 928.5739844833809\n"
     ]
    }
   ],
   "source": [
    "def display_scores(scores):\n",
    "    print(\"Scores:\", scores)\n",
    "    print(\"Mean:\", scores.mean())\n",
    "    print(\"Standard Deviation\", scores.std())\n",
    "          \n",
    "display_scores(forest_rmse_scores)"
   ]
  },
  {
   "cell_type": "code",
   "execution_count": 20,
   "metadata": {},
   "outputs": [
    {
     "data": {
      "text/plain": [
       "LinearRegression(copy_X=True, fit_intercept=True, n_jobs=1, normalize=False)"
      ]
     },
     "execution_count": 20,
     "metadata": {},
     "output_type": "execute_result"
    }
   ],
   "source": [
    "from sklearn.linear_model import LinearRegression\n",
    "\n",
    "lin_reg = LinearRegression()\n",
    "lin_reg.fit(data_prepared, labels)"
   ]
  },
  {
   "cell_type": "code",
   "execution_count": 21,
   "metadata": {},
   "outputs": [
    {
     "name": "stdout",
     "output_type": "stream",
     "text": [
      "Scores: [1088.2915068  2610.87181706 1290.51609061 2626.97217855 1297.55595566\n",
      " 2270.65086262 1866.21666916 1513.93304669 3503.24130927 1277.31737305]\n",
      "Mean: 1934.5566809474526\n",
      "Standard Deviation 752.3864169751598\n"
     ]
    }
   ],
   "source": [
    "lin_scores = cross_val_score(lin_reg, data_prepared, labels, scoring=\"neg_mean_squared_error\", cv=10)\n",
    "lin_rmse_scores = np.sqrt(-lin_scores)\n",
    "\n",
    "display_scores(lin_rmse_scores)"
   ]
  },
  {
   "cell_type": "code",
   "execution_count": 22,
   "metadata": {},
   "outputs": [],
   "source": [
    "test_data = test_set.drop(\"price_per_m2\", axis=1)\n",
    "test_labels = test_set[\"price_per_m2\"].copy()\n",
    "test_prepared = full_pipeline.transform(test_data)"
   ]
  },
  {
   "cell_type": "code",
   "execution_count": 23,
   "metadata": {},
   "outputs": [
    {
     "name": "stdout",
     "output_type": "stream",
     "text": [
      "1219.7914318570308 1263.4651085140335\n"
     ]
    }
   ],
   "source": [
    "from sklearn.metrics import mean_squared_error\n",
    "\n",
    "predictlin = lin_reg.predict(test_prepared)\n",
    "predictforest = forest_reg.predict(test_prepared)\n",
    "\n",
    "lin_final_mse = mean_squared_error(test_labels, predictlin)\n",
    "for_final_mse = mean_squared_error(test_labels, predictforest)\n",
    "\n",
    "lin_rmse = np.sqrt(lin_final_mse)\n",
    "forest_rmse = np.sqrt(for_final_mse)\n",
    "\n",
    "print (lin_rmse, forest_rmse)"
   ]
  },
  {
   "cell_type": "code",
   "execution_count": 24,
   "metadata": {},
   "outputs": [],
   "source": [
    "val_prepared = full_pipeline.transform(val_clean)"
   ]
  },
  {
   "cell_type": "code",
   "execution_count": 25,
   "metadata": {},
   "outputs": [],
   "source": [
    "predictions = forest_reg.predict(val_prepared)"
   ]
  },
  {
   "cell_type": "code",
   "execution_count": 26,
   "metadata": {},
   "outputs": [
    {
     "name": "stderr",
     "output_type": "stream",
     "text": [
      "/home/lorenz/Projects/ML/venv/lib/python3.6/site-packages/ipykernel_launcher.py:1: SettingWithCopyWarning: \n",
      "A value is trying to be set on a copy of a slice from a DataFrame.\n",
      "Try using .loc[row_indexer,col_indexer] = value instead\n",
      "\n",
      "See the caveats in the documentation: http://pandas.pydata.org/pandas-docs/stable/indexing.html#indexing-view-versus-copy\n",
      "  \"\"\"Entry point for launching an IPython kernel.\n"
     ]
    }
   ],
   "source": [
    "val_clean[\"res\"] = predictions\n",
    "val_clean[[\"id\",\"res\"]].set_index(\"id\").to_csv(\"data/prediction.csv\")"
   ]
  },
  {
   "cell_type": "code",
   "execution_count": null,
   "metadata": {},
   "outputs": [],
   "source": []
  }
 ],
 "metadata": {
  "kernelspec": {
   "display_name": "Python 3",
   "language": "python",
   "name": "python3"
  },
  "language_info": {
   "codemirror_mode": {
    "name": "ipython",
    "version": 3
   },
   "file_extension": ".py",
   "mimetype": "text/x-python",
   "name": "python",
   "nbconvert_exporter": "python",
   "pygments_lexer": "ipython3",
   "version": "3.6.3"
  }
 },
 "nbformat": 4,
 "nbformat_minor": 2
}
