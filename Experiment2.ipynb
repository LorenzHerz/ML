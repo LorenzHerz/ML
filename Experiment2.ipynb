{
 "cells": [
  {
   "cell_type": "code",
   "execution_count": 1,
   "metadata": {},
   "outputs": [
    {
     "name": "stderr",
     "output_type": "stream",
     "text": [
      "/usr/lib/python3.6/importlib/_bootstrap.py:219: RuntimeWarning: numpy.dtype size changed, may indicate binary incompatibility. Expected 96, got 88\n",
      "  return f(*args, **kwds)\n",
      "/usr/lib/python3.6/importlib/_bootstrap.py:219: RuntimeWarning: numpy.dtype size changed, may indicate binary incompatibility. Expected 96, got 88\n",
      "  return f(*args, **kwds)\n",
      "/home/loherzberger/Projects/ML/venv/lib/python3.6/site-packages/IPython/core/interactiveshell.py:2785: DtypeWarning: Columns (13) have mixed types. Specify dtype option on import or set low_memory=False.\n",
      "  interactivity=interactivity, compiler=compiler, result=result)\n"
     ]
    }
   ],
   "source": [
    "import pandas as pd\n",
    "import numpy as np\n",
    "\n",
    "#read data from csv\n",
    "data = pd.read_csv(\"data/training_data_utf8.csv\")"
   ]
  },
  {
   "cell_type": "code",
   "execution_count": 2,
   "metadata": {},
   "outputs": [],
   "source": [
    "#define function to transform long/lat to distance\n",
    "from math import radians, cos, sin, asin, sqrt\n",
    "def haversine(lon1, lat1, lon2, lat2):\n",
    "    \"\"\"\n",
    "    Calculate the great circle distance between two points \n",
    "    on the earth (specified in decimal degrees)\n",
    "    \"\"\"\n",
    "    # convert decimal degrees to radians \n",
    "    lon1, lat1, lon2, lat2 = map(radians, [lon1, lat1, lon2, lat2])\n",
    "    # haversine formula \n",
    "    dlon = lon2 - lon1 \n",
    "    dlat = lat2 - lat1 \n",
    "    a = sin(dlat/2)**2 + cos(lat1) * cos(lat2) * sin(dlon/2)**2\n",
    "    c = 2 * asin(sqrt(a)) \n",
    "    km = 6367 * c\n",
    "    return km"
   ]
  },
  {
   "cell_type": "code",
   "execution_count": 3,
   "metadata": {},
   "outputs": [],
   "source": [
    "#define long/lat center of vienna\n",
    "latitude_center = 48.210033\n",
    "longitude_center = 16.363449"
   ]
  },
  {
   "cell_type": "code",
   "execution_count": 4,
   "metadata": {},
   "outputs": [],
   "source": [
    "#create new column distance_to_center\n",
    "for index, row in data.iterrows():\n",
    "    data.loc[index, 'distance_to_center'] = haversine(row['longitude'], row['latitude'], longitude_center, latitude_center)"
   ]
  },
  {
   "cell_type": "code",
   "execution_count": 5,
   "metadata": {},
   "outputs": [],
   "source": [
    "#extract year from transaction_ym\n",
    "date = data.transaction_ym.apply(pd.to_datetime, format=\"%Y-%m\")\n",
    "\n",
    "data[\"year\"] = date.dt.year"
   ]
  },
  {
   "cell_type": "code",
   "execution_count": 6,
   "metadata": {},
   "outputs": [],
   "source": [
    "#create new column relative_share\n",
    "relative_share = data.plot_area * data.plot_share\n",
    "data[\"relative_share\"] = relative_share"
   ]
  },
  {
   "cell_type": "code",
   "execution_count": 7,
   "metadata": {},
   "outputs": [],
   "source": [
    "#fill NA/NaN with mean\n",
    "data = data.fillna(data.mean())"
   ]
  },
  {
   "cell_type": "code",
   "execution_count": 8,
   "metadata": {},
   "outputs": [],
   "source": [
    "data[\"land_use\"] = data[\"land_use\"].astype(str)\n",
    "data[\"district\"] = data[\"district\"].astype(str)\n",
    "data[\"property_type\"] = data[\"property_type\"].astype(str)\n",
    "data[\"contract_type\"] = data[\"contract_type\"].astype(str)\n",
    "data[\"protection_zone\"] = data[\"protection_zone\"].astype(str)\n",
    "data[\"building_ban\"] = data[\"building_ban\"].astype(str)"
   ]
  },
  {
   "cell_type": "code",
   "execution_count": 9,
   "metadata": {},
   "outputs": [],
   "source": [
    "#split data into training and test data\n",
    "data_train = data[data.year <= 2010]\n",
    "data_test = data[data.year > 2010]"
   ]
  },
  {
   "cell_type": "code",
   "execution_count": 10,
   "metadata": {},
   "outputs": [
    {
     "name": "stderr",
     "output_type": "stream",
     "text": [
      "/home/loherzberger/Projects/ML/venv/lib/python3.6/site-packages/ipykernel_launcher.py:2: UserWarning: Boolean Series key will be reindexed to match DataFrame index.\n",
      "  \n"
     ]
    },
    {
     "data": {
      "text/plain": [
       "(44366, 21)"
      ]
     },
     "execution_count": 10,
     "metadata": {},
     "output_type": "execute_result"
    }
   ],
   "source": [
    "#filter outliers\n",
    "data_train = data_train[data.distance_to_center < 15]\n",
    "#data_train = data_train[data.price_per_m2 < 10000]\n",
    "data.shape"
   ]
  },
  {
   "cell_type": "code",
   "execution_count": 11,
   "metadata": {},
   "outputs": [
    {
     "data": {
      "text/plain": [
       "(40047, 21)"
      ]
     },
     "execution_count": 11,
     "metadata": {},
     "output_type": "execute_result"
    }
   ],
   "source": [
    "#display shape of training data\n",
    "data_train.shape"
   ]
  },
  {
   "cell_type": "code",
   "execution_count": 12,
   "metadata": {},
   "outputs": [
    {
     "data": {
      "text/plain": [
       "(4316, 21)"
      ]
     },
     "execution_count": 12,
     "metadata": {},
     "output_type": "execute_result"
    }
   ],
   "source": [
    "#display shape of testing data\n",
    "data_test.shape"
   ]
  },
  {
   "cell_type": "code",
   "execution_count": 13,
   "metadata": {},
   "outputs": [],
   "source": [
    "#define numerical and categorical pipeline\n",
    "from sklearn.pipeline import Pipeline\n",
    "from sklearn.preprocessing import StandardScaler\n",
    "from future_encoders import OneHotEncoder\n",
    "\n",
    "num_pipeline = Pipeline([\n",
    "    ('std_scaler', StandardScaler())\n",
    "])\n",
    "\n",
    "cat_pipeline = Pipeline([\n",
    "    ('one_hot', OneHotEncoder())\n",
    "])"
   ]
  },
  {
   "cell_type": "code",
   "execution_count": 14,
   "metadata": {},
   "outputs": [],
   "source": [
    "#define features for pipeline A\n",
    "#pip_data_a = data[[\"building_floors\", \"year\", \"distance_to_center\", \"land_use\", \"relative_share\", \"district\"]]\n",
    "pip_data_a = data[[\"building_floors\", \"year\", \"distance_to_center\", \"relative_share\"]]\n",
    "pip_data_a_num = data[[\"year\", \"distance_to_center\", \"building_floors\", \"relative_share\"]]\n",
    "#pip_data_a_cat = data[[\"land_use\", \"district\"]]"
   ]
  },
  {
   "cell_type": "code",
   "execution_count": 15,
   "metadata": {},
   "outputs": [
    {
     "data": {
      "text/plain": [
       "array([[ 1.72687487,  1.07481832, -0.86724244,  0.2488543 ],\n",
       "       [ 1.72687487,  1.61541514, -0.05170695, -0.0859057 ],\n",
       "       [ 1.72687487,  0.89049187, -0.05170695, -0.0879487 ],\n",
       "       ...,\n",
       "       [-1.55580778, -0.94233947,  0.        , -0.01449802],\n",
       "       [-1.55580778,  0.        ,  0.        ,  0.08502523],\n",
       "       [-1.55580778,  0.        ,  0.        ,  0.71640926]])"
      ]
     },
     "execution_count": 15,
     "metadata": {},
     "output_type": "execute_result"
    }
   ],
   "source": [
    "#define full_pipeline_a for training data_a\n",
    "from future_encoders import ColumnTransformer\n",
    "\n",
    "num_attribs = list(pip_data_a_num)\n",
    "#cat_attribs = list(pip_data_a_cat)\n",
    "\n",
    "full_pipeline_a = ColumnTransformer([\n",
    "    ('num', num_pipeline, num_attribs),\n",
    "#    ('cat', cat_pipeline, cat_attribs)\n",
    "])\n",
    "\n",
    "full_pipeline_a.fit_transform(pip_data_a)"
   ]
  },
  {
   "cell_type": "code",
   "execution_count": 16,
   "metadata": {},
   "outputs": [],
   "source": [
    "#define training data for pipeline A\n",
    "data_train_a = data_train[[\"price_per_m2\", \"building_floors\", \"year\", \"distance_to_center\", \"land_use\", \"relative_share\", \"district\"]]\n",
    "\n",
    "data_train_labels_a = data_train_a[\"price_per_m2\"].copy()\n",
    "data_train_a = data_train_a.drop(\"price_per_m2\", axis=1)"
   ]
  },
  {
   "cell_type": "code",
   "execution_count": 17,
   "metadata": {},
   "outputs": [],
   "source": [
    "#define features for pipeline B\n",
    "pip_data_b = data[[\"price_per_m2\", \"property_type\",\"district\",\"contract_type\",\"protection_zone\",\"building_ban\", \"building_floors\", \"building_year\", \"land_use\"]]\n",
    "pip_data_b_num = data[[\"building_floors\", \"building_year\"]]\n",
    "pip_data_b_cat = data[[\"property_type\",\"district\",\"contract_type\",\"protection_zone\",\"building_ban\", \"land_use\"]]"
   ]
  },
  {
   "cell_type": "code",
   "execution_count": 18,
   "metadata": {},
   "outputs": [
    {
     "data": {
      "text/plain": [
       "<44366x114 sparse matrix of type '<class 'numpy.float64'>'\n",
       "\twith 328984 stored elements in Compressed Sparse Row format>"
      ]
     },
     "execution_count": 18,
     "metadata": {},
     "output_type": "execute_result"
    }
   ],
   "source": [
    "#define full_pipeline_b for training data_b\n",
    "num_attribs = list(pip_data_b_num)\n",
    "cat_attribs = list(pip_data_b_cat)\n",
    "\n",
    "full_pipeline_b = ColumnTransformer([\n",
    "    ('num', num_pipeline, num_attribs),\n",
    "    ('cat', cat_pipeline, cat_attribs)\n",
    "])\n",
    "\n",
    "full_pipeline_b.fit_transform(pip_data_b)"
   ]
  },
  {
   "cell_type": "code",
   "execution_count": 19,
   "metadata": {},
   "outputs": [],
   "source": [
    "#define training data for pipeline B\n",
    "data_train_b = data_train[[\"price_per_m2\", \"property_type\",\"district\",\"contract_type\",\"protection_zone\",\"building_ban\", \"building_floors\", \"building_year\", \"land_use\"]]\n",
    "data_train_b_num = data_train[[\"building_floors\", \"building_year\"]]\n",
    "data_train_b_cat = data_train[[\"property_type\",\"district\",\"contract_type\",\"protection_zone\",\"building_ban\", \"land_use\"]]\n",
    "\n",
    "data_train_labels_b = data_train_b[\"price_per_m2\"].copy()\n",
    "data_train_b = data_train_b.drop(\"price_per_m2\", axis=1)"
   ]
  },
  {
   "cell_type": "code",
   "execution_count": 20,
   "metadata": {},
   "outputs": [],
   "source": [
    "#fit data_a and data_b\n",
    "data_train_prep_a = full_pipeline_a.transform(data_train_a)\n",
    "data_train_prep_b = full_pipeline_b.transform(data_train_b)"
   ]
  },
  {
   "cell_type": "code",
   "execution_count": 21,
   "metadata": {},
   "outputs": [],
   "source": [
    "#declare diplay_scores function for model evaluation\n",
    "from sklearn.model_selection import cross_val_score\n",
    "\n",
    "def display_scores(scores):\n",
    "    print(\"Scores:\", scores)\n",
    "    print(\"Mean:\", scores.mean())\n",
    "    print(\"Standard Deviation\", scores.std())"
   ]
  },
  {
   "cell_type": "code",
   "execution_count": 22,
   "metadata": {},
   "outputs": [
    {
     "name": "stdout",
     "output_type": "stream",
     "text": [
      "Scores: [1938.78364946 2727.41746368 1626.53015499 3963.99566826 1193.14384089\n",
      " 2137.41860248 2439.89859553 1171.36736828  828.87043603  687.20217617]\n",
      "Mean: 1871.4627955760286\n",
      "Standard Deviation 949.1812428222001\n"
     ]
    }
   ],
   "source": [
    "#train and cv linear regression for data_prep_a\n",
    "from sklearn.linear_model import LinearRegression\n",
    "\n",
    "lin_reg_a = LinearRegression()\n",
    "lin_reg_a.fit(data_train_prep_a, data_train_labels_a)\n",
    "\n",
    "scores = cross_val_score(lin_reg_a, data_train_prep_a, data_train_labels_a, scoring=\"neg_mean_squared_error\", cv=10)\n",
    "lin_reg_rmse_scores_a = np.sqrt(-scores)\n",
    "\n",
    "display_scores(lin_reg_rmse_scores_a)"
   ]
  },
  {
   "cell_type": "code",
   "execution_count": 23,
   "metadata": {},
   "outputs": [
    {
     "name": "stdout",
     "output_type": "stream",
     "text": [
      "Scores: [1530.62318724 2333.04066478 1292.97300724 3838.08286767  965.79040051\n",
      " 2037.78050413 2345.13054515  881.67957723  755.61050253  877.97949989]\n",
      "Mean: 1685.8690756368073\n",
      "Standard Deviation 920.3853456417961\n"
     ]
    }
   ],
   "source": [
    "#train and cv linear regression for data_prep_b\n",
    "lin_reg_b = LinearRegression()\n",
    "lin_reg_b.fit(data_train_prep_b, data_train_labels_b)\n",
    "\n",
    "scores = cross_val_score(lin_reg_b, data_train_prep_b, data_train_labels_b, scoring=\"neg_mean_squared_error\", cv=10)\n",
    "lin_reg_rmse_scores_b = np.sqrt(-scores)\n",
    "\n",
    "display_scores(lin_reg_rmse_scores_b)"
   ]
  },
  {
   "cell_type": "code",
   "execution_count": 24,
   "metadata": {},
   "outputs": [
    {
     "name": "stdout",
     "output_type": "stream",
     "text": [
      "Scores: [1938.78711437 2727.42103499 1626.5286074  3963.99477306 1193.12659863\n",
      " 2137.41564064 2439.89866815 1171.3669052   828.87023997  687.20317992]\n",
      "Mean: 1871.4612762335692\n",
      "Standard Deviation 949.1825160601202\n"
     ]
    }
   ],
   "source": [
    "#train and cv ridge regression for data_prep_a\n",
    "from sklearn.linear_model import Ridge\n",
    "\n",
    "ridge_reg_a = Ridge(alpha=0.9)\n",
    "ridge_reg_a.fit(data_train_prep_a, data_train_labels_a)\n",
    "\n",
    "scores = cross_val_score(ridge_reg_a, data_train_prep_a, data_train_labels_a, scoring=\"neg_mean_squared_error\", cv=10)\n",
    "ridge_reg_rmse_scores_a = np.sqrt(-scores)\n",
    "\n",
    "display_scores(ridge_reg_rmse_scores_a)"
   ]
  },
  {
   "cell_type": "code",
   "execution_count": 25,
   "metadata": {},
   "outputs": [
    {
     "name": "stdout",
     "output_type": "stream",
     "text": [
      "Scores: [1532.09097864 2334.20291848 1292.84118436 3837.92273394  965.08461571\n",
      " 2037.52001112 2344.93578261  881.13481921  754.73577746  876.84057158]\n",
      "Mean: 1685.7309393097203\n",
      "Standard Deviation 920.6780795024581\n"
     ]
    }
   ],
   "source": [
    "#train and cv ridge regression for data_prep_b\n",
    "ridge_reg_b = Ridge(alpha=0.9)\n",
    "ridge_reg_b.fit(data_train_prep_b, data_train_labels_b)\n",
    "\n",
    "scores = cross_val_score(ridge_reg_b, data_train_prep_b, data_train_labels_b, scoring=\"neg_mean_squared_error\", cv=10)\n",
    "ridge_reg_rmse_scores_b = np.sqrt(-scores)\n",
    "\n",
    "display_scores(ridge_reg_rmse_scores_b)"
   ]
  },
  {
   "cell_type": "code",
   "execution_count": 26,
   "metadata": {},
   "outputs": [
    {
     "name": "stdout",
     "output_type": "stream",
     "text": [
      "Scores: [1938.91993217 2727.57792782 1626.41862789 3963.98621934 1192.64587886\n",
      " 2137.3447334  2439.90564031 1171.22639213  828.91361439  687.42564777]\n",
      "Mean: 1871.4364614074243\n",
      "Standard Deviation 949.2092057817932\n"
     ]
    }
   ],
   "source": [
    "#train and cv lasso regression for data_prep_a\n",
    "from sklearn.linear_model import Lasso\n",
    "\n",
    "lasso_reg_a = Lasso(alpha=0.5)\n",
    "lasso_reg_a.fit(data_train_prep_a, data_train_labels_a)\n",
    "\n",
    "scores = cross_val_score(lasso_reg_a, data_train_prep_a, data_train_labels_a, scoring=\"neg_mean_squared_error\", cv=10)\n",
    "lasso_reg_rmse_scores_a = np.sqrt(-scores)\n",
    "\n",
    "display_scores(lasso_reg_rmse_scores_a)"
   ]
  },
  {
   "cell_type": "code",
   "execution_count": 27,
   "metadata": {},
   "outputs": [
    {
     "name": "stdout",
     "output_type": "stream",
     "text": [
      "Scores: [1541.6171925  2340.68880413 1291.44023273 3837.99417163  962.94445036\n",
      " 2037.64196021 2343.41541825  879.52598942  749.62074051  871.59892769]\n",
      "Mean: 1685.6487887443704\n",
      "Standard Deviation 922.2435089845777\n"
     ]
    }
   ],
   "source": [
    "#train and cv lasso regression for data_prep_b\n",
    "lasso_reg_b = Lasso(alpha=0.5)\n",
    "lasso_reg_b.fit(data_train_prep_b, data_train_labels_b)\n",
    "\n",
    "scores = cross_val_score(lasso_reg_b, data_train_prep_b, data_train_labels_b, scoring=\"neg_mean_squared_error\", cv=10)\n",
    "lasso_reg_rmse_scores_b = np.sqrt(-scores)\n",
    "\n",
    "display_scores(lasso_reg_rmse_scores_b)"
   ]
  },
  {
   "cell_type": "code",
   "execution_count": 28,
   "metadata": {},
   "outputs": [
    {
     "data": {
      "text/plain": [
       "DecisionTreeRegressor(criterion='mse', max_depth=None, max_features=None,\n",
       "           max_leaf_nodes=None, min_impurity_decrease=0.0,\n",
       "           min_impurity_split=None, min_samples_leaf=1,\n",
       "           min_samples_split=2, min_weight_fraction_leaf=0.0,\n",
       "           presort=False, random_state=None, splitter='best')"
      ]
     },
     "execution_count": 28,
     "metadata": {},
     "output_type": "execute_result"
    }
   ],
   "source": [
    "#train and cv decision tree regression for data_prep_a\n",
    "from sklearn.tree import DecisionTreeRegressor\n",
    "\n",
    "tree_reg_a = DecisionTreeRegressor()\n",
    "tree_reg_a.fit(data_train_prep_a, data_train_labels_a)\n",
    "\n",
    "#scores = cross_val_score(tree_reg_a, data_train_prep_a, data_train_labels_a, scoring=\"neg_mean_squared_error\", cv=10)\n",
    "#tree_reg_rmse_scores_a = np.sqrt(-scores)\n",
    "\n",
    "#display_scores(tree_reg_rmse_scores_a)"
   ]
  },
  {
   "cell_type": "code",
   "execution_count": 29,
   "metadata": {},
   "outputs": [
    {
     "data": {
      "text/plain": [
       "DecisionTreeRegressor(criterion='mse', max_depth=None, max_features=None,\n",
       "           max_leaf_nodes=None, min_impurity_decrease=0.0,\n",
       "           min_impurity_split=None, min_samples_leaf=1,\n",
       "           min_samples_split=2, min_weight_fraction_leaf=0.0,\n",
       "           presort=False, random_state=None, splitter='best')"
      ]
     },
     "execution_count": 29,
     "metadata": {},
     "output_type": "execute_result"
    }
   ],
   "source": [
    "#train and cv decision tree regression for data_prep_b\n",
    "tree_reg_b = DecisionTreeRegressor()\n",
    "tree_reg_b.fit(data_train_prep_b, data_train_labels_b)\n",
    "\n",
    "#scores = cross_val_score(tree_reg_b, data_train_prep_b, data_train_labels_b, scoring=\"neg_mean_squared_error\", cv=10)\n",
    "#tree_reg_rmse_scores_b = np.sqrt(-scores)\n",
    "\n",
    "#display_scores(tree_reg_rmse_scores_b)"
   ]
  },
  {
   "cell_type": "code",
   "execution_count": 30,
   "metadata": {},
   "outputs": [
    {
     "name": "stderr",
     "output_type": "stream",
     "text": [
      "/home/loherzberger/Projects/ML/venv/lib/python3.6/site-packages/sklearn/ensemble/weight_boosting.py:29: DeprecationWarning: numpy.core.umath_tests is an internal NumPy module and should not be imported. It will be removed in a future NumPy release.\n",
      "  from numpy.core.umath_tests import inner1d\n"
     ]
    },
    {
     "data": {
      "text/plain": [
       "RandomForestRegressor(bootstrap=True, criterion='mse', max_depth=None,\n",
       "           max_features='auto', max_leaf_nodes=None,\n",
       "           min_impurity_decrease=0.0, min_impurity_split=None,\n",
       "           min_samples_leaf=1, min_samples_split=2,\n",
       "           min_weight_fraction_leaf=0.0, n_estimators=10, n_jobs=1,\n",
       "           oob_score=False, random_state=None, verbose=0, warm_start=False)"
      ]
     },
     "execution_count": 30,
     "metadata": {},
     "output_type": "execute_result"
    }
   ],
   "source": [
    "#train and cv random forest regression for data_prep_a\n",
    "from sklearn.ensemble import RandomForestRegressor\n",
    "\n",
    "forest_reg_a = RandomForestRegressor()\n",
    "forest_reg_a.fit(data_train_prep_a, data_train_labels_a)\n",
    "\n",
    "#scores = cross_val_score(forest_reg_a, data_train_prep_a, data_train_labels_a, scoring=\"neg_mean_squared_error\", cv=10)\n",
    "#forest_reg_rmse_scores_a = np.sqrt(-scores)\n",
    "\n",
    "#display_scores(forest_reg_rmse_scores_a)"
   ]
  },
  {
   "cell_type": "code",
   "execution_count": 31,
   "metadata": {},
   "outputs": [
    {
     "data": {
      "text/plain": [
       "RandomForestRegressor(bootstrap=True, criterion='mse', max_depth=None,\n",
       "           max_features='auto', max_leaf_nodes=None,\n",
       "           min_impurity_decrease=0.0, min_impurity_split=None,\n",
       "           min_samples_leaf=1, min_samples_split=2,\n",
       "           min_weight_fraction_leaf=0.0, n_estimators=10, n_jobs=1,\n",
       "           oob_score=False, random_state=None, verbose=0, warm_start=False)"
      ]
     },
     "execution_count": 31,
     "metadata": {},
     "output_type": "execute_result"
    }
   ],
   "source": [
    "#train and cv random forest regression for data_prep_b\n",
    "forest_reg_b = RandomForestRegressor()\n",
    "forest_reg_b.fit(data_train_prep_b, data_train_labels_b)\n",
    "\n",
    "#scores = cross_val_score(forest_reg_b, data_train_prep_b, data_train_labels_b, scoring=\"neg_mean_squared_error\", cv=10)\n",
    "#forest_reg_rmse_scores_b = np.sqrt(-scores)\n",
    "\n",
    "#display_scores(forest_reg_rmse_scores_b)"
   ]
  },
  {
   "cell_type": "code",
   "execution_count": 32,
   "metadata": {},
   "outputs": [],
   "source": [
    "#prepare test_data_a for testing\n",
    "#test_data_a = data_test[[\"price_per_m2\", \"building_floors\", \"year\", \"distance_to_center\", \"land_use\", \"relative_share\", \"district\"]]\n",
    "test_data_a = data_test[[\"price_per_m2\", \"building_floors\", \"year\", \"distance_to_center\", \"relative_share\"]]\n",
    "\n",
    "test_labels_a = test_data_a[\"price_per_m2\"].copy()\n",
    "test_set_a = test_data_a.drop(\"price_per_m2\", axis=1)\n",
    "\n",
    "test_data_prep_a = full_pipeline_a.transform(test_set_a)\n",
    "\n",
    "#prepare test_data_b for testing\n",
    "test_data_b = data_test[[\"price_per_m2\", \"property_type\",\"district\",\"contract_type\",\"protection_zone\",\"building_ban\", \"building_floors\", \"building_year\", \"land_use\"]]\n",
    "\n",
    "test_labels_b = test_data_b[\"price_per_m2\"].copy()\n",
    "test_set_b = test_data_b.drop(\"price_per_m2\", axis=1)\n",
    "\n",
    "test_data_prep_b = full_pipeline_b.transform(test_set_b)"
   ]
  },
  {
   "cell_type": "code",
   "execution_count": 33,
   "metadata": {},
   "outputs": [],
   "source": [
    "#prepare predictions on test set\n",
    "\n",
    "#predictions from A-Models\n",
    "lin_reg_pred_a = lin_reg_a.predict(test_data_prep_a)\n",
    "ridge_reg_pred_a = ridge_reg_a.predict(test_data_prep_a)\n",
    "lasso_reg_pred_a = lasso_reg_a.predict(test_data_prep_a)\n",
    "tree_reg_pred_a = tree_reg_a.predict(test_data_prep_a)\n",
    "forest_reg_pred_a = forest_reg_a.predict(test_data_prep_a)\n",
    "\n",
    "#predictions from B-Models\n",
    "lin_reg_pred_b = lin_reg_b.predict(test_data_prep_b)\n",
    "ridge_reg_pred_b = ridge_reg_b.predict(test_data_prep_b)\n",
    "lasso_reg_pred_b = lasso_reg_b.predict(test_data_prep_b)\n",
    "tree_reg_pred_b = tree_reg_b.predict(test_data_prep_b)\n",
    "forest_reg_pred_b = forest_reg_b.predict(test_data_prep_b)"
   ]
  },
  {
   "cell_type": "code",
   "execution_count": 34,
   "metadata": {},
   "outputs": [],
   "source": [
    "#used metrics for experiment\n",
    "from sklearn.metrics import mean_squared_error\n",
    "from sklearn.metrics import mean_absolute_error"
   ]
  },
  {
   "cell_type": "code",
   "execution_count": 35,
   "metadata": {},
   "outputs": [],
   "source": [
    "#get metrics for models\n",
    "\n",
    "#metrics for A-Models\n",
    "lin_mse_a = np.sqrt(mean_squared_error(test_labels_a, lin_reg_pred_a))\n",
    "lin_mae_a = mean_absolute_error(test_labels_a, lin_reg_pred_a)\n",
    "ridge_mse_a = np.sqrt(mean_squared_error(test_labels_a, ridge_reg_pred_a))\n",
    "ridge_mae_a = mean_absolute_error(test_labels_a, ridge_reg_pred_a)\n",
    "lasso_mse_a = np.sqrt(mean_squared_error(test_labels_a, lasso_reg_pred_a))\n",
    "lasso_mae_a = mean_absolute_error(test_labels_a, lasso_reg_pred_a)\n",
    "tree_mse_a = np.sqrt(mean_squared_error(test_labels_a, tree_reg_pred_a))\n",
    "tree_mae_a = mean_absolute_error(test_labels_a, tree_reg_pred_a)\n",
    "forest_mse_a = np.sqrt(mean_squared_error(test_labels_a, forest_reg_pred_a))\n",
    "forest_mae_a = mean_absolute_error(test_labels_a, forest_reg_pred_a)\n",
    "\n",
    "\n",
    "#metrics for B-Models\n",
    "lin_mse_b = np.sqrt(mean_squared_error(test_labels_b, lin_reg_pred_b))\n",
    "lin_mae_b = mean_absolute_error(test_labels_b, lin_reg_pred_b)\n",
    "ridge_mse_b = np.sqrt(mean_squared_error(test_labels_b, ridge_reg_pred_b))\n",
    "ridge_mae_b = mean_absolute_error(test_labels_b, ridge_reg_pred_b)\n",
    "lasso_mse_b = np.sqrt(mean_squared_error(test_labels_b, lasso_reg_pred_b))\n",
    "lasso_mae_b = mean_absolute_error(test_labels_b, lasso_reg_pred_b)\n",
    "tree_mse_b = np.sqrt(mean_squared_error(test_labels_b, tree_reg_pred_b))\n",
    "tree_mae_b = mean_absolute_error(test_labels_b, tree_reg_pred_b)\n",
    "forest_mse_b = np.sqrt(mean_squared_error(test_labels_b, forest_reg_pred_b))\n",
    "forest_mae_b = mean_absolute_error(test_labels_b, forest_reg_pred_b)"
   ]
  },
  {
   "cell_type": "code",
   "execution_count": 36,
   "metadata": {},
   "outputs": [
    {
     "data": {
      "text/html": [
       "<div>\n",
       "<style scoped>\n",
       "    .dataframe tbody tr th:only-of-type {\n",
       "        vertical-align: middle;\n",
       "    }\n",
       "\n",
       "    .dataframe tbody tr th {\n",
       "        vertical-align: top;\n",
       "    }\n",
       "\n",
       "    .dataframe thead th {\n",
       "        text-align: right;\n",
       "    }\n",
       "</style>\n",
       "<table border=\"1\" class=\"dataframe\">\n",
       "  <thead>\n",
       "    <tr style=\"text-align: right;\">\n",
       "      <th></th>\n",
       "      <th>Linear/RMSE</th>\n",
       "      <th>Linear/MAE</th>\n",
       "      <th>Ridge/RMSE</th>\n",
       "      <th>Ridge/MAE</th>\n",
       "      <th>Lasso/RMSE</th>\n",
       "      <th>Lasso/MAE</th>\n",
       "      <th>Tree/RMSE</th>\n",
       "      <th>Tree/MAE</th>\n",
       "      <th>Forest/RMSE</th>\n",
       "      <th>Forest/MAE</th>\n",
       "    </tr>\n",
       "  </thead>\n",
       "  <tbody>\n",
       "    <tr>\n",
       "      <th>0</th>\n",
       "      <td>2318.899308</td>\n",
       "      <td>941.967807</td>\n",
       "      <td>2318.90442</td>\n",
       "      <td>941.964625</td>\n",
       "      <td>2319.154941</td>\n",
       "      <td>941.640439</td>\n",
       "      <td>2307.806231</td>\n",
       "      <td>899.126776</td>\n",
       "      <td>1972.363086</td>\n",
       "      <td>751.786161</td>\n",
       "    </tr>\n",
       "  </tbody>\n",
       "</table>\n",
       "</div>"
      ],
      "text/plain": [
       "   Linear/RMSE  Linear/MAE  Ridge/RMSE   Ridge/MAE   Lasso/RMSE   Lasso/MAE  \\\n",
       "0  2318.899308  941.967807  2318.90442  941.964625  2319.154941  941.640439   \n",
       "\n",
       "     Tree/RMSE    Tree/MAE  Forest/RMSE  Forest/MAE  \n",
       "0  2307.806231  899.126776  1972.363086  751.786161  "
      ]
     },
     "execution_count": 36,
     "metadata": {},
     "output_type": "execute_result"
    }
   ],
   "source": [
    "df_a = pd.DataFrame(columns=['Linear/RMSE', 'Linear/MAE', 'Ridge/RMSE', 'Ridge/MAE', 'Lasso/RMSE', 'Lasso/MAE', 'Tree/RMSE', 'Tree/MAE', 'Forest/RMSE', 'Forest/MAE'])\n",
    "df_a['Linear/RMSE'] = [lin_mse_a]\n",
    "df_a['Linear/MAE'] = [lin_mae_a]\n",
    "df_a['Ridge/RMSE'] = [ridge_mse_a]\n",
    "df_a['Ridge/MAE'] = [ridge_mae_a]\n",
    "df_a['Lasso/RMSE'] = [lasso_mse_a]\n",
    "df_a['Lasso/MAE'] = [lasso_mae_a]\n",
    "df_a['Tree/RMSE'] = [tree_mse_a]\n",
    "df_a['Tree/MAE'] = [tree_mae_a]\n",
    "df_a['Forest/RMSE'] = [forest_mse_a]\n",
    "df_a['Forest/MAE'] = [forest_mae_a]\n",
    "\n",
    "df_a"
   ]
  },
  {
   "cell_type": "code",
   "execution_count": 37,
   "metadata": {},
   "outputs": [
    {
     "data": {
      "text/html": [
       "<div>\n",
       "<style scoped>\n",
       "    .dataframe tbody tr th:only-of-type {\n",
       "        vertical-align: middle;\n",
       "    }\n",
       "\n",
       "    .dataframe tbody tr th {\n",
       "        vertical-align: top;\n",
       "    }\n",
       "\n",
       "    .dataframe thead th {\n",
       "        text-align: right;\n",
       "    }\n",
       "</style>\n",
       "<table border=\"1\" class=\"dataframe\">\n",
       "  <thead>\n",
       "    <tr style=\"text-align: right;\">\n",
       "      <th></th>\n",
       "      <th>Linear/RMSE</th>\n",
       "      <th>Linear/MAE</th>\n",
       "      <th>Ridge/RMSE</th>\n",
       "      <th>Ridge/MAE</th>\n",
       "      <th>Lasso/RMSE</th>\n",
       "      <th>Lasso/MAE</th>\n",
       "      <th>Tree/RMSE</th>\n",
       "      <th>Tree/MAE</th>\n",
       "      <th>Forest/RMSE</th>\n",
       "      <th>Forest/MAE</th>\n",
       "    </tr>\n",
       "  </thead>\n",
       "  <tbody>\n",
       "    <tr>\n",
       "      <th>0</th>\n",
       "      <td>2076.23095</td>\n",
       "      <td>789.745183</td>\n",
       "      <td>2076.675607</td>\n",
       "      <td>789.509025</td>\n",
       "      <td>2083.244149</td>\n",
       "      <td>790.764205</td>\n",
       "      <td>2157.282174</td>\n",
       "      <td>756.880797</td>\n",
       "      <td>2001.998696</td>\n",
       "      <td>706.357498</td>\n",
       "    </tr>\n",
       "  </tbody>\n",
       "</table>\n",
       "</div>"
      ],
      "text/plain": [
       "   Linear/RMSE  Linear/MAE   Ridge/RMSE   Ridge/MAE   Lasso/RMSE   Lasso/MAE  \\\n",
       "0   2076.23095  789.745183  2076.675607  789.509025  2083.244149  790.764205   \n",
       "\n",
       "     Tree/RMSE    Tree/MAE  Forest/RMSE  Forest/MAE  \n",
       "0  2157.282174  756.880797  2001.998696  706.357498  "
      ]
     },
     "execution_count": 37,
     "metadata": {},
     "output_type": "execute_result"
    }
   ],
   "source": [
    "df_b = pd.DataFrame(columns=['Linear/RMSE', 'Linear/MAE', 'Ridge/RMSE', 'Ridge/MAE', 'Lasso/RMSE', 'Lasso/MAE', 'Tree/RMSE', 'Tree/MAE', 'Forest/RMSE', 'Forest/MAE'])\n",
    "df_b['Linear/RMSE'] = [lin_mse_b]\n",
    "df_b['Linear/MAE'] = [lin_mae_b]\n",
    "df_b['Ridge/RMSE'] = [ridge_mse_b]\n",
    "df_b['Ridge/MAE'] = [ridge_mae_b]\n",
    "df_b['Lasso/RMSE'] = [lasso_mse_b]\n",
    "df_b['Lasso/MAE'] = [lasso_mae_b]\n",
    "df_b['Tree/RMSE'] = [tree_mse_b]\n",
    "df_b['Tree/MAE'] = [tree_mae_b]\n",
    "df_b['Forest/RMSE'] = [forest_mse_b]\n",
    "df_b['Forest/MAE'] = [forest_mae_b]\n",
    "\n",
    "df_b"
   ]
  },
  {
   "cell_type": "code",
   "execution_count": 38,
   "metadata": {},
   "outputs": [
    {
     "data": {
      "text/plain": [
       "[(0.2203326818083035, 'building_floors'),\n",
       " (0.18982135849271176, 'building_year'),\n",
       " (0.018843047457558056, 'contract_type'),\n",
       " (0.006784407434691651, 'property_type'),\n",
       " (0.0066984514850143215, 'protection_zone'),\n",
       " (0.004529939587827239, 'building_ban'),\n",
       " (0.0020746424295916845, 'district'),\n",
       " (4.367921497396749e-07, 'land_use')]"
      ]
     },
     "execution_count": 38,
     "metadata": {},
     "output_type": "execute_result"
    }
   ],
   "source": [
    "sorted(zip(tree_reg_b.feature_importances_, num_attribs + cat_attribs), reverse=True)"
   ]
  },
  {
   "cell_type": "code",
   "execution_count": 39,
   "metadata": {
    "scrolled": true
   },
   "outputs": [
    {
     "data": {
      "text/plain": [
       "[(0.28029715477599854, 'property_type'),\n",
       " (0.2763450828340236, 'district'),\n",
       " (0.27515334500964417, 'building_year'),\n",
       " (0.16820441738033376, 'building_floors')]"
      ]
     },
     "execution_count": 39,
     "metadata": {},
     "output_type": "execute_result"
    }
   ],
   "source": [
    "sorted(zip(tree_reg_a.feature_importances_, num_attribs + cat_attribs), reverse=True)"
   ]
  },
  {
   "cell_type": "code",
   "execution_count": 40,
   "metadata": {},
   "outputs": [
    {
     "data": {
      "text/plain": [
       "[(0.23210839102650596, 'building_floors'),\n",
       " (0.18374955080972669, 'building_year'),\n",
       " (0.023572314131849757, 'contract_type'),\n",
       " (0.010525779072539643, 'property_type'),\n",
       " (0.007623787163392931, 'protection_zone'),\n",
       " (0.004967878319576644, 'building_ban'),\n",
       " (0.0015513244786369393, 'district'),\n",
       " (3.7753466355842547e-07, 'land_use')]"
      ]
     },
     "execution_count": 40,
     "metadata": {},
     "output_type": "execute_result"
    }
   ],
   "source": [
    "sorted(zip(forest_reg_b.feature_importances_, num_attribs + cat_attribs), reverse=True)"
   ]
  },
  {
   "cell_type": "code",
   "execution_count": 41,
   "metadata": {},
   "outputs": [
    {
     "data": {
      "text/plain": [
       "[(0.4476955913698064, 'building_year'),\n",
       " (0.26914884057213506, 'district'),\n",
       " (0.18604443599990966, 'property_type'),\n",
       " (0.09711113205814878, 'building_floors')]"
      ]
     },
     "execution_count": 41,
     "metadata": {},
     "output_type": "execute_result"
    }
   ],
   "source": [
    "sorted(zip(forest_reg_a.feature_importances_, num_attribs + cat_attribs), reverse=True)"
   ]
  },
  {
   "cell_type": "code",
   "execution_count": 42,
   "metadata": {},
   "outputs": [
    {
     "data": {
      "text/html": [
       "<div>\n",
       "<style scoped>\n",
       "    .dataframe tbody tr th:only-of-type {\n",
       "        vertical-align: middle;\n",
       "    }\n",
       "\n",
       "    .dataframe tbody tr th {\n",
       "        vertical-align: top;\n",
       "    }\n",
       "\n",
       "    .dataframe thead th {\n",
       "        text-align: right;\n",
       "    }\n",
       "</style>\n",
       "<table border=\"1\" class=\"dataframe\">\n",
       "  <thead>\n",
       "    <tr style=\"text-align: right;\">\n",
       "      <th></th>\n",
       "      <th>Linear/RMSE</th>\n",
       "      <th>Linear/MAE</th>\n",
       "      <th>Ridge/RMSE</th>\n",
       "      <th>Ridge/MAE</th>\n",
       "      <th>Lasso/RMSE</th>\n",
       "      <th>Lasso/MAE</th>\n",
       "      <th>Tree/RMSE</th>\n",
       "      <th>Tree/MAE</th>\n",
       "      <th>Forest/RMSE</th>\n",
       "      <th>Forest/MAE</th>\n",
       "    </tr>\n",
       "  </thead>\n",
       "  <tbody>\n",
       "    <tr>\n",
       "      <th>0</th>\n",
       "      <td>2318.899308</td>\n",
       "      <td>941.967807</td>\n",
       "      <td>2318.904420</td>\n",
       "      <td>941.964625</td>\n",
       "      <td>2319.154941</td>\n",
       "      <td>941.640439</td>\n",
       "      <td>2307.806231</td>\n",
       "      <td>899.126776</td>\n",
       "      <td>1972.363086</td>\n",
       "      <td>751.786161</td>\n",
       "    </tr>\n",
       "    <tr>\n",
       "      <th>0</th>\n",
       "      <td>2076.230950</td>\n",
       "      <td>789.745183</td>\n",
       "      <td>2076.675607</td>\n",
       "      <td>789.509025</td>\n",
       "      <td>2083.244149</td>\n",
       "      <td>790.764205</td>\n",
       "      <td>2157.282174</td>\n",
       "      <td>756.880797</td>\n",
       "      <td>2001.998696</td>\n",
       "      <td>706.357498</td>\n",
       "    </tr>\n",
       "  </tbody>\n",
       "</table>\n",
       "</div>"
      ],
      "text/plain": [
       "   Linear/RMSE  Linear/MAE   Ridge/RMSE   Ridge/MAE   Lasso/RMSE   Lasso/MAE  \\\n",
       "0  2318.899308  941.967807  2318.904420  941.964625  2319.154941  941.640439   \n",
       "0  2076.230950  789.745183  2076.675607  789.509025  2083.244149  790.764205   \n",
       "\n",
       "     Tree/RMSE    Tree/MAE  Forest/RMSE  Forest/MAE  \n",
       "0  2307.806231  899.126776  1972.363086  751.786161  \n",
       "0  2157.282174  756.880797  2001.998696  706.357498  "
      ]
     },
     "execution_count": 42,
     "metadata": {},
     "output_type": "execute_result"
    }
   ],
   "source": [
    "pd.concat([df_a, df_b])"
   ]
  },
  {
   "cell_type": "code",
   "execution_count": null,
   "metadata": {},
   "outputs": [],
   "source": []
  }
 ],
 "metadata": {
  "kernelspec": {
   "display_name": "Python 3",
   "language": "python",
   "name": "python3"
  },
  "language_info": {
   "codemirror_mode": {
    "name": "ipython",
    "version": 3
   },
   "file_extension": ".py",
   "mimetype": "text/x-python",
   "name": "python",
   "nbconvert_exporter": "python",
   "pygments_lexer": "ipython3",
   "version": "3.6.7"
  }
 },
 "nbformat": 4,
 "nbformat_minor": 2
}
