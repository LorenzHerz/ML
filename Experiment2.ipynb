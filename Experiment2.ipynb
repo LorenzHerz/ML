{
 "cells": [
  {
   "cell_type": "code",
   "execution_count": 1,
   "metadata": {},
   "outputs": [
    {
     "name": "stderr",
     "output_type": "stream",
     "text": [
      "/usr/lib/python3.6/importlib/_bootstrap.py:219: RuntimeWarning: numpy.dtype size changed, may indicate binary incompatibility. Expected 96, got 88\n",
      "  return f(*args, **kwds)\n",
      "/usr/lib/python3.6/importlib/_bootstrap.py:219: RuntimeWarning: numpy.dtype size changed, may indicate binary incompatibility. Expected 96, got 88\n",
      "  return f(*args, **kwds)\n",
      "/home/loherzberger/Projects/ML/venv/lib/python3.6/site-packages/IPython/core/interactiveshell.py:2785: DtypeWarning: Columns (13) have mixed types. Specify dtype option on import or set low_memory=False.\n",
      "  interactivity=interactivity, compiler=compiler, result=result)\n"
     ]
    }
   ],
   "source": [
    "import pandas as pd\n",
    "import numpy as np\n",
    "\n",
    "#read data from csv\n",
    "data = pd.read_csv(\"data/training_data_utf8.csv\")"
   ]
  },
  {
   "cell_type": "code",
   "execution_count": 2,
   "metadata": {},
   "outputs": [],
   "source": [
    "#define function to transform long/lat to distance\n",
    "from math import radians, cos, sin, asin, sqrt\n",
    "def haversine(lon1, lat1, lon2, lat2):\n",
    "    \"\"\"\n",
    "    Calculate the great circle distance between two points \n",
    "    on the earth (specified in decimal degrees)\n",
    "    \"\"\"\n",
    "    # convert decimal degrees to radians \n",
    "    lon1, lat1, lon2, lat2 = map(radians, [lon1, lat1, lon2, lat2])\n",
    "    # haversine formula \n",
    "    dlon = lon2 - lon1 \n",
    "    dlat = lat2 - lat1 \n",
    "    a = sin(dlat/2)**2 + cos(lat1) * cos(lat2) * sin(dlon/2)**2\n",
    "    c = 2 * asin(sqrt(a)) \n",
    "    km = 6367 * c\n",
    "    return km"
   ]
  },
  {
   "cell_type": "code",
   "execution_count": 3,
   "metadata": {},
   "outputs": [],
   "source": [
    "#define long/lat center of vienna\n",
    "latitude_center = 48.210033\n",
    "longitude_center = 16.363449"
   ]
  },
  {
   "cell_type": "code",
   "execution_count": 4,
   "metadata": {},
   "outputs": [],
   "source": [
    "#create new column distance_to_center\n",
    "for index, row in data.iterrows():\n",
    "    data.loc[index, 'distance_to_center'] = haversine(row['longitude'], row['latitude'], longitude_center, latitude_center)"
   ]
  },
  {
   "cell_type": "code",
   "execution_count": 5,
   "metadata": {},
   "outputs": [],
   "source": [
    "#extract year from transaction_ym\n",
    "date = data.transaction_ym.apply(pd.to_datetime, format=\"%Y-%m\")\n",
    "\n",
    "data[\"year\"] = date.dt.year"
   ]
  },
  {
   "cell_type": "code",
   "execution_count": 6,
   "metadata": {},
   "outputs": [],
   "source": [
    "#create new column relative_share\n",
    "relative_share = data.plot_area * data.plot_share\n",
    "data[\"relative_share\"] = relative_share"
   ]
  },
  {
   "cell_type": "code",
   "execution_count": 7,
   "metadata": {},
   "outputs": [],
   "source": [
    "#fill NA/NaN with mean\n",
    "data = data.fillna(data.mean())"
   ]
  },
  {
   "cell_type": "code",
   "execution_count": 8,
   "metadata": {},
   "outputs": [],
   "source": [
    "data[\"land_use\"] = data[\"land_use\"].astype(str)\n",
    "data[\"district\"] = data[\"district\"].astype(str)\n",
    "data[\"property_type\"] = data[\"property_type\"].astype(str)\n",
    "data[\"contract_type\"] = data[\"contract_type\"].astype(str)\n",
    "data[\"protection_zone\"] = data[\"protection_zone\"].astype(str)\n",
    "data[\"building_ban\"] = data[\"building_ban\"].astype(str)"
   ]
  },
  {
   "cell_type": "code",
   "execution_count": 9,
   "metadata": {},
   "outputs": [],
   "source": [
    "#split data into training and test data\n",
    "data_train = data[data.year <= 2010]\n",
    "data_test = data[data.year > 2010]"
   ]
  },
  {
   "cell_type": "code",
   "execution_count": 10,
   "metadata": {},
   "outputs": [
    {
     "name": "stderr",
     "output_type": "stream",
     "text": [
      "/home/loherzberger/Projects/ML/venv/lib/python3.6/site-packages/ipykernel_launcher.py:2: UserWarning: Boolean Series key will be reindexed to match DataFrame index.\n",
      "  \n",
      "/home/loherzberger/Projects/ML/venv/lib/python3.6/site-packages/ipykernel_launcher.py:3: UserWarning: Boolean Series key will be reindexed to match DataFrame index.\n",
      "  This is separate from the ipykernel package so we can avoid doing imports until\n"
     ]
    },
    {
     "data": {
      "text/plain": [
       "(44366, 21)"
      ]
     },
     "execution_count": 10,
     "metadata": {},
     "output_type": "execute_result"
    }
   ],
   "source": [
    "#filter outliers\n",
    "data_train = data_train[data.distance_to_center < 15]\n",
    "data_train = data_train[data.price_per_m2 < 2500]\n",
    "data.shape"
   ]
  },
  {
   "cell_type": "code",
   "execution_count": 11,
   "metadata": {},
   "outputs": [
    {
     "data": {
      "text/plain": [
       "(38318, 21)"
      ]
     },
     "execution_count": 11,
     "metadata": {},
     "output_type": "execute_result"
    }
   ],
   "source": [
    "#display shape of training data\n",
    "data_train.shape"
   ]
  },
  {
   "cell_type": "code",
   "execution_count": 12,
   "metadata": {},
   "outputs": [
    {
     "data": {
      "text/plain": [
       "(4316, 21)"
      ]
     },
     "execution_count": 12,
     "metadata": {},
     "output_type": "execute_result"
    }
   ],
   "source": [
    "#display shape of testing data\n",
    "data_test.shape"
   ]
  },
  {
   "cell_type": "code",
   "execution_count": 13,
   "metadata": {},
   "outputs": [],
   "source": [
    "#define numerical and categorical pipeline\n",
    "from sklearn.pipeline import Pipeline\n",
    "from sklearn.preprocessing import StandardScaler\n",
    "from future_encoders import OneHotEncoder\n",
    "\n",
    "num_pipeline = Pipeline([\n",
    "    ('std_scaler', StandardScaler())\n",
    "])\n",
    "\n",
    "cat_pipeline = Pipeline([\n",
    "    ('one_hot', OneHotEncoder())\n",
    "])"
   ]
  },
  {
   "cell_type": "code",
   "execution_count": 14,
   "metadata": {},
   "outputs": [],
   "source": [
    "#define features for pipeline A\n",
    "#pip_data_a = data[[\"building_floors\", \"year\", \"distance_to_center\", \"land_use\", \"relative_share\", \"district\"]]\n",
    "pip_data_a = data[[\"building_floors\", \"year\", \"distance_to_center\", \"relative_share\"]]\n",
    "pip_data_a_num = data[[\"year\", \"distance_to_center\", \"building_floors\", \"relative_share\"]]\n",
    "#pip_data_a_cat = data[[\"land_use\", \"district\"]]"
   ]
  },
  {
   "cell_type": "code",
   "execution_count": 15,
   "metadata": {},
   "outputs": [
    {
     "data": {
      "text/plain": [
       "array([[ 1.72687487,  1.07481832, -0.86724244,  0.2488543 ],\n",
       "       [ 1.72687487,  1.61541514, -0.05170695, -0.0859057 ],\n",
       "       [ 1.72687487,  0.89049187, -0.05170695, -0.0879487 ],\n",
       "       ...,\n",
       "       [-1.55580778, -0.94233947,  0.        , -0.01449802],\n",
       "       [-1.55580778,  0.        ,  0.        ,  0.08502523],\n",
       "       [-1.55580778,  0.        ,  0.        ,  0.71640926]])"
      ]
     },
     "execution_count": 15,
     "metadata": {},
     "output_type": "execute_result"
    }
   ],
   "source": [
    "#define full_pipeline_a for training data_a\n",
    "from future_encoders import ColumnTransformer\n",
    "\n",
    "num_attribs = list(pip_data_a_num)\n",
    "#cat_attribs = list(pip_data_a_cat)\n",
    "\n",
    "full_pipeline_a = ColumnTransformer([\n",
    "    ('num', num_pipeline, num_attribs),\n",
    "#    ('cat', cat_pipeline, cat_attribs)\n",
    "])\n",
    "\n",
    "full_pipeline_a.fit_transform(pip_data_a)"
   ]
  },
  {
   "cell_type": "code",
   "execution_count": 16,
   "metadata": {},
   "outputs": [],
   "source": [
    "#define training data for pipeline A\n",
    "data_train_a = data_train[[\"price_per_m2\", \"building_floors\", \"year\", \"distance_to_center\", \"land_use\", \"relative_share\", \"district\"]]\n",
    "\n",
    "data_train_labels_a = data_train_a[\"price_per_m2\"].copy()\n",
    "data_train_a = data_train_a.drop(\"price_per_m2\", axis=1)"
   ]
  },
  {
   "cell_type": "code",
   "execution_count": 17,
   "metadata": {},
   "outputs": [],
   "source": [
    "#define features for pipeline B\n",
    "#pip_data_b = data[[\"price_per_m2\", \"property_type\",\"district\",\"contract_type\",\"protection_zone\",\"building_ban\", \"building_floors\", \"building_year\", \"land_use\"]]\n",
    "#pip_data_b_num = data[[\"building_floors\", \"building_year\"]]\n",
    "pip_data_b = data[[\"property_type\",\"district\",\"contract_type\",\"protection_zone\",\"building_ban\", \"land_use\"]]\n",
    "pip_data_b_cat = data[[\"property_type\",\"district\",\"contract_type\",\"protection_zone\",\"building_ban\", \"land_use\"]]"
   ]
  },
  {
   "cell_type": "code",
   "execution_count": 18,
   "metadata": {},
   "outputs": [
    {
     "data": {
      "text/plain": [
       "<44366x112 sparse matrix of type '<class 'numpy.float64'>'\n",
       "\twith 266196 stored elements in Compressed Sparse Row format>"
      ]
     },
     "execution_count": 18,
     "metadata": {},
     "output_type": "execute_result"
    }
   ],
   "source": [
    "#define full_pipeline_b for training data_b\n",
    "#num_attribs = list(pip_data_b_num)\n",
    "cat_attribs = list(pip_data_b_cat)\n",
    "\n",
    "full_pipeline_b = ColumnTransformer([\n",
    "#    ('num', num_pipeline, num_attribs),\n",
    "    ('cat', cat_pipeline, cat_attribs)\n",
    "])\n",
    "\n",
    "full_pipeline_b.fit_transform(pip_data_b)"
   ]
  },
  {
   "cell_type": "code",
   "execution_count": 19,
   "metadata": {},
   "outputs": [],
   "source": [
    "#define training data for pipeline B\n",
    "data_train_b = data_train[[\"price_per_m2\", \"property_type\",\"district\",\"contract_type\",\"protection_zone\",\"building_ban\", \"building_floors\", \"building_year\", \"land_use\"]]\n",
    "#data_train_b_num = data_train[[\"building_floors\", \"building_year\"]]\n",
    "data_train_b_cat = data_train[[\"property_type\",\"district\",\"contract_type\",\"protection_zone\",\"building_ban\", \"land_use\"]]\n",
    "\n",
    "data_train_labels_b = data_train_b[\"price_per_m2\"].copy()\n",
    "data_train_b = data_train_b.drop(\"price_per_m2\", axis=1)"
   ]
  },
  {
   "cell_type": "code",
   "execution_count": 20,
   "metadata": {},
   "outputs": [],
   "source": [
    "#fit data_a and data_b\n",
    "data_train_prep_a = full_pipeline_a.transform(data_train_a)\n",
    "data_train_prep_b = full_pipeline_b.transform(data_train_b)"
   ]
  },
  {
   "cell_type": "code",
   "execution_count": 21,
   "metadata": {},
   "outputs": [],
   "source": [
    "#declare diplay_scores function for model evaluation\n",
    "from sklearn.model_selection import cross_val_score\n",
    "\n",
    "def display_scores(scores):\n",
    "    print(\"Scores:\", scores)\n",
    "    print(\"Mean:\", scores.mean())\n",
    "    print(\"Standard Deviation\", scores.std())"
   ]
  },
  {
   "cell_type": "code",
   "execution_count": 22,
   "metadata": {},
   "outputs": [
    {
     "name": "stdout",
     "output_type": "stream",
     "text": [
      "Scores: [460.098951   416.91848152 389.01649496 343.28852796 372.60097076\n",
      " 384.1674869  384.34709885 396.09503497 337.74094231 312.93745891]\n",
      "Mean: 379.72114481399154\n",
      "Standard Deviation 39.79992633426224\n"
     ]
    }
   ],
   "source": [
    "#train and cv linear regression for data_prep_a\n",
    "from sklearn.linear_model import LinearRegression\n",
    "\n",
    "lin_reg_a = LinearRegression()\n",
    "lin_reg_a.fit(data_train_prep_a, data_train_labels_a)\n",
    "\n",
    "scores = cross_val_score(lin_reg_a, data_train_prep_a, data_train_labels_a, scoring=\"neg_mean_squared_error\", cv=10)\n",
    "lin_reg_rmse_scores_a = np.sqrt(-scores)\n",
    "\n",
    "display_scores(lin_reg_rmse_scores_a)"
   ]
  },
  {
   "cell_type": "code",
   "execution_count": 23,
   "metadata": {},
   "outputs": [
    {
     "name": "stdout",
     "output_type": "stream",
     "text": [
      "Scores: [433.3323076  382.6479144  371.45178862 313.58262247 325.94772305\n",
      " 320.78094357 329.12602227 324.19203914 333.9823381  400.68141556]\n",
      "Mean: 353.5725114768766\n",
      "Standard Deviation 38.766153400139984\n"
     ]
    }
   ],
   "source": [
    "#train and cv linear regression for data_prep_b\n",
    "lin_reg_b = LinearRegression()\n",
    "lin_reg_b.fit(data_train_prep_b, data_train_labels_b)\n",
    "\n",
    "scores = cross_val_score(lin_reg_b, data_train_prep_b, data_train_labels_b, scoring=\"neg_mean_squared_error\", cv=10)\n",
    "lin_reg_rmse_scores_b = np.sqrt(-scores)\n",
    "\n",
    "display_scores(lin_reg_rmse_scores_b)"
   ]
  },
  {
   "cell_type": "code",
   "execution_count": 24,
   "metadata": {},
   "outputs": [
    {
     "name": "stdout",
     "output_type": "stream",
     "text": [
      "Scores: [460.09925868 416.91837789 389.01689422 343.28733804 372.59848455\n",
      " 384.16706217 384.34705935 396.09441312 337.74119935 312.93884823]\n",
      "Mean: 379.72089356023224\n",
      "Standard Deviation 39.799850501559\n"
     ]
    }
   ],
   "source": [
    "#train and cv ridge regression for data_prep_a\n",
    "from sklearn.linear_model import Ridge\n",
    "\n",
    "ridge_reg_a = Ridge(alpha=0.9)\n",
    "ridge_reg_a.fit(data_train_prep_a, data_train_labels_a)\n",
    "\n",
    "scores = cross_val_score(ridge_reg_a, data_train_prep_a, data_train_labels_a, scoring=\"neg_mean_squared_error\", cv=10)\n",
    "ridge_reg_rmse_scores_a = np.sqrt(-scores)\n",
    "\n",
    "display_scores(ridge_reg_rmse_scores_a)"
   ]
  },
  {
   "cell_type": "code",
   "execution_count": 25,
   "metadata": {},
   "outputs": [
    {
     "name": "stdout",
     "output_type": "stream",
     "text": [
      "Scores: [433.35514227 382.62267507 371.39064147 313.5725111  325.87305122\n",
      " 320.79105894 329.08164931 324.21227431 333.96210324 400.54272824]\n",
      "Mean: 353.5403835184696\n",
      "Standard Deviation 38.75710851512668\n"
     ]
    }
   ],
   "source": [
    "#train and cv ridge regression for data_prep_b\n",
    "ridge_reg_b = Ridge(alpha=0.9)\n",
    "ridge_reg_b.fit(data_train_prep_b, data_train_labels_b)\n",
    "\n",
    "scores = cross_val_score(ridge_reg_b, data_train_prep_b, data_train_labels_b, scoring=\"neg_mean_squared_error\", cv=10)\n",
    "ridge_reg_rmse_scores_b = np.sqrt(-scores)\n",
    "\n",
    "display_scores(ridge_reg_rmse_scores_b)"
   ]
  },
  {
   "cell_type": "code",
   "execution_count": 26,
   "metadata": {},
   "outputs": [
    {
     "name": "stdout",
     "output_type": "stream",
     "text": [
      "Scores: [460.18454837 416.92859854 389.09893512 343.14868098 372.28629198\n",
      " 384.09860569 384.30259162 395.75025669 337.80263057 313.29251229]\n",
      "Mean: 379.6893651849783\n",
      "Standard Deviation 39.7574121697516\n"
     ]
    }
   ],
   "source": [
    "#train and cv lasso regression for data_prep_a\n",
    "from sklearn.linear_model import Lasso\n",
    "\n",
    "lasso_reg_a = Lasso(alpha=0.5)\n",
    "lasso_reg_a.fit(data_train_prep_a, data_train_labels_a)\n",
    "\n",
    "scores = cross_val_score(lasso_reg_a, data_train_prep_a, data_train_labels_a, scoring=\"neg_mean_squared_error\", cv=10)\n",
    "lasso_reg_rmse_scores_a = np.sqrt(-scores)\n",
    "\n",
    "display_scores(lasso_reg_rmse_scores_a)"
   ]
  },
  {
   "cell_type": "code",
   "execution_count": 27,
   "metadata": {},
   "outputs": [
    {
     "name": "stdout",
     "output_type": "stream",
     "text": [
      "Scores: [437.49522444 383.71794987 374.69125965 316.42013947 327.08959708\n",
      " 324.38640335 330.5325781  325.76890192 334.27892121 396.0342926 ]\n",
      "Mean: 355.04152676868944\n",
      "Standard Deviation 38.45619299458259\n"
     ]
    }
   ],
   "source": [
    "#train and cv lasso regression for data_prep_b\n",
    "lasso_reg_b = Lasso(alpha=0.5)\n",
    "lasso_reg_b.fit(data_train_prep_b, data_train_labels_b)\n",
    "\n",
    "scores = cross_val_score(lasso_reg_b, data_train_prep_b, data_train_labels_b, scoring=\"neg_mean_squared_error\", cv=10)\n",
    "lasso_reg_rmse_scores_b = np.sqrt(-scores)\n",
    "\n",
    "display_scores(lasso_reg_rmse_scores_b)"
   ]
  },
  {
   "cell_type": "code",
   "execution_count": 28,
   "metadata": {},
   "outputs": [
    {
     "name": "stdout",
     "output_type": "stream",
     "text": [
      "Scores: [522.23803705 489.61960493 490.80547119 454.19052089 465.70751164\n",
      " 475.49717017 467.99111584 482.22606808 461.56874649 380.20147615]\n",
      "Mean: 469.0045722441183\n",
      "Standard Deviation 34.819042953880825\n"
     ]
    }
   ],
   "source": [
    "#train and cv decision tree regression for data_prep_a\n",
    "from sklearn.tree import DecisionTreeRegressor\n",
    "\n",
    "tree_reg_a = DecisionTreeRegressor()\n",
    "tree_reg_a.fit(data_train_prep_a, data_train_labels_a)\n",
    "\n",
    "scores = cross_val_score(tree_reg_a, data_train_prep_a, data_train_labels_a, scoring=\"neg_mean_squared_error\", cv=10)\n",
    "tree_reg_rmse_scores_a = np.sqrt(-scores)\n",
    "\n",
    "display_scores(tree_reg_rmse_scores_a)"
   ]
  },
  {
   "cell_type": "code",
   "execution_count": 29,
   "metadata": {},
   "outputs": [
    {
     "name": "stdout",
     "output_type": "stream",
     "text": [
      "Scores: [386.36116881 353.79263859 375.48874261 322.64054513 326.01802941\n",
      " 324.46144679 323.56748246 316.53178796 333.71961941 403.08889004]\n",
      "Mean: 346.5670351202731\n",
      "Standard Deviation 29.574507348031705\n"
     ]
    }
   ],
   "source": [
    "#train and cv decision tree regression for data_prep_b\n",
    "tree_reg_b = DecisionTreeRegressor()\n",
    "tree_reg_b.fit(data_train_prep_b, data_train_labels_b)\n",
    "\n",
    "scores = cross_val_score(tree_reg_b, data_train_prep_b, data_train_labels_b, scoring=\"neg_mean_squared_error\", cv=10)\n",
    "tree_reg_rmse_scores_b = np.sqrt(-scores)\n",
    "\n",
    "display_scores(tree_reg_rmse_scores_b)"
   ]
  },
  {
   "cell_type": "code",
   "execution_count": 30,
   "metadata": {},
   "outputs": [
    {
     "name": "stderr",
     "output_type": "stream",
     "text": [
      "/home/loherzberger/Projects/ML/venv/lib/python3.6/site-packages/sklearn/ensemble/weight_boosting.py:29: DeprecationWarning: numpy.core.umath_tests is an internal NumPy module and should not be imported. It will be removed in a future NumPy release.\n",
      "  from numpy.core.umath_tests import inner1d\n"
     ]
    },
    {
     "name": "stdout",
     "output_type": "stream",
     "text": [
      "Scores: [408.42464743 386.0132081  374.60220767 346.57766186 352.09155378\n",
      " 375.1530762  377.70376855 383.65962681 360.42407142 290.96744863]\n",
      "Mean: 365.5617270440222\n",
      "Standard Deviation 30.061142050672437\n"
     ]
    }
   ],
   "source": [
    "#train and cv random forest regression for data_prep_a\n",
    "from sklearn.ensemble import RandomForestRegressor\n",
    "\n",
    "forest_reg_a = RandomForestRegressor()\n",
    "forest_reg_a.fit(data_train_prep_a, data_train_labels_a)\n",
    "\n",
    "scores = cross_val_score(forest_reg_a, data_train_prep_a, data_train_labels_a, scoring=\"neg_mean_squared_error\", cv=10)\n",
    "forest_reg_rmse_scores_a = np.sqrt(-scores)\n",
    "\n",
    "display_scores(forest_reg_rmse_scores_a)"
   ]
  },
  {
   "cell_type": "code",
   "execution_count": 31,
   "metadata": {},
   "outputs": [
    {
     "name": "stdout",
     "output_type": "stream",
     "text": [
      "Scores: [382.49569771 346.74329188 371.27912132 315.69588075 321.29379815\n",
      " 317.49101501 319.27938775 312.51568043 326.51029217 398.78993679]\n",
      "Mean: 341.2094101964559\n",
      "Standard Deviation 30.14189790742385\n"
     ]
    }
   ],
   "source": [
    "#train and cv random forest regression for data_prep_b\n",
    "forest_reg_b = RandomForestRegressor()\n",
    "forest_reg_b.fit(data_train_prep_b, data_train_labels_b)\n",
    "\n",
    "scores = cross_val_score(forest_reg_b, data_train_prep_b, data_train_labels_b, scoring=\"neg_mean_squared_error\", cv=10)\n",
    "forest_reg_rmse_scores_b = np.sqrt(-scores)\n",
    "\n",
    "display_scores(forest_reg_rmse_scores_b)"
   ]
  },
  {
   "cell_type": "code",
   "execution_count": 32,
   "metadata": {},
   "outputs": [],
   "source": [
    "#prepare test_data_a for testing\n",
    "#test_data_a = data_test[[\"price_per_m2\", \"building_floors\", \"year\", \"distance_to_center\", \"land_use\", \"relative_share\", \"district\"]]\n",
    "test_data_a = data_test[[\"price_per_m2\", \"building_floors\", \"year\", \"distance_to_center\", \"relative_share\"]]\n",
    "\n",
    "test_labels_a = test_data_a[\"price_per_m2\"].copy()\n",
    "test_set_a = test_data_a.drop(\"price_per_m2\", axis=1)\n",
    "\n",
    "test_data_prep_a = full_pipeline_a.transform(test_set_a)\n",
    "\n",
    "#prepare test_data_b for testing\n",
    "#test_data_b = data_test[[\"price_per_m2\", \"property_type\",\"district\",\"contract_type\",\"protection_zone\",\"building_ban\", \"building_floors\", \"building_year\", \"land_use\"]]\n",
    "test_data_b = data_test[[\"price_per_m2\", \"property_type\",\"district\",\"contract_type\",\"protection_zone\",\"building_ban\", \"land_use\"]]\n",
    "\n",
    "test_labels_b = test_data_b[\"price_per_m2\"].copy()\n",
    "test_set_b = test_data_b.drop(\"price_per_m2\", axis=1)\n",
    "\n",
    "test_data_prep_b = full_pipeline_b.transform(test_set_b)"
   ]
  },
  {
   "cell_type": "code",
   "execution_count": 33,
   "metadata": {},
   "outputs": [],
   "source": [
    "#prepare predictions on test set\n",
    "\n",
    "#predictions from A-Models\n",
    "lin_reg_pred_a = lin_reg_a.predict(test_data_prep_a)\n",
    "ridge_reg_pred_a = ridge_reg_a.predict(test_data_prep_a)\n",
    "lasso_reg_pred_a = lasso_reg_a.predict(test_data_prep_a)\n",
    "tree_reg_pred_a = tree_reg_a.predict(test_data_prep_a)\n",
    "forest_reg_pred_a = forest_reg_a.predict(test_data_prep_a)\n",
    "\n",
    "#predictions from B-Models\n",
    "lin_reg_pred_b = lin_reg_b.predict(test_data_prep_b)\n",
    "ridge_reg_pred_b = ridge_reg_b.predict(test_data_prep_b)\n",
    "lasso_reg_pred_b = lasso_reg_b.predict(test_data_prep_b)\n",
    "tree_reg_pred_b = tree_reg_b.predict(test_data_prep_b)\n",
    "forest_reg_pred_b = forest_reg_b.predict(test_data_prep_b)"
   ]
  },
  {
   "cell_type": "code",
   "execution_count": 34,
   "metadata": {},
   "outputs": [],
   "source": [
    "#used metrics for experiment\n",
    "from sklearn.metrics import mean_squared_error\n",
    "from sklearn.metrics import mean_absolute_error"
   ]
  },
  {
   "cell_type": "code",
   "execution_count": 35,
   "metadata": {},
   "outputs": [],
   "source": [
    "#get metrics for models\n",
    "\n",
    "#metrics for A-Models\n",
    "lin_mse_a = np.sqrt(mean_squared_error(test_labels_a, lin_reg_pred_a))\n",
    "lin_mae_a = mean_absolute_error(test_labels_a, lin_reg_pred_a)\n",
    "ridge_mse_a = np.sqrt(mean_squared_error(test_labels_a, ridge_reg_pred_a))\n",
    "ridge_mae_a = mean_absolute_error(test_labels_a, ridge_reg_pred_a)\n",
    "lasso_mse_a = np.sqrt(mean_squared_error(test_labels_a, lasso_reg_pred_a))\n",
    "lasso_mae_a = mean_absolute_error(test_labels_a, lasso_reg_pred_a)\n",
    "tree_mse_a = np.sqrt(mean_squared_error(test_labels_a, tree_reg_pred_a))\n",
    "tree_mae_a = mean_absolute_error(test_labels_a, tree_reg_pred_a)\n",
    "forest_mse_a = np.sqrt(mean_squared_error(test_labels_a, forest_reg_pred_a))\n",
    "forest_mae_a = mean_absolute_error(test_labels_a, forest_reg_pred_a)\n",
    "\n",
    "\n",
    "#metrics for B-Models\n",
    "lin_mse_b = np.sqrt(mean_squared_error(test_labels_b, lin_reg_pred_b))\n",
    "lin_mae_b = mean_absolute_error(test_labels_b, lin_reg_pred_b)\n",
    "ridge_mse_b = np.sqrt(mean_squared_error(test_labels_b, ridge_reg_pred_b))\n",
    "ridge_mae_b = mean_absolute_error(test_labels_b, ridge_reg_pred_b)\n",
    "lasso_mse_b = np.sqrt(mean_squared_error(test_labels_b, lasso_reg_pred_b))\n",
    "lasso_mae_b = mean_absolute_error(test_labels_b, lasso_reg_pred_b)\n",
    "tree_mse_b = np.sqrt(mean_squared_error(test_labels_b, tree_reg_pred_b))\n",
    "tree_mae_b = mean_absolute_error(test_labels_b, tree_reg_pred_b)\n",
    "forest_mse_b = np.sqrt(mean_squared_error(test_labels_b, forest_reg_pred_b))\n",
    "forest_mae_b = mean_absolute_error(test_labels_b, forest_reg_pred_b)"
   ]
  },
  {
   "cell_type": "code",
   "execution_count": 36,
   "metadata": {},
   "outputs": [
    {
     "data": {
      "text/html": [
       "<div>\n",
       "<style scoped>\n",
       "    .dataframe tbody tr th:only-of-type {\n",
       "        vertical-align: middle;\n",
       "    }\n",
       "\n",
       "    .dataframe tbody tr th {\n",
       "        vertical-align: top;\n",
       "    }\n",
       "\n",
       "    .dataframe thead th {\n",
       "        text-align: right;\n",
       "    }\n",
       "</style>\n",
       "<table border=\"1\" class=\"dataframe\">\n",
       "  <thead>\n",
       "    <tr style=\"text-align: right;\">\n",
       "      <th></th>\n",
       "      <th>Linear/RMSE</th>\n",
       "      <th>Linear/MAE</th>\n",
       "      <th>Ridge/RMSE</th>\n",
       "      <th>Ridge/MAE</th>\n",
       "      <th>Lasso/RMSE</th>\n",
       "      <th>Lasso/MAE</th>\n",
       "      <th>Tree/RMSE</th>\n",
       "      <th>Tree/MAE</th>\n",
       "      <th>Forest/RMSE</th>\n",
       "      <th>Forest/MAE</th>\n",
       "    </tr>\n",
       "  </thead>\n",
       "  <tbody>\n",
       "    <tr>\n",
       "      <th>0</th>\n",
       "      <td>2627.123471</td>\n",
       "      <td>968.478548</td>\n",
       "      <td>2627.128257</td>\n",
       "      <td>968.480335</td>\n",
       "      <td>2627.892243</td>\n",
       "      <td>968.777952</td>\n",
       "      <td>2576.102179</td>\n",
       "      <td>910.522472</td>\n",
       "      <td>2542.940352</td>\n",
       "      <td>859.173018</td>\n",
       "    </tr>\n",
       "  </tbody>\n",
       "</table>\n",
       "</div>"
      ],
      "text/plain": [
       "   Linear/RMSE  Linear/MAE   Ridge/RMSE   Ridge/MAE   Lasso/RMSE   Lasso/MAE  \\\n",
       "0  2627.123471  968.478548  2627.128257  968.480335  2627.892243  968.777952   \n",
       "\n",
       "     Tree/RMSE    Tree/MAE  Forest/RMSE  Forest/MAE  \n",
       "0  2576.102179  910.522472  2542.940352  859.173018  "
      ]
     },
     "execution_count": 36,
     "metadata": {},
     "output_type": "execute_result"
    }
   ],
   "source": [
    "df_a = pd.DataFrame(columns=['Linear/RMSE', 'Linear/MAE', 'Ridge/RMSE', 'Ridge/MAE', 'Lasso/RMSE', 'Lasso/MAE', 'Tree/RMSE', 'Tree/MAE', 'Forest/RMSE', 'Forest/MAE'])\n",
    "df_a['Linear/RMSE'] = [lin_mse_a]\n",
    "df_a['Linear/MAE'] = [lin_mae_a]\n",
    "df_a['Ridge/RMSE'] = [ridge_mse_a]\n",
    "df_a['Ridge/MAE'] = [ridge_mae_a]\n",
    "df_a['Lasso/RMSE'] = [lasso_mse_a]\n",
    "df_a['Lasso/MAE'] = [lasso_mae_a]\n",
    "df_a['Tree/RMSE'] = [tree_mse_a]\n",
    "df_a['Tree/MAE'] = [tree_mae_a]\n",
    "df_a['Forest/RMSE'] = [forest_mse_a]\n",
    "df_a['Forest/MAE'] = [forest_mae_a]\n",
    "\n",
    "df_a"
   ]
  },
  {
   "cell_type": "code",
   "execution_count": 37,
   "metadata": {},
   "outputs": [
    {
     "data": {
      "text/html": [
       "<div>\n",
       "<style scoped>\n",
       "    .dataframe tbody tr th:only-of-type {\n",
       "        vertical-align: middle;\n",
       "    }\n",
       "\n",
       "    .dataframe tbody tr th {\n",
       "        vertical-align: top;\n",
       "    }\n",
       "\n",
       "    .dataframe thead th {\n",
       "        text-align: right;\n",
       "    }\n",
       "</style>\n",
       "<table border=\"1\" class=\"dataframe\">\n",
       "  <thead>\n",
       "    <tr style=\"text-align: right;\">\n",
       "      <th></th>\n",
       "      <th>Linear/RMSE</th>\n",
       "      <th>Linear/MAE</th>\n",
       "      <th>Ridge/RMSE</th>\n",
       "      <th>Ridge/MAE</th>\n",
       "      <th>Lasso/RMSE</th>\n",
       "      <th>Lasso/MAE</th>\n",
       "      <th>Tree/RMSE</th>\n",
       "      <th>Tree/MAE</th>\n",
       "      <th>Forest/RMSE</th>\n",
       "      <th>Forest/MAE</th>\n",
       "    </tr>\n",
       "  </thead>\n",
       "  <tbody>\n",
       "    <tr>\n",
       "      <th>0</th>\n",
       "      <td>2636.074095</td>\n",
       "      <td>929.82819</td>\n",
       "      <td>2636.575413</td>\n",
       "      <td>929.75144</td>\n",
       "      <td>2661.902579</td>\n",
       "      <td>936.862348</td>\n",
       "      <td>2587.737949</td>\n",
       "      <td>867.419227</td>\n",
       "      <td>2592.944415</td>\n",
       "      <td>868.732417</td>\n",
       "    </tr>\n",
       "  </tbody>\n",
       "</table>\n",
       "</div>"
      ],
      "text/plain": [
       "   Linear/RMSE  Linear/MAE   Ridge/RMSE  Ridge/MAE   Lasso/RMSE   Lasso/MAE  \\\n",
       "0  2636.074095   929.82819  2636.575413  929.75144  2661.902579  936.862348   \n",
       "\n",
       "     Tree/RMSE    Tree/MAE  Forest/RMSE  Forest/MAE  \n",
       "0  2587.737949  867.419227  2592.944415  868.732417  "
      ]
     },
     "execution_count": 37,
     "metadata": {},
     "output_type": "execute_result"
    }
   ],
   "source": [
    "df_b = pd.DataFrame(columns=['Linear/RMSE', 'Linear/MAE', 'Ridge/RMSE', 'Ridge/MAE', 'Lasso/RMSE', 'Lasso/MAE', 'Tree/RMSE', 'Tree/MAE', 'Forest/RMSE', 'Forest/MAE'])\n",
    "df_b['Linear/RMSE'] = [lin_mse_b]\n",
    "df_b['Linear/MAE'] = [lin_mae_b]\n",
    "df_b['Ridge/RMSE'] = [ridge_mse_b]\n",
    "df_b['Ridge/MAE'] = [ridge_mae_b]\n",
    "df_b['Lasso/RMSE'] = [lasso_mse_b]\n",
    "df_b['Lasso/MAE'] = [lasso_mae_b]\n",
    "df_b['Tree/RMSE'] = [tree_mse_b]\n",
    "df_b['Tree/MAE'] = [tree_mae_b]\n",
    "df_b['Forest/RMSE'] = [forest_mse_b]\n",
    "df_b['Forest/MAE'] = [forest_mae_b]\n",
    "\n",
    "df_b"
   ]
  },
  {
   "cell_type": "code",
   "execution_count": 38,
   "metadata": {},
   "outputs": [
    {
     "data": {
      "text/plain": [
       "[(0.3122143775307896, 'land_use'),\n",
       " (0.02001007124218196, 'contract_type'),\n",
       " (0.005757497903871896, 'building_floors'),\n",
       " (0.004127580434368415, 'distance_to_center'),\n",
       " (0.0035894106604006572, 'building_ban'),\n",
       " (0.0034408202444856277, 'property_type'),\n",
       " (0.0031016799858435327, 'protection_zone'),\n",
       " (0.0025208032352823664, 'year'),\n",
       " (0.0018874211130663289, 'relative_share'),\n",
       " (5.558522331977779e-06, 'district')]"
      ]
     },
     "execution_count": 38,
     "metadata": {},
     "output_type": "execute_result"
    }
   ],
   "source": [
    "sorted(zip(tree_reg_b.feature_importances_, num_attribs + cat_attribs), reverse=True)"
   ]
  },
  {
   "cell_type": "code",
   "execution_count": 39,
   "metadata": {
    "scrolled": true
   },
   "outputs": [
    {
     "data": {
      "text/plain": [
       "[(0.443651961620323, 'distance_to_center'),\n",
       " (0.2685396685638521, 'relative_share'),\n",
       " (0.1702794682117064, 'year'),\n",
       " (0.11752890160411865, 'building_floors')]"
      ]
     },
     "execution_count": 39,
     "metadata": {},
     "output_type": "execute_result"
    }
   ],
   "source": [
    "sorted(zip(tree_reg_a.feature_importances_, num_attribs + cat_attribs), reverse=True)"
   ]
  },
  {
   "cell_type": "code",
   "execution_count": 40,
   "metadata": {},
   "outputs": [
    {
     "data": {
      "text/plain": [
       "[(0.3038043603075613, 'land_use'),\n",
       " (0.01135244107752148, 'contract_type'),\n",
       " (0.006958199844920035, 'building_floors'),\n",
       " (0.00625017049623265, 'building_ban'),\n",
       " (0.00556929373164231, 'protection_zone'),\n",
       " (0.005491783860257404, 'property_type'),\n",
       " (0.004729613635281249, 'distance_to_center'),\n",
       " (0.004274513134595376, 'year'),\n",
       " (0.0014282913149084376, 'relative_share'),\n",
       " (4.435313207412804e-06, 'district')]"
      ]
     },
     "execution_count": 40,
     "metadata": {},
     "output_type": "execute_result"
    }
   ],
   "source": [
    "sorted(zip(forest_reg_b.feature_importances_, num_attribs + cat_attribs), reverse=True)"
   ]
  },
  {
   "cell_type": "code",
   "execution_count": 41,
   "metadata": {},
   "outputs": [
    {
     "data": {
      "text/plain": [
       "[(0.4429683744844026, 'distance_to_center'),\n",
       " (0.2698534319667941, 'relative_share'),\n",
       " (0.1725522426557861, 'year'),\n",
       " (0.11462595089301728, 'building_floors')]"
      ]
     },
     "execution_count": 41,
     "metadata": {},
     "output_type": "execute_result"
    }
   ],
   "source": [
    "sorted(zip(forest_reg_a.feature_importances_, num_attribs + cat_attribs), reverse=True)"
   ]
  },
  {
   "cell_type": "code",
   "execution_count": 42,
   "metadata": {},
   "outputs": [
    {
     "data": {
      "text/html": [
       "<div>\n",
       "<style scoped>\n",
       "    .dataframe tbody tr th:only-of-type {\n",
       "        vertical-align: middle;\n",
       "    }\n",
       "\n",
       "    .dataframe tbody tr th {\n",
       "        vertical-align: top;\n",
       "    }\n",
       "\n",
       "    .dataframe thead th {\n",
       "        text-align: right;\n",
       "    }\n",
       "</style>\n",
       "<table border=\"1\" class=\"dataframe\">\n",
       "  <thead>\n",
       "    <tr style=\"text-align: right;\">\n",
       "      <th></th>\n",
       "      <th>Linear/RMSE</th>\n",
       "      <th>Linear/MAE</th>\n",
       "      <th>Ridge/RMSE</th>\n",
       "      <th>Ridge/MAE</th>\n",
       "      <th>Lasso/RMSE</th>\n",
       "      <th>Lasso/MAE</th>\n",
       "      <th>Tree/RMSE</th>\n",
       "      <th>Tree/MAE</th>\n",
       "      <th>Forest/RMSE</th>\n",
       "      <th>Forest/MAE</th>\n",
       "    </tr>\n",
       "  </thead>\n",
       "  <tbody>\n",
       "    <tr>\n",
       "      <th>0</th>\n",
       "      <td>2627.123471</td>\n",
       "      <td>968.478548</td>\n",
       "      <td>2627.128257</td>\n",
       "      <td>968.480335</td>\n",
       "      <td>2627.892243</td>\n",
       "      <td>968.777952</td>\n",
       "      <td>2576.102179</td>\n",
       "      <td>910.522472</td>\n",
       "      <td>2542.940352</td>\n",
       "      <td>859.173018</td>\n",
       "    </tr>\n",
       "    <tr>\n",
       "      <th>0</th>\n",
       "      <td>2636.074095</td>\n",
       "      <td>929.828190</td>\n",
       "      <td>2636.575413</td>\n",
       "      <td>929.751440</td>\n",
       "      <td>2661.902579</td>\n",
       "      <td>936.862348</td>\n",
       "      <td>2587.737949</td>\n",
       "      <td>867.419227</td>\n",
       "      <td>2592.944415</td>\n",
       "      <td>868.732417</td>\n",
       "    </tr>\n",
       "  </tbody>\n",
       "</table>\n",
       "</div>"
      ],
      "text/plain": [
       "   Linear/RMSE  Linear/MAE   Ridge/RMSE   Ridge/MAE   Lasso/RMSE   Lasso/MAE  \\\n",
       "0  2627.123471  968.478548  2627.128257  968.480335  2627.892243  968.777952   \n",
       "0  2636.074095  929.828190  2636.575413  929.751440  2661.902579  936.862348   \n",
       "\n",
       "     Tree/RMSE    Tree/MAE  Forest/RMSE  Forest/MAE  \n",
       "0  2576.102179  910.522472  2542.940352  859.173018  \n",
       "0  2587.737949  867.419227  2592.944415  868.732417  "
      ]
     },
     "execution_count": 42,
     "metadata": {},
     "output_type": "execute_result"
    }
   ],
   "source": [
    "pd.concat([df_a, df_b])"
   ]
  },
  {
   "cell_type": "code",
   "execution_count": null,
   "metadata": {},
   "outputs": [],
   "source": []
  }
 ],
 "metadata": {
  "kernelspec": {
   "display_name": "Python 3",
   "language": "python",
   "name": "python3"
  },
  "language_info": {
   "codemirror_mode": {
    "name": "ipython",
    "version": 3
   },
   "file_extension": ".py",
   "mimetype": "text/x-python",
   "name": "python",
   "nbconvert_exporter": "python",
   "pygments_lexer": "ipython3",
   "version": "3.6.7"
  }
 },
 "nbformat": 4,
 "nbformat_minor": 2
}
