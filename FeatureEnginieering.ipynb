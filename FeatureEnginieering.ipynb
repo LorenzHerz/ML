{
 "cells": [
  {
   "cell_type": "code",
   "execution_count": 1,
   "metadata": {},
   "outputs": [
    {
     "name": "stderr",
     "output_type": "stream",
     "text": [
      "/usr/lib/python3.6/importlib/_bootstrap.py:219: RuntimeWarning: numpy.dtype size changed, may indicate binary incompatibility. Expected 96, got 88\n",
      "  return f(*args, **kwds)\n",
      "/usr/lib/python3.6/importlib/_bootstrap.py:219: RuntimeWarning: numpy.dtype size changed, may indicate binary incompatibility. Expected 96, got 88\n",
      "  return f(*args, **kwds)\n"
     ]
    }
   ],
   "source": [
    "import pandas as pd\n",
    "import numpy as np\n",
    "import matplotlib.pyplot as plt"
   ]
  },
  {
   "cell_type": "code",
   "execution_count": 2,
   "metadata": {},
   "outputs": [
    {
     "name": "stderr",
     "output_type": "stream",
     "text": [
      "/home/loherzberger/Projects/ML/venv/lib/python3.6/site-packages/IPython/core/interactiveshell.py:2785: DtypeWarning: Columns (13) have mixed types. Specify dtype option on import or set low_memory=False.\n",
      "  interactivity=interactivity, compiler=compiler, result=result)\n"
     ]
    }
   ],
   "source": [
    "data = pd.read_csv(\"data/training_data_utf8.csv\")"
   ]
  },
  {
   "cell_type": "code",
   "execution_count": 3,
   "metadata": {},
   "outputs": [
    {
     "data": {
      "text/html": [
       "<div>\n",
       "<style scoped>\n",
       "    .dataframe tbody tr th:only-of-type {\n",
       "        vertical-align: middle;\n",
       "    }\n",
       "\n",
       "    .dataframe tbody tr th {\n",
       "        vertical-align: top;\n",
       "    }\n",
       "\n",
       "    .dataframe thead th {\n",
       "        text-align: right;\n",
       "    }\n",
       "</style>\n",
       "<table border=\"1\" class=\"dataframe\">\n",
       "  <thead>\n",
       "    <tr style=\"text-align: right;\">\n",
       "      <th></th>\n",
       "      <th>id</th>\n",
       "      <th>price_per_m2</th>\n",
       "      <th>transaction_ym</th>\n",
       "      <th>plot_area</th>\n",
       "      <th>plot_share</th>\n",
       "      <th>property_type</th>\n",
       "      <th>cadastral</th>\n",
       "      <th>district</th>\n",
       "      <th>contract_type</th>\n",
       "      <th>land_use</th>\n",
       "      <th>land_use_share</th>\n",
       "      <th>protection_zone</th>\n",
       "      <th>building_ban</th>\n",
       "      <th>building_height</th>\n",
       "      <th>building_floors</th>\n",
       "      <th>building_year</th>\n",
       "      <th>longitude</th>\n",
       "      <th>latitude</th>\n",
       "    </tr>\n",
       "  </thead>\n",
       "  <tbody>\n",
       "    <tr>\n",
       "      <th>0</th>\n",
       "      <td>7671</td>\n",
       "      <td>224.351484</td>\n",
       "      <td>2013-12</td>\n",
       "      <td>4279</td>\n",
       "      <td>1.0</td>\n",
       "      <td>Betriebsobjekt</td>\n",
       "      <td>Kagran</td>\n",
       "      <td>Donaustadt</td>\n",
       "      <td>Kaufvertrag</td>\n",
       "      <td>GB</td>\n",
       "      <td>1.00</td>\n",
       "      <td>No</td>\n",
       "      <td>No</td>\n",
       "      <td>NaN</td>\n",
       "      <td>1.0</td>\n",
       "      <td>1990.0</td>\n",
       "      <td>16.464163</td>\n",
       "      <td>48.259071</td>\n",
       "    </tr>\n",
       "    <tr>\n",
       "      <th>1</th>\n",
       "      <td>7672</td>\n",
       "      <td>357.995227</td>\n",
       "      <td>2013-12</td>\n",
       "      <td>838</td>\n",
       "      <td>1.0</td>\n",
       "      <td>Abbruchobjekt</td>\n",
       "      <td>Liesing</td>\n",
       "      <td>Liesing</td>\n",
       "      <td>Kaufvertrag</td>\n",
       "      <td>W</td>\n",
       "      <td>1.00</td>\n",
       "      <td>No</td>\n",
       "      <td>No</td>\n",
       "      <td>10.5</td>\n",
       "      <td>2.0</td>\n",
       "      <td>NaN</td>\n",
       "      <td>16.275103</td>\n",
       "      <td>48.133264</td>\n",
       "    </tr>\n",
       "    <tr>\n",
       "      <th>2</th>\n",
       "      <td>7673</td>\n",
       "      <td>636.474908</td>\n",
       "      <td>2013-12</td>\n",
       "      <td>817</td>\n",
       "      <td>1.0</td>\n",
       "      <td>Ein-, Zweifamilienhaus</td>\n",
       "      <td>Atzgersdorf</td>\n",
       "      <td>Liesing</td>\n",
       "      <td>Kaufvertrag</td>\n",
       "      <td>GB</td>\n",
       "      <td>1.00</td>\n",
       "      <td>No</td>\n",
       "      <td>No</td>\n",
       "      <td>3.5</td>\n",
       "      <td>2.0</td>\n",
       "      <td>NaN</td>\n",
       "      <td>16.296926</td>\n",
       "      <td>48.145348</td>\n",
       "    </tr>\n",
       "    <tr>\n",
       "      <th>3</th>\n",
       "      <td>7674</td>\n",
       "      <td>906.095552</td>\n",
       "      <td>2013-12</td>\n",
       "      <td>607</td>\n",
       "      <td>1.0</td>\n",
       "      <td>Ein-, Zweifamilienhaus</td>\n",
       "      <td>Ottakring</td>\n",
       "      <td>Ottakring</td>\n",
       "      <td>Kaufvertrag</td>\n",
       "      <td>W</td>\n",
       "      <td>1.00</td>\n",
       "      <td>No</td>\n",
       "      <td>No</td>\n",
       "      <td>7.5</td>\n",
       "      <td>2.0</td>\n",
       "      <td>NaN</td>\n",
       "      <td>16.290968</td>\n",
       "      <td>48.217580</td>\n",
       "    </tr>\n",
       "    <tr>\n",
       "      <th>4</th>\n",
       "      <td>7675</td>\n",
       "      <td>167.941498</td>\n",
       "      <td>2013-12</td>\n",
       "      <td>11897</td>\n",
       "      <td>1.0</td>\n",
       "      <td>unbebaut</td>\n",
       "      <td>Groß Jedlersdorf I</td>\n",
       "      <td>Floridsdorf</td>\n",
       "      <td>Kaufvertrag</td>\n",
       "      <td>W</td>\n",
       "      <td>0.19</td>\n",
       "      <td>No</td>\n",
       "      <td>No</td>\n",
       "      <td>NaN</td>\n",
       "      <td>NaN</td>\n",
       "      <td>NaN</td>\n",
       "      <td>16.418471</td>\n",
       "      <td>48.288753</td>\n",
       "    </tr>\n",
       "  </tbody>\n",
       "</table>\n",
       "</div>"
      ],
      "text/plain": [
       "     id  price_per_m2 transaction_ym  plot_area  plot_share  \\\n",
       "0  7671    224.351484        2013-12       4279         1.0   \n",
       "1  7672    357.995227        2013-12        838         1.0   \n",
       "2  7673    636.474908        2013-12        817         1.0   \n",
       "3  7674    906.095552        2013-12        607         1.0   \n",
       "4  7675    167.941498        2013-12      11897         1.0   \n",
       "\n",
       "            property_type           cadastral     district contract_type  \\\n",
       "0          Betriebsobjekt              Kagran   Donaustadt   Kaufvertrag   \n",
       "1           Abbruchobjekt             Liesing      Liesing   Kaufvertrag   \n",
       "2  Ein-, Zweifamilienhaus         Atzgersdorf      Liesing   Kaufvertrag   \n",
       "3  Ein-, Zweifamilienhaus           Ottakring    Ottakring   Kaufvertrag   \n",
       "4                unbebaut  Groß Jedlersdorf I  Floridsdorf   Kaufvertrag   \n",
       "\n",
       "  land_use  land_use_share protection_zone building_ban building_height  \\\n",
       "0       GB            1.00              No           No             NaN   \n",
       "1        W            1.00              No           No            10.5   \n",
       "2       GB            1.00              No           No             3.5   \n",
       "3        W            1.00              No           No             7.5   \n",
       "4        W            0.19              No           No             NaN   \n",
       "\n",
       "   building_floors  building_year  longitude   latitude  \n",
       "0              1.0         1990.0  16.464163  48.259071  \n",
       "1              2.0            NaN  16.275103  48.133264  \n",
       "2              2.0            NaN  16.296926  48.145348  \n",
       "3              2.0            NaN  16.290968  48.217580  \n",
       "4              NaN            NaN  16.418471  48.288753  "
      ]
     },
     "execution_count": 3,
     "metadata": {},
     "output_type": "execute_result"
    }
   ],
   "source": [
    "data.head()"
   ]
  },
  {
   "cell_type": "code",
   "execution_count": 4,
   "metadata": {},
   "outputs": [
    {
     "name": "stdout",
     "output_type": "stream",
     "text": [
      "<class 'pandas.core.frame.DataFrame'>\n",
      "RangeIndex: 44366 entries, 0 to 44365\n",
      "Data columns (total 18 columns):\n",
      "id                 44366 non-null int64\n",
      "price_per_m2       44366 non-null float64\n",
      "transaction_ym     44366 non-null object\n",
      "plot_area          44366 non-null int64\n",
      "plot_share         44366 non-null float64\n",
      "property_type      44366 non-null object\n",
      "cadastral          44366 non-null object\n",
      "district           44294 non-null object\n",
      "contract_type      44366 non-null object\n",
      "land_use           44260 non-null object\n",
      "land_use_share     44320 non-null float64\n",
      "protection_zone    44366 non-null object\n",
      "building_ban       44366 non-null object\n",
      "building_height    7800 non-null object\n",
      "building_floors    18422 non-null float64\n",
      "building_year      14739 non-null float64\n",
      "longitude          32465 non-null float64\n",
      "latitude           32465 non-null float64\n",
      "dtypes: float64(7), int64(2), object(9)\n",
      "memory usage: 6.1+ MB\n"
     ]
    }
   ],
   "source": [
    "data.info()"
   ]
  },
  {
   "cell_type": "code",
   "execution_count": 5,
   "metadata": {},
   "outputs": [
    {
     "data": {
      "text/html": [
       "<div>\n",
       "<style scoped>\n",
       "    .dataframe tbody tr th:only-of-type {\n",
       "        vertical-align: middle;\n",
       "    }\n",
       "\n",
       "    .dataframe tbody tr th {\n",
       "        vertical-align: top;\n",
       "    }\n",
       "\n",
       "    .dataframe thead th {\n",
       "        text-align: right;\n",
       "    }\n",
       "</style>\n",
       "<table border=\"1\" class=\"dataframe\">\n",
       "  <thead>\n",
       "    <tr style=\"text-align: right;\">\n",
       "      <th></th>\n",
       "      <th>id</th>\n",
       "      <th>price_per_m2</th>\n",
       "      <th>plot_area</th>\n",
       "      <th>plot_share</th>\n",
       "      <th>land_use_share</th>\n",
       "      <th>building_floors</th>\n",
       "      <th>building_year</th>\n",
       "      <th>longitude</th>\n",
       "      <th>latitude</th>\n",
       "    </tr>\n",
       "  </thead>\n",
       "  <tbody>\n",
       "    <tr>\n",
       "      <th>count</th>\n",
       "      <td>44366.000000</td>\n",
       "      <td>44366.000000</td>\n",
       "      <td>4.436600e+04</td>\n",
       "      <td>44366.000000</td>\n",
       "      <td>44320.000000</td>\n",
       "      <td>18422.000000</td>\n",
       "      <td>14739.000000</td>\n",
       "      <td>32465.000000</td>\n",
       "      <td>32465.000000</td>\n",
       "    </tr>\n",
       "    <tr>\n",
       "      <th>mean</th>\n",
       "      <td>29853.500000</td>\n",
       "      <td>789.062369</td>\n",
       "      <td>1.880226e+03</td>\n",
       "      <td>0.959631</td>\n",
       "      <td>0.956965</td>\n",
       "      <td>2.063402</td>\n",
       "      <td>1913.283737</td>\n",
       "      <td>16.363182</td>\n",
       "      <td>48.207192</td>\n",
       "    </tr>\n",
       "    <tr>\n",
       "      <th>std</th>\n",
       "      <td>12807.505358</td>\n",
       "      <td>2276.246856</td>\n",
       "      <td>1.064498e+04</td>\n",
       "      <td>0.163726</td>\n",
       "      <td>0.144435</td>\n",
       "      <td>1.902943</td>\n",
       "      <td>37.464120</td>\n",
       "      <td>0.074558</td>\n",
       "      <td>0.039031</td>\n",
       "    </tr>\n",
       "    <tr>\n",
       "      <th>min</th>\n",
       "      <td>7671.000000</td>\n",
       "      <td>0.161937</td>\n",
       "      <td>1.000000e+00</td>\n",
       "      <td>0.000260</td>\n",
       "      <td>0.000000</td>\n",
       "      <td>0.000000</td>\n",
       "      <td>1800.000000</td>\n",
       "      <td>15.605753</td>\n",
       "      <td>47.850748</td>\n",
       "    </tr>\n",
       "    <tr>\n",
       "      <th>25%</th>\n",
       "      <td>18762.250000</td>\n",
       "      <td>181.682084</td>\n",
       "      <td>4.120000e+02</td>\n",
       "      <td>1.000000</td>\n",
       "      <td>1.000000</td>\n",
       "      <td>0.000000</td>\n",
       "      <td>1894.000000</td>\n",
       "      <td>16.310912</td>\n",
       "      <td>48.179708</td>\n",
       "    </tr>\n",
       "    <tr>\n",
       "      <th>50%</th>\n",
       "      <td>29853.500000</td>\n",
       "      <td>354.343664</td>\n",
       "      <td>5.810000e+02</td>\n",
       "      <td>1.000000</td>\n",
       "      <td>1.000000</td>\n",
       "      <td>2.000000</td>\n",
       "      <td>1900.000000</td>\n",
       "      <td>16.352831</td>\n",
       "      <td>48.208886</td>\n",
       "    </tr>\n",
       "    <tr>\n",
       "      <th>75%</th>\n",
       "      <td>40944.750000</td>\n",
       "      <td>726.728429</td>\n",
       "      <td>1.035000e+03</td>\n",
       "      <td>1.000000</td>\n",
       "      <td>1.000000</td>\n",
       "      <td>4.000000</td>\n",
       "      <td>1940.000000</td>\n",
       "      <td>16.407386</td>\n",
       "      <td>48.230576</td>\n",
       "    </tr>\n",
       "    <tr>\n",
       "      <th>max</th>\n",
       "      <td>52036.000000</td>\n",
       "      <td>197628.458498</td>\n",
       "      <td>1.187781e+06</td>\n",
       "      <td>1.000000</td>\n",
       "      <td>1.000000</td>\n",
       "      <td>12.000000</td>\n",
       "      <td>2017.000000</td>\n",
       "      <td>16.572405</td>\n",
       "      <td>48.314311</td>\n",
       "    </tr>\n",
       "  </tbody>\n",
       "</table>\n",
       "</div>"
      ],
      "text/plain": [
       "                 id   price_per_m2     plot_area    plot_share  \\\n",
       "count  44366.000000   44366.000000  4.436600e+04  44366.000000   \n",
       "mean   29853.500000     789.062369  1.880226e+03      0.959631   \n",
       "std    12807.505358    2276.246856  1.064498e+04      0.163726   \n",
       "min     7671.000000       0.161937  1.000000e+00      0.000260   \n",
       "25%    18762.250000     181.682084  4.120000e+02      1.000000   \n",
       "50%    29853.500000     354.343664  5.810000e+02      1.000000   \n",
       "75%    40944.750000     726.728429  1.035000e+03      1.000000   \n",
       "max    52036.000000  197628.458498  1.187781e+06      1.000000   \n",
       "\n",
       "       land_use_share  building_floors  building_year     longitude  \\\n",
       "count    44320.000000     18422.000000   14739.000000  32465.000000   \n",
       "mean         0.956965         2.063402    1913.283737     16.363182   \n",
       "std          0.144435         1.902943      37.464120      0.074558   \n",
       "min          0.000000         0.000000    1800.000000     15.605753   \n",
       "25%          1.000000         0.000000    1894.000000     16.310912   \n",
       "50%          1.000000         2.000000    1900.000000     16.352831   \n",
       "75%          1.000000         4.000000    1940.000000     16.407386   \n",
       "max          1.000000        12.000000    2017.000000     16.572405   \n",
       "\n",
       "           latitude  \n",
       "count  32465.000000  \n",
       "mean      48.207192  \n",
       "std        0.039031  \n",
       "min       47.850748  \n",
       "25%       48.179708  \n",
       "50%       48.208886  \n",
       "75%       48.230576  \n",
       "max       48.314311  "
      ]
     },
     "execution_count": 5,
     "metadata": {},
     "output_type": "execute_result"
    }
   ],
   "source": [
    "#describe numerical values\n",
    "data.describe()"
   ]
  },
  {
   "cell_type": "code",
   "execution_count": 6,
   "metadata": {},
   "outputs": [
    {
     "data": {
      "text/html": [
       "<div>\n",
       "<style scoped>\n",
       "    .dataframe tbody tr th:only-of-type {\n",
       "        vertical-align: middle;\n",
       "    }\n",
       "\n",
       "    .dataframe tbody tr th {\n",
       "        vertical-align: top;\n",
       "    }\n",
       "\n",
       "    .dataframe thead th {\n",
       "        text-align: right;\n",
       "    }\n",
       "</style>\n",
       "<table border=\"1\" class=\"dataframe\">\n",
       "  <thead>\n",
       "    <tr style=\"text-align: right;\">\n",
       "      <th></th>\n",
       "      <th>transaction_ym</th>\n",
       "      <th>property_type</th>\n",
       "      <th>cadastral</th>\n",
       "      <th>district</th>\n",
       "      <th>contract_type</th>\n",
       "      <th>land_use</th>\n",
       "      <th>protection_zone</th>\n",
       "      <th>building_ban</th>\n",
       "      <th>building_height</th>\n",
       "    </tr>\n",
       "  </thead>\n",
       "  <tbody>\n",
       "    <tr>\n",
       "      <th>count</th>\n",
       "      <td>44366</td>\n",
       "      <td>44366</td>\n",
       "      <td>44366</td>\n",
       "      <td>44294</td>\n",
       "      <td>44366</td>\n",
       "      <td>44260</td>\n",
       "      <td>44366</td>\n",
       "      <td>44366</td>\n",
       "      <td>7800</td>\n",
       "    </tr>\n",
       "    <tr>\n",
       "      <th>unique</th>\n",
       "      <td>324</td>\n",
       "      <td>16</td>\n",
       "      <td>88</td>\n",
       "      <td>23</td>\n",
       "      <td>11</td>\n",
       "      <td>56</td>\n",
       "      <td>2</td>\n",
       "      <td>2</td>\n",
       "      <td>97</td>\n",
       "    </tr>\n",
       "    <tr>\n",
       "      <th>top</th>\n",
       "      <td>1988-12</td>\n",
       "      <td>unbebaut</td>\n",
       "      <td>Eßling</td>\n",
       "      <td>Donaustadt</td>\n",
       "      <td>Kaufvertrag</td>\n",
       "      <td>WI/GBI</td>\n",
       "      <td>No</td>\n",
       "      <td>No</td>\n",
       "      <td>6.5</td>\n",
       "    </tr>\n",
       "    <tr>\n",
       "      <th>freq</th>\n",
       "      <td>296</td>\n",
       "      <td>15345</td>\n",
       "      <td>2270</td>\n",
       "      <td>8476</td>\n",
       "      <td>38853</td>\n",
       "      <td>12099</td>\n",
       "      <td>43306</td>\n",
       "      <td>43857</td>\n",
       "      <td>2763</td>\n",
       "    </tr>\n",
       "  </tbody>\n",
       "</table>\n",
       "</div>"
      ],
      "text/plain": [
       "       transaction_ym property_type cadastral    district contract_type  \\\n",
       "count           44366         44366     44366       44294         44366   \n",
       "unique            324            16        88          23            11   \n",
       "top           1988-12      unbebaut    Eßling  Donaustadt   Kaufvertrag   \n",
       "freq              296         15345      2270        8476         38853   \n",
       "\n",
       "       land_use protection_zone building_ban building_height  \n",
       "count     44260           44366        44366            7800  \n",
       "unique       56               2            2              97  \n",
       "top      WI/GBI              No           No             6.5  \n",
       "freq      12099           43306        43857            2763  "
      ]
     },
     "execution_count": 6,
     "metadata": {},
     "output_type": "execute_result"
    }
   ],
   "source": [
    "#describe categorical values\n",
    "data.describe(include=\"O\")"
   ]
  },
  {
   "cell_type": "code",
   "execution_count": 7,
   "metadata": {},
   "outputs": [],
   "source": [
    "corrmat = data.corr()"
   ]
  },
  {
   "cell_type": "code",
   "execution_count": 8,
   "metadata": {},
   "outputs": [
    {
     "data": {
      "text/plain": [
       "price_per_m2       1.000000\n",
       "building_floors    0.385326\n",
       "plot_share         0.002082\n",
       "latitude          -0.011045\n",
       "plot_area         -0.028618\n",
       "longitude         -0.038409\n",
       "land_use_share    -0.050230\n",
       "building_year     -0.051976\n",
       "id                -0.133134\n",
       "Name: price_per_m2, dtype: float64"
      ]
     },
     "execution_count": 8,
     "metadata": {},
     "output_type": "execute_result"
    }
   ],
   "source": [
    "corrmat[\"price_per_m2\"].sort_values(ascending=False)"
   ]
  },
  {
   "cell_type": "code",
   "execution_count": 9,
   "metadata": {},
   "outputs": [],
   "source": [
    "from math import radians, cos, sin, asin, sqrt\n",
    "def haversine(lon1, lat1, lon2, lat2):\n",
    "    \"\"\"\n",
    "    Calculate the great circle distance between two points \n",
    "    on the earth (specified in decimal degrees)\n",
    "    \"\"\"\n",
    "    # convert decimal degrees to radians \n",
    "    lon1, lat1, lon2, lat2 = map(radians, [lon1, lat1, lon2, lat2])\n",
    "    # haversine formula \n",
    "    dlon = lon2 - lon1 \n",
    "    dlat = lat2 - lat1 \n",
    "    a = sin(dlat/2)**2 + cos(lat1) * cos(lat2) * sin(dlon/2)**2\n",
    "    c = 2 * asin(sqrt(a)) \n",
    "    km = 6367 * c\n",
    "    return km"
   ]
  },
  {
   "cell_type": "code",
   "execution_count": 10,
   "metadata": {},
   "outputs": [],
   "source": [
    "latitudeCenter = 48.210033\n",
    "longitudeCenter = 16.363449"
   ]
  },
  {
   "cell_type": "code",
   "execution_count": 11,
   "metadata": {},
   "outputs": [],
   "source": [
    "for index, row in data.iterrows():\n",
    "    data.loc[index, 'distance_to_center'] = haversine(row['longitude'], row['latitude'], longitudeCenter, latitudeCenter)"
   ]
  },
  {
   "cell_type": "code",
   "execution_count": 12,
   "metadata": {},
   "outputs": [
    {
     "data": {
      "text/plain": [
       "price_per_m2          1.000000\n",
       "building_floors       0.385326\n",
       "plot_share            0.002082\n",
       "latitude             -0.011045\n",
       "plot_area            -0.028618\n",
       "longitude            -0.038409\n",
       "land_use_share       -0.050230\n",
       "building_year        -0.051976\n",
       "id                   -0.133134\n",
       "distance_to_center   -0.268828\n",
       "Name: price_per_m2, dtype: float64"
      ]
     },
     "execution_count": 12,
     "metadata": {},
     "output_type": "execute_result"
    }
   ],
   "source": [
    "corrmat = data.corr()\n",
    "corrmat[\"price_per_m2\"].sort_values(ascending=False)"
   ]
  },
  {
   "cell_type": "code",
   "execution_count": 13,
   "metadata": {},
   "outputs": [
    {
     "data": {
      "text/plain": [
       "(31708, 19)"
      ]
     },
     "execution_count": 13,
     "metadata": {},
     "output_type": "execute_result"
    }
   ],
   "source": [
    "data = data[data.distance_to_center < 15]\n",
    "data = data[data.price_per_m2 < 5000]\n",
    "data.shape"
   ]
  },
  {
   "cell_type": "code",
   "execution_count": 14,
   "metadata": {},
   "outputs": [],
   "source": [
    "data[['building_floors']] = data[['building_floors']].fillna(data[['building_floors']].mean())"
   ]
  },
  {
   "cell_type": "code",
   "execution_count": 15,
   "metadata": {},
   "outputs": [
    {
     "data": {
      "text/plain": [
       "price_per_m2          1.000000\n",
       "building_floors       0.385326\n",
       "plot_share            0.002082\n",
       "latitude             -0.011045\n",
       "plot_area            -0.028618\n",
       "longitude            -0.038409\n",
       "land_use_share       -0.050230\n",
       "building_year        -0.051976\n",
       "id                   -0.133134\n",
       "distance_to_center   -0.268828\n",
       "Name: price_per_m2, dtype: float64"
      ]
     },
     "execution_count": 15,
     "metadata": {},
     "output_type": "execute_result"
    }
   ],
   "source": [
    "corrmat[\"price_per_m2\"].sort_values(ascending=False)"
   ]
  },
  {
   "cell_type": "code",
   "execution_count": 16,
   "metadata": {},
   "outputs": [],
   "source": [
    "data_fillna = data.fillna(data.mean())"
   ]
  },
  {
   "cell_type": "code",
   "execution_count": 17,
   "metadata": {},
   "outputs": [
    {
     "data": {
      "text/plain": [
       "price_per_m2          1.000000\n",
       "building_floors       0.451683\n",
       "plot_share           -0.004921\n",
       "latitude             -0.011959\n",
       "plot_area            -0.070899\n",
       "building_year        -0.091530\n",
       "longitude            -0.120077\n",
       "land_use_share       -0.132532\n",
       "id                   -0.269039\n",
       "distance_to_center   -0.477752\n",
       "Name: price_per_m2, dtype: float64"
      ]
     },
     "execution_count": 17,
     "metadata": {},
     "output_type": "execute_result"
    }
   ],
   "source": [
    "corrmat_fillna = data_fillna.corr()\n",
    "corrmat_fillna[\"price_per_m2\"].sort_values(ascending=False)"
   ]
  },
  {
   "cell_type": "code",
   "execution_count": 18,
   "metadata": {},
   "outputs": [
    {
     "data": {
      "text/html": [
       "<div>\n",
       "<style scoped>\n",
       "    .dataframe tbody tr th:only-of-type {\n",
       "        vertical-align: middle;\n",
       "    }\n",
       "\n",
       "    .dataframe tbody tr th {\n",
       "        vertical-align: top;\n",
       "    }\n",
       "\n",
       "    .dataframe thead th {\n",
       "        text-align: right;\n",
       "    }\n",
       "</style>\n",
       "<table border=\"1\" class=\"dataframe\">\n",
       "  <thead>\n",
       "    <tr style=\"text-align: right;\">\n",
       "      <th></th>\n",
       "      <th>id</th>\n",
       "      <th>price_per_m2</th>\n",
       "      <th>plot_area</th>\n",
       "      <th>plot_share</th>\n",
       "      <th>land_use_share</th>\n",
       "      <th>building_floors</th>\n",
       "      <th>building_year</th>\n",
       "      <th>longitude</th>\n",
       "      <th>latitude</th>\n",
       "      <th>distance_to_center</th>\n",
       "    </tr>\n",
       "  </thead>\n",
       "  <tbody>\n",
       "    <tr>\n",
       "      <th>count</th>\n",
       "      <td>31708.000000</td>\n",
       "      <td>31708.000000</td>\n",
       "      <td>31708.000000</td>\n",
       "      <td>31708.000000</td>\n",
       "      <td>31708.000000</td>\n",
       "      <td>31708.000000</td>\n",
       "      <td>31708.00000</td>\n",
       "      <td>31708.000000</td>\n",
       "      <td>31708.000000</td>\n",
       "      <td>31708.000000</td>\n",
       "    </tr>\n",
       "    <tr>\n",
       "      <th>mean</th>\n",
       "      <td>30119.745395</td>\n",
       "      <td>669.368170</td>\n",
       "      <td>1101.934780</td>\n",
       "      <td>0.962179</td>\n",
       "      <td>0.957303</td>\n",
       "      <td>2.136811</td>\n",
       "      <td>1911.42537</td>\n",
       "      <td>16.363218</td>\n",
       "      <td>48.207237</td>\n",
       "      <td>6.313230</td>\n",
       "    </tr>\n",
       "    <tr>\n",
       "      <th>std</th>\n",
       "      <td>12830.194229</td>\n",
       "      <td>751.763499</td>\n",
       "      <td>3378.021244</td>\n",
       "      <td>0.155454</td>\n",
       "      <td>0.144111</td>\n",
       "      <td>1.175471</td>\n",
       "      <td>22.63051</td>\n",
       "      <td>0.075222</td>\n",
       "      <td>0.039365</td>\n",
       "      <td>3.225591</td>\n",
       "    </tr>\n",
       "    <tr>\n",
       "      <th>min</th>\n",
       "      <td>7671.000000</td>\n",
       "      <td>0.383400</td>\n",
       "      <td>1.000000</td>\n",
       "      <td>0.001000</td>\n",
       "      <td>0.000000</td>\n",
       "      <td>0.000000</td>\n",
       "      <td>1800.00000</td>\n",
       "      <td>16.190731</td>\n",
       "      <td>48.121595</td>\n",
       "      <td>0.042117</td>\n",
       "    </tr>\n",
       "    <tr>\n",
       "      <th>25%</th>\n",
       "      <td>19075.750000</td>\n",
       "      <td>224.129779</td>\n",
       "      <td>417.000000</td>\n",
       "      <td>1.000000</td>\n",
       "      <td>1.000000</td>\n",
       "      <td>2.000000</td>\n",
       "      <td>1910.00000</td>\n",
       "      <td>16.309955</td>\n",
       "      <td>48.179050</td>\n",
       "      <td>3.391614</td>\n",
       "    </tr>\n",
       "    <tr>\n",
       "      <th>50%</th>\n",
       "      <td>30211.000000</td>\n",
       "      <td>414.513038</td>\n",
       "      <td>550.000000</td>\n",
       "      <td>1.000000</td>\n",
       "      <td>1.000000</td>\n",
       "      <td>2.136811</td>\n",
       "      <td>1911.42537</td>\n",
       "      <td>16.351973</td>\n",
       "      <td>48.209024</td>\n",
       "      <td>6.442939</td>\n",
       "    </tr>\n",
       "    <tr>\n",
       "      <th>75%</th>\n",
       "      <td>41334.500000</td>\n",
       "      <td>793.126241</td>\n",
       "      <td>827.000000</td>\n",
       "      <td>1.000000</td>\n",
       "      <td>1.000000</td>\n",
       "      <td>2.136811</td>\n",
       "      <td>1911.42537</td>\n",
       "      <td>16.409113</td>\n",
       "      <td>48.231179</td>\n",
       "      <td>8.720654</td>\n",
       "    </tr>\n",
       "    <tr>\n",
       "      <th>max</th>\n",
       "      <td>52034.000000</td>\n",
       "      <td>4992.887624</td>\n",
       "      <td>143858.000000</td>\n",
       "      <td>1.000000</td>\n",
       "      <td>1.000000</td>\n",
       "      <td>12.000000</td>\n",
       "      <td>2017.00000</td>\n",
       "      <td>16.546959</td>\n",
       "      <td>48.314311</td>\n",
       "      <td>14.409620</td>\n",
       "    </tr>\n",
       "  </tbody>\n",
       "</table>\n",
       "</div>"
      ],
      "text/plain": [
       "                 id  price_per_m2      plot_area    plot_share  \\\n",
       "count  31708.000000  31708.000000   31708.000000  31708.000000   \n",
       "mean   30119.745395    669.368170    1101.934780      0.962179   \n",
       "std    12830.194229    751.763499    3378.021244      0.155454   \n",
       "min     7671.000000      0.383400       1.000000      0.001000   \n",
       "25%    19075.750000    224.129779     417.000000      1.000000   \n",
       "50%    30211.000000    414.513038     550.000000      1.000000   \n",
       "75%    41334.500000    793.126241     827.000000      1.000000   \n",
       "max    52034.000000   4992.887624  143858.000000      1.000000   \n",
       "\n",
       "       land_use_share  building_floors  building_year     longitude  \\\n",
       "count    31708.000000     31708.000000    31708.00000  31708.000000   \n",
       "mean         0.957303         2.136811     1911.42537     16.363218   \n",
       "std          0.144111         1.175471       22.63051      0.075222   \n",
       "min          0.000000         0.000000     1800.00000     16.190731   \n",
       "25%          1.000000         2.000000     1910.00000     16.309955   \n",
       "50%          1.000000         2.136811     1911.42537     16.351973   \n",
       "75%          1.000000         2.136811     1911.42537     16.409113   \n",
       "max          1.000000        12.000000     2017.00000     16.546959   \n",
       "\n",
       "           latitude  distance_to_center  \n",
       "count  31708.000000        31708.000000  \n",
       "mean      48.207237            6.313230  \n",
       "std        0.039365            3.225591  \n",
       "min       48.121595            0.042117  \n",
       "25%       48.179050            3.391614  \n",
       "50%       48.209024            6.442939  \n",
       "75%       48.231179            8.720654  \n",
       "max       48.314311           14.409620  "
      ]
     },
     "execution_count": 18,
     "metadata": {},
     "output_type": "execute_result"
    }
   ],
   "source": [
    "data_fillna.describe()"
   ]
  },
  {
   "cell_type": "code",
   "execution_count": 19,
   "metadata": {},
   "outputs": [],
   "source": [
    "date = data_fillna.transaction_ym.apply(pd.to_datetime, format=\"%Y-%m\")\n",
    "relative_share = data_fillna.plot_area * data_fillna.plot_share"
   ]
  },
  {
   "cell_type": "code",
   "execution_count": 20,
   "metadata": {},
   "outputs": [
    {
     "data": {
      "text/plain": [
       "(31708, 21)"
      ]
     },
     "execution_count": 20,
     "metadata": {},
     "output_type": "execute_result"
    }
   ],
   "source": [
    "data_fillna[\"relative_share\"] = relative_share\n",
    "data_fillna[\"year\"]= date.dt.year\n",
    "data_fillna.shape"
   ]
  },
  {
   "cell_type": "code",
   "execution_count": 21,
   "metadata": {},
   "outputs": [
    {
     "data": {
      "text/plain": [
       "price_per_m2          1.000000\n",
       "building_floors       0.451683\n",
       "year                  0.266118\n",
       "plot_share           -0.004921\n",
       "latitude             -0.011959\n",
       "relative_share       -0.066015\n",
       "plot_area            -0.070899\n",
       "building_year        -0.091530\n",
       "longitude            -0.120077\n",
       "land_use_share       -0.132532\n",
       "id                   -0.269039\n",
       "distance_to_center   -0.477752\n",
       "Name: price_per_m2, dtype: float64"
      ]
     },
     "execution_count": 21,
     "metadata": {},
     "output_type": "execute_result"
    }
   ],
   "source": [
    "corrmat_fillna = data_fillna.corr()\n",
    "corrmat_fillna[\"price_per_m2\"].sort_values(ascending=False)"
   ]
  },
  {
   "cell_type": "code",
   "execution_count": 22,
   "metadata": {},
   "outputs": [],
   "source": [
    "train_data = data_fillna[[\"price_per_m2\", \"building_floors\", \"year\", \"distance_to_center\", \"land_use\", \"relative_share\", \"district\"]]\n",
    "train_data_cat = train_data[[\"land_use\", \"district\"]]\n",
    "train_data_num = train_data[[\"year\", \"distance_to_center\", \"building_floors\", \"relative_share\"]]"
   ]
  },
  {
   "cell_type": "code",
   "execution_count": 23,
   "metadata": {},
   "outputs": [],
   "source": [
    "data = train_data.drop(\"price_per_m2\", axis=1)\n",
    "labels = train_data[\"price_per_m2\"].copy()"
   ]
  },
  {
   "cell_type": "code",
   "execution_count": 24,
   "metadata": {},
   "outputs": [],
   "source": [
    "#data[\"contract_type\"] = data[\"contract_type\"].astype(str)\n",
    "data[\"land_use\"] = data[\"land_use\"].astype(str)\n",
    "data[\"district\"] = data[\"district\"].astype(str)\n",
    "#data[\"protection_zone\"] = data[\"protection_zone\"].astype(str)"
   ]
  },
  {
   "cell_type": "code",
   "execution_count": 25,
   "metadata": {},
   "outputs": [
    {
     "name": "stderr",
     "output_type": "stream",
     "text": [
      "/home/loherzberger/Projects/ML/venv/lib/python3.6/site-packages/ipykernel_launcher.py:4: SettingWithCopyWarning: \n",
      "A value is trying to be set on a copy of a slice from a DataFrame.\n",
      "Try using .loc[row_indexer,col_indexer] = value instead\n",
      "\n",
      "See the caveats in the documentation: http://pandas.pydata.org/pandas-docs/stable/indexing.html#indexing-view-versus-copy\n",
      "  after removing the cwd from sys.path.\n",
      "/home/loherzberger/Projects/ML/venv/lib/python3.6/site-packages/ipykernel_launcher.py:5: SettingWithCopyWarning: \n",
      "A value is trying to be set on a copy of a slice from a DataFrame.\n",
      "Try using .loc[row_indexer,col_indexer] = value instead\n",
      "\n",
      "See the caveats in the documentation: http://pandas.pydata.org/pandas-docs/stable/indexing.html#indexing-view-versus-copy\n",
      "  \"\"\"\n"
     ]
    },
    {
     "data": {
      "text/plain": [
       "[array(['0', '110', 'BG', 'BG/IG', 'E', 'E div.', 'EKL', 'EKLW', 'EPK',\n",
       "        'ESP', 'EW', 'Ekl', 'Eklw', 'Epk', 'Epl', 'Esp', 'Friedhof', 'G',\n",
       "        'GB', 'GBBG', 'GBGV', 'GS', 'GV', 'IG', 'L', 'P', 'SO',\n",
       "        'SO/sonstiges', 'SPK', 'SWW', 'SWWL', 'Spk', 'Sww', 'SwwL', 'VB',\n",
       "        'Verkehrsband', 'Vfl', 'W', 'WI/GBI', 'WII/GBII', 'WIII/GBIII',\n",
       "        'WIV/GBIV', 'WV/GBV', 'WVI/GBVI', 'Wklw', 'gv', 'nan', 'w', 'we'],\n",
       "       dtype=object),\n",
       " array(['Alsergrund', 'Brigittenau', 'Donaustadt', 'Döbling', 'Favoriten',\n",
       "        'Floridsdorf', 'Fünfhaus', 'Hernals', 'Hietzing', 'Innere Stadt',\n",
       "        'Josefstadt', 'Landstraße', 'Leopoldstadt', 'Liesing',\n",
       "        'Margareten', 'Mariahilf', 'Meidling', 'Neubau', 'Ottakring',\n",
       "        'Penzing', 'Simmering', 'Wieden', 'Währing', 'nan'], dtype=object)]"
      ]
     },
     "execution_count": 25,
     "metadata": {},
     "output_type": "execute_result"
    }
   ],
   "source": [
    "#This is not important\n",
    "from future_encoders import OrdinalEncoder\n",
    "\n",
    "train_data_cat[\"district\"] = data[\"district\"]\n",
    "train_data_cat[\"land_use\"] = data[\"land_use\"]\n",
    "\n",
    "encoder = OrdinalEncoder()\n",
    "housing_cat_encoded = encoder.fit_transform(train_data_cat)\n",
    "encoder.categories_"
   ]
  },
  {
   "cell_type": "code",
   "execution_count": 26,
   "metadata": {},
   "outputs": [
    {
     "name": "stdout",
     "output_type": "stream",
     "text": [
      "<class 'pandas.core.frame.DataFrame'>\n",
      "Int64Index: 31708 entries, 0 to 44363\n",
      "Data columns (total 21 columns):\n",
      "id                    31708 non-null int64\n",
      "price_per_m2          31708 non-null float64\n",
      "transaction_ym        31708 non-null object\n",
      "plot_area             31708 non-null int64\n",
      "plot_share            31708 non-null float64\n",
      "property_type         31708 non-null object\n",
      "cadastral             31708 non-null object\n",
      "district              31651 non-null object\n",
      "contract_type         31708 non-null object\n",
      "land_use              31639 non-null object\n",
      "land_use_share        31708 non-null float64\n",
      "protection_zone       31708 non-null object\n",
      "building_ban          31708 non-null object\n",
      "building_height       6160 non-null object\n",
      "building_floors       31708 non-null float64\n",
      "building_year         31708 non-null float64\n",
      "longitude             31708 non-null float64\n",
      "latitude              31708 non-null float64\n",
      "distance_to_center    31708 non-null float64\n",
      "relative_share        31708 non-null float64\n",
      "year                  31708 non-null int64\n",
      "dtypes: float64(9), int64(3), object(9)\n",
      "memory usage: 5.3+ MB\n"
     ]
    }
   ],
   "source": [
    "#This is not important\n",
    "data_fillna.info()"
   ]
  },
  {
   "cell_type": "code",
   "execution_count": 27,
   "metadata": {},
   "outputs": [],
   "source": [
    "from sklearn.pipeline import Pipeline\n",
    "from sklearn.preprocessing import StandardScaler\n",
    "\n",
    "num_pipeline = Pipeline([\n",
    "    ('std_scaler', StandardScaler())\n",
    "])"
   ]
  },
  {
   "cell_type": "code",
   "execution_count": 28,
   "metadata": {},
   "outputs": [],
   "source": [
    "from future_encoders import ColumnTransformer\n",
    "from future_encoders import OneHotEncoder\n",
    "\n",
    "num_attribs = list(train_data_num)\n",
    "cat_attribs = list(train_data_cat)\n",
    "\n",
    "full_pipeline = ColumnTransformer([\n",
    "    (\"num\", num_pipeline, num_attribs),\n",
    "    (\"cat\", OneHotEncoder(), cat_attribs)\n",
    "])"
   ]
  },
  {
   "cell_type": "code",
   "execution_count": 29,
   "metadata": {},
   "outputs": [
    {
     "data": {
      "text/plain": [
       "['year', 'distance_to_center', 'building_floors', 'relative_share']"
      ]
     },
     "execution_count": 29,
     "metadata": {},
     "output_type": "execute_result"
    }
   ],
   "source": [
    "num_attribs"
   ]
  },
  {
   "cell_type": "code",
   "execution_count": 30,
   "metadata": {},
   "outputs": [
    {
     "data": {
      "text/plain": [
       "['land_use', 'district']"
      ]
     },
     "execution_count": 30,
     "metadata": {},
     "output_type": "execute_result"
    }
   ],
   "source": [
    "cat_attribs"
   ]
  },
  {
   "cell_type": "code",
   "execution_count": 31,
   "metadata": {},
   "outputs": [
    {
     "data": {
      "text/plain": [
       "<31708x77 sparse matrix of type '<class 'numpy.float64'>'\n",
       "\twith 172669 stored elements in Compressed Sparse Row format>"
      ]
     },
     "execution_count": 31,
     "metadata": {},
     "output_type": "execute_result"
    }
   ],
   "source": [
    "data_prepared = full_pipeline.fit_transform(data)\n",
    "data_prepared"
   ]
  },
  {
   "cell_type": "code",
   "execution_count": 32,
   "metadata": {},
   "outputs": [],
   "source": [
    "def display_scores(scores):\n",
    "    print(\"Scores:\", scores)\n",
    "    print(\"Mean:\", scores.mean())\n",
    "    print(\"Standard Deviation\", scores.std())"
   ]
  },
  {
   "cell_type": "code",
   "execution_count": 33,
   "metadata": {},
   "outputs": [
    {
     "name": "stdout",
     "output_type": "stream",
     "text": [
      "Scores: [808.12770788 636.41497597 576.69471536 549.26574999 507.19696686\n",
      " 551.5353371  495.35952868 482.1640242  445.04438254 463.72562957]\n",
      "Mean: 551.552901815762\n",
      "Standard Deviation 101.32482411231531\n"
     ]
    }
   ],
   "source": [
    "from sklearn.linear_model import LinearRegression\n",
    "from sklearn.model_selection import cross_val_score\n",
    "\n",
    "lin_reg = LinearRegression()\n",
    "lin_reg.fit(data_prepared, labels)\n",
    "\n",
    "scores = cross_val_score(lin_reg, data_prepared, labels, scoring=\"neg_mean_squared_error\", cv=10)\n",
    "lin_reg_rmse_scores = np.sqrt(-scores)\n",
    "\n",
    "display_scores(lin_reg_rmse_scores)"
   ]
  },
  {
   "cell_type": "code",
   "execution_count": 34,
   "metadata": {},
   "outputs": [
    {
     "data": {
      "text/plain": [
       "Ridge(alpha=0.5, copy_X=True, fit_intercept=True, max_iter=None,\n",
       "   normalize=False, random_state=None, solver='auto', tol=0.001)"
      ]
     },
     "execution_count": 34,
     "metadata": {},
     "output_type": "execute_result"
    }
   ],
   "source": [
    "from sklearn.linear_model import Ridge\n",
    "\n",
    "ridge_reg = Ridge(alpha=0.5)\n",
    "ridge_reg.fit(data_prepared, labels)"
   ]
  },
  {
   "cell_type": "code",
   "execution_count": 35,
   "metadata": {},
   "outputs": [
    {
     "name": "stdout",
     "output_type": "stream",
     "text": [
      "Scores: [808.61933141 636.32559143 576.40478797 548.7037131  507.3480241\n",
      " 552.26835787 495.24215906 482.05538908 444.9934802  463.9431836 ]\n",
      "Mean: 551.5904017805569\n",
      "Standard Deviation 101.43029052877199\n"
     ]
    }
   ],
   "source": [
    "scores = cross_val_score(ridge_reg, data_prepared, labels, scoring=\"neg_mean_squared_error\", cv=10)\n",
    "ridge_reg_rmse_scores = np.sqrt(-scores)\n",
    "\n",
    "display_scores(ridge_reg_rmse_scores)"
   ]
  },
  {
   "cell_type": "code",
   "execution_count": 36,
   "metadata": {},
   "outputs": [
    {
     "name": "stdout",
     "output_type": "stream",
     "text": [
      "Scores: [832.87211928 798.53399915 713.03792883 702.33333872 608.61957286\n",
      " 625.96861582 601.91796267 628.75783368 583.06896092 568.29530866]\n",
      "Mean: 666.3405640582002\n",
      "Standard Deviation 87.03755458808584\n"
     ]
    }
   ],
   "source": [
    "from sklearn.tree import DecisionTreeRegressor\n",
    "\n",
    "tree_reg = DecisionTreeRegressor()\n",
    "tree_reg.fit(data_prepared, labels)\n",
    "\n",
    "scores = cross_val_score(tree_reg, data_prepared, labels, scoring=\"neg_mean_squared_error\", cv=10)\n",
    "tree_reg_rmse_scores = np.sqrt(-scores)\n",
    "\n",
    "display_scores(tree_reg_rmse_scores)"
   ]
  },
  {
   "cell_type": "code",
   "execution_count": 37,
   "metadata": {},
   "outputs": [
    {
     "data": {
      "text/plain": [
       "[(0.29240837210382065, 'building_floors'),\n",
       " (0.2597969305022091, 'distance_to_center'),\n",
       " (0.17314481264698264, 'year'),\n",
       " (0.14032120865602019, 'relative_share'),\n",
       " (0.0124306157923797, 'Spk'),\n",
       " (0.009588133411638841, 'Sww'),\n",
       " (0.008500349770090355, 'Friedhof'),\n",
       " (0.00744168161057282, 'Ekl'),\n",
       " (0.0067162690511957815, 'Verkehrsband'),\n",
       " (0.005580151587569536, 'SO'),\n",
       " (0.005125914930841361, 'L'),\n",
       " (0.004542201289527256, 'VB'),\n",
       " (0.00451477814365558, 'Wklw'),\n",
       " (0.004439122938482597, 'Esp'),\n",
       " (0.004346732218995108, 'WIV/GBIV'),\n",
       " (0.003984623318849529, 'gv'),\n",
       " (0.003957616621830375, 'IG'),\n",
       " (0.0039005050760676624, 'WIII/GBIII'),\n",
       " (0.003832764871299201, 'Epl'),\n",
       " (0.0037530655376999786, 'W'),\n",
       " (0.003729016859042963, 'Epk'),\n",
       " (0.0035110471823528305, 'WI/GBI'),\n",
       " (0.0031682167041970563, 'SWWL'),\n",
       " (0.0031438385380736793, 'SWW'),\n",
       " (0.003116575729883485, 'SO/sonstiges'),\n",
       " (0.0029351577511383463, 'Meidling'),\n",
       " (0.002899436025317554, 'WII/GBII'),\n",
       " (0.0025774410554562175, 'Eklw'),\n",
       " (0.0025256765303794753, 'P'),\n",
       " (0.0023131348442990587, 'SwwL'),\n",
       " (0.0018327809043985521, 'Vfl'),\n",
       " (0.0016201338035661615, 'Brigittenau'),\n",
       " (0.0015822182882520978, 'WV/GBV'),\n",
       " (0.0013367719910047137, 'WVI/GBVI'),\n",
       " (0.001214572007953472, 'SPK'),\n",
       " (0.0008423667900252957, 'Penzing'),\n",
       " (0.0004535451172909442, 'nan'),\n",
       " (0.00045326634153153983, 'ESP'),\n",
       " (0.0002741004364904531, 'Landstraße'),\n",
       " (0.00021899372258107593, 'Währing'),\n",
       " (0.00020829688458268177, 'Fünfhaus'),\n",
       " (0.0001980299362492181, 'Wieden'),\n",
       " (0.00017749389207594724, 'Favoriten'),\n",
       " (0.00016854086958889927, 'GBGV'),\n",
       " (0.00015845452317174785, 'EW'),\n",
       " (0.00015029298753991614, 'Josefstadt'),\n",
       " (0.00014349442132728955, 'EKL'),\n",
       " (0.0001221736738024489, '110'),\n",
       " (0.00010629867740730434, 'Floridsdorf'),\n",
       " (8.42898142824807e-05, 'EKLW'),\n",
       " (7.534382639023505e-05, 'BG/IG'),\n",
       " (7.249702877967281e-05, 'BG'),\n",
       " (5.237306304096204e-05, 'E'),\n",
       " (4.984598294654267e-05, 'E div.'),\n",
       " (4.9210719032648104e-05, 'G'),\n",
       " (2.531055171441145e-05, 'Innere Stadt'),\n",
       " (1.5854000352516882e-05, '0'),\n",
       " (1.4114021052753827e-05, 'Liesing'),\n",
       " (1.4007231619063815e-05, 'land_use'),\n",
       " (1.1844147621165082e-05, 'Alsergrund'),\n",
       " (9.554724353866534e-06, 'EPK'),\n",
       " (8.444524873886234e-06, 'Hernals'),\n",
       " (3.405317015514422e-06, 'Ottakring'),\n",
       " (3.3638133926816533e-06, 'Margareten'),\n",
       " (2.5684454922763946e-06, 'Neubau'),\n",
       " (7.562193305978336e-07, 'GB'),\n",
       " (0.0, 'nan'),\n",
       " (0.0, 'district'),\n",
       " (0.0, 'Simmering'),\n",
       " (0.0, 'Mariahilf'),\n",
       " (0.0, 'Leopoldstadt'),\n",
       " (0.0, 'Hietzing'),\n",
       " (0.0, 'GV'),\n",
       " (0.0, 'GS'),\n",
       " (0.0, 'GBBG'),\n",
       " (0.0, 'Döbling'),\n",
       " (0.0, 'Donaustadt')]"
      ]
     },
     "execution_count": 37,
     "metadata": {},
     "output_type": "execute_result"
    }
   ],
   "source": [
    "feature_importances = tree_reg.feature_importances_\n",
    "attributes = num_attribs + cat_attribs + list(encoder.categories_[1]) +  list(encoder.categories_[0])\n",
    "sorted(zip(feature_importances, attributes), reverse=True)"
   ]
  },
  {
   "cell_type": "code",
   "execution_count": null,
   "metadata": {},
   "outputs": [],
   "source": []
  }
 ],
 "metadata": {
  "kernelspec": {
   "display_name": "Python 3",
   "language": "python",
   "name": "python3"
  },
  "language_info": {
   "codemirror_mode": {
    "name": "ipython",
    "version": 3
   },
   "file_extension": ".py",
   "mimetype": "text/x-python",
   "name": "python",
   "nbconvert_exporter": "python",
   "pygments_lexer": "ipython3",
   "version": "3.6.7"
  }
 },
 "nbformat": 4,
 "nbformat_minor": 2
}
