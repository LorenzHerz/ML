{
 "cells": [
  {
   "cell_type": "code",
   "execution_count": 1,
   "metadata": {},
   "outputs": [
    {
     "name": "stderr",
     "output_type": "stream",
     "text": [
      "/usr/lib/python3.6/importlib/_bootstrap.py:219: RuntimeWarning: numpy.dtype size changed, may indicate binary incompatibility. Expected 96, got 88\n",
      "  return f(*args, **kwds)\n",
      "/usr/lib/python3.6/importlib/_bootstrap.py:219: RuntimeWarning: numpy.dtype size changed, may indicate binary incompatibility. Expected 96, got 88\n",
      "  return f(*args, **kwds)\n"
     ]
    }
   ],
   "source": [
    "import pandas as pd\n",
    "import numpy as np\n",
    "import matplotlib.pyplot as plt"
   ]
  },
  {
   "cell_type": "code",
   "execution_count": 2,
   "metadata": {},
   "outputs": [
    {
     "name": "stderr",
     "output_type": "stream",
     "text": [
      "/home/loherzberger/Projects/ML/venv/lib/python3.6/site-packages/IPython/core/interactiveshell.py:2785: DtypeWarning: Columns (13) have mixed types. Specify dtype option on import or set low_memory=False.\n",
      "  interactivity=interactivity, compiler=compiler, result=result)\n"
     ]
    }
   ],
   "source": [
    "data = pd.read_csv(\"data/training_data_utf8.csv\")"
   ]
  },
  {
   "cell_type": "code",
   "execution_count": 3,
   "metadata": {},
   "outputs": [
    {
     "data": {
      "text/html": [
       "<div>\n",
       "<style scoped>\n",
       "    .dataframe tbody tr th:only-of-type {\n",
       "        vertical-align: middle;\n",
       "    }\n",
       "\n",
       "    .dataframe tbody tr th {\n",
       "        vertical-align: top;\n",
       "    }\n",
       "\n",
       "    .dataframe thead th {\n",
       "        text-align: right;\n",
       "    }\n",
       "</style>\n",
       "<table border=\"1\" class=\"dataframe\">\n",
       "  <thead>\n",
       "    <tr style=\"text-align: right;\">\n",
       "      <th></th>\n",
       "      <th>id</th>\n",
       "      <th>price_per_m2</th>\n",
       "      <th>transaction_ym</th>\n",
       "      <th>plot_area</th>\n",
       "      <th>plot_share</th>\n",
       "      <th>property_type</th>\n",
       "      <th>cadastral</th>\n",
       "      <th>district</th>\n",
       "      <th>contract_type</th>\n",
       "      <th>land_use</th>\n",
       "      <th>land_use_share</th>\n",
       "      <th>protection_zone</th>\n",
       "      <th>building_ban</th>\n",
       "      <th>building_height</th>\n",
       "      <th>building_floors</th>\n",
       "      <th>building_year</th>\n",
       "      <th>longitude</th>\n",
       "      <th>latitude</th>\n",
       "    </tr>\n",
       "  </thead>\n",
       "  <tbody>\n",
       "    <tr>\n",
       "      <th>0</th>\n",
       "      <td>7671</td>\n",
       "      <td>224.351484</td>\n",
       "      <td>2013-12</td>\n",
       "      <td>4279</td>\n",
       "      <td>1.0</td>\n",
       "      <td>Betriebsobjekt</td>\n",
       "      <td>Kagran</td>\n",
       "      <td>Donaustadt</td>\n",
       "      <td>Kaufvertrag</td>\n",
       "      <td>GB</td>\n",
       "      <td>1.00</td>\n",
       "      <td>No</td>\n",
       "      <td>No</td>\n",
       "      <td>NaN</td>\n",
       "      <td>1.0</td>\n",
       "      <td>1990.0</td>\n",
       "      <td>16.464163</td>\n",
       "      <td>48.259071</td>\n",
       "    </tr>\n",
       "    <tr>\n",
       "      <th>1</th>\n",
       "      <td>7672</td>\n",
       "      <td>357.995227</td>\n",
       "      <td>2013-12</td>\n",
       "      <td>838</td>\n",
       "      <td>1.0</td>\n",
       "      <td>Abbruchobjekt</td>\n",
       "      <td>Liesing</td>\n",
       "      <td>Liesing</td>\n",
       "      <td>Kaufvertrag</td>\n",
       "      <td>W</td>\n",
       "      <td>1.00</td>\n",
       "      <td>No</td>\n",
       "      <td>No</td>\n",
       "      <td>10.5</td>\n",
       "      <td>2.0</td>\n",
       "      <td>NaN</td>\n",
       "      <td>16.275103</td>\n",
       "      <td>48.133264</td>\n",
       "    </tr>\n",
       "    <tr>\n",
       "      <th>2</th>\n",
       "      <td>7673</td>\n",
       "      <td>636.474908</td>\n",
       "      <td>2013-12</td>\n",
       "      <td>817</td>\n",
       "      <td>1.0</td>\n",
       "      <td>Ein-, Zweifamilienhaus</td>\n",
       "      <td>Atzgersdorf</td>\n",
       "      <td>Liesing</td>\n",
       "      <td>Kaufvertrag</td>\n",
       "      <td>GB</td>\n",
       "      <td>1.00</td>\n",
       "      <td>No</td>\n",
       "      <td>No</td>\n",
       "      <td>3.5</td>\n",
       "      <td>2.0</td>\n",
       "      <td>NaN</td>\n",
       "      <td>16.296926</td>\n",
       "      <td>48.145348</td>\n",
       "    </tr>\n",
       "    <tr>\n",
       "      <th>3</th>\n",
       "      <td>7674</td>\n",
       "      <td>906.095552</td>\n",
       "      <td>2013-12</td>\n",
       "      <td>607</td>\n",
       "      <td>1.0</td>\n",
       "      <td>Ein-, Zweifamilienhaus</td>\n",
       "      <td>Ottakring</td>\n",
       "      <td>Ottakring</td>\n",
       "      <td>Kaufvertrag</td>\n",
       "      <td>W</td>\n",
       "      <td>1.00</td>\n",
       "      <td>No</td>\n",
       "      <td>No</td>\n",
       "      <td>7.5</td>\n",
       "      <td>2.0</td>\n",
       "      <td>NaN</td>\n",
       "      <td>16.290968</td>\n",
       "      <td>48.217580</td>\n",
       "    </tr>\n",
       "    <tr>\n",
       "      <th>4</th>\n",
       "      <td>7675</td>\n",
       "      <td>167.941498</td>\n",
       "      <td>2013-12</td>\n",
       "      <td>11897</td>\n",
       "      <td>1.0</td>\n",
       "      <td>unbebaut</td>\n",
       "      <td>Groß Jedlersdorf I</td>\n",
       "      <td>Floridsdorf</td>\n",
       "      <td>Kaufvertrag</td>\n",
       "      <td>W</td>\n",
       "      <td>0.19</td>\n",
       "      <td>No</td>\n",
       "      <td>No</td>\n",
       "      <td>NaN</td>\n",
       "      <td>NaN</td>\n",
       "      <td>NaN</td>\n",
       "      <td>16.418471</td>\n",
       "      <td>48.288753</td>\n",
       "    </tr>\n",
       "  </tbody>\n",
       "</table>\n",
       "</div>"
      ],
      "text/plain": [
       "     id  price_per_m2 transaction_ym  plot_area  plot_share  \\\n",
       "0  7671    224.351484        2013-12       4279         1.0   \n",
       "1  7672    357.995227        2013-12        838         1.0   \n",
       "2  7673    636.474908        2013-12        817         1.0   \n",
       "3  7674    906.095552        2013-12        607         1.0   \n",
       "4  7675    167.941498        2013-12      11897         1.0   \n",
       "\n",
       "            property_type           cadastral     district contract_type  \\\n",
       "0          Betriebsobjekt              Kagran   Donaustadt   Kaufvertrag   \n",
       "1           Abbruchobjekt             Liesing      Liesing   Kaufvertrag   \n",
       "2  Ein-, Zweifamilienhaus         Atzgersdorf      Liesing   Kaufvertrag   \n",
       "3  Ein-, Zweifamilienhaus           Ottakring    Ottakring   Kaufvertrag   \n",
       "4                unbebaut  Groß Jedlersdorf I  Floridsdorf   Kaufvertrag   \n",
       "\n",
       "  land_use  land_use_share protection_zone building_ban building_height  \\\n",
       "0       GB            1.00              No           No             NaN   \n",
       "1        W            1.00              No           No            10.5   \n",
       "2       GB            1.00              No           No             3.5   \n",
       "3        W            1.00              No           No             7.5   \n",
       "4        W            0.19              No           No             NaN   \n",
       "\n",
       "   building_floors  building_year  longitude   latitude  \n",
       "0              1.0         1990.0  16.464163  48.259071  \n",
       "1              2.0            NaN  16.275103  48.133264  \n",
       "2              2.0            NaN  16.296926  48.145348  \n",
       "3              2.0            NaN  16.290968  48.217580  \n",
       "4              NaN            NaN  16.418471  48.288753  "
      ]
     },
     "execution_count": 3,
     "metadata": {},
     "output_type": "execute_result"
    }
   ],
   "source": [
    "data.head()"
   ]
  },
  {
   "cell_type": "code",
   "execution_count": 4,
   "metadata": {},
   "outputs": [
    {
     "name": "stdout",
     "output_type": "stream",
     "text": [
      "<class 'pandas.core.frame.DataFrame'>\n",
      "RangeIndex: 44366 entries, 0 to 44365\n",
      "Data columns (total 18 columns):\n",
      "id                 44366 non-null int64\n",
      "price_per_m2       44366 non-null float64\n",
      "transaction_ym     44366 non-null object\n",
      "plot_area          44366 non-null int64\n",
      "plot_share         44366 non-null float64\n",
      "property_type      44366 non-null object\n",
      "cadastral          44366 non-null object\n",
      "district           44294 non-null object\n",
      "contract_type      44366 non-null object\n",
      "land_use           44260 non-null object\n",
      "land_use_share     44320 non-null float64\n",
      "protection_zone    44366 non-null object\n",
      "building_ban       44366 non-null object\n",
      "building_height    7800 non-null object\n",
      "building_floors    18422 non-null float64\n",
      "building_year      14739 non-null float64\n",
      "longitude          32465 non-null float64\n",
      "latitude           32465 non-null float64\n",
      "dtypes: float64(7), int64(2), object(9)\n",
      "memory usage: 6.1+ MB\n"
     ]
    }
   ],
   "source": [
    "data.info()"
   ]
  },
  {
   "cell_type": "code",
   "execution_count": 5,
   "metadata": {},
   "outputs": [
    {
     "data": {
      "text/html": [
       "<div>\n",
       "<style scoped>\n",
       "    .dataframe tbody tr th:only-of-type {\n",
       "        vertical-align: middle;\n",
       "    }\n",
       "\n",
       "    .dataframe tbody tr th {\n",
       "        vertical-align: top;\n",
       "    }\n",
       "\n",
       "    .dataframe thead th {\n",
       "        text-align: right;\n",
       "    }\n",
       "</style>\n",
       "<table border=\"1\" class=\"dataframe\">\n",
       "  <thead>\n",
       "    <tr style=\"text-align: right;\">\n",
       "      <th></th>\n",
       "      <th>id</th>\n",
       "      <th>price_per_m2</th>\n",
       "      <th>plot_area</th>\n",
       "      <th>plot_share</th>\n",
       "      <th>land_use_share</th>\n",
       "      <th>building_floors</th>\n",
       "      <th>building_year</th>\n",
       "      <th>longitude</th>\n",
       "      <th>latitude</th>\n",
       "    </tr>\n",
       "  </thead>\n",
       "  <tbody>\n",
       "    <tr>\n",
       "      <th>count</th>\n",
       "      <td>44366.000000</td>\n",
       "      <td>44366.000000</td>\n",
       "      <td>4.436600e+04</td>\n",
       "      <td>44366.000000</td>\n",
       "      <td>44320.000000</td>\n",
       "      <td>18422.000000</td>\n",
       "      <td>14739.000000</td>\n",
       "      <td>32465.000000</td>\n",
       "      <td>32465.000000</td>\n",
       "    </tr>\n",
       "    <tr>\n",
       "      <th>mean</th>\n",
       "      <td>29853.500000</td>\n",
       "      <td>789.062369</td>\n",
       "      <td>1.880226e+03</td>\n",
       "      <td>0.959631</td>\n",
       "      <td>0.956965</td>\n",
       "      <td>2.063402</td>\n",
       "      <td>1913.283737</td>\n",
       "      <td>16.363182</td>\n",
       "      <td>48.207192</td>\n",
       "    </tr>\n",
       "    <tr>\n",
       "      <th>std</th>\n",
       "      <td>12807.505358</td>\n",
       "      <td>2276.246856</td>\n",
       "      <td>1.064498e+04</td>\n",
       "      <td>0.163726</td>\n",
       "      <td>0.144435</td>\n",
       "      <td>1.902943</td>\n",
       "      <td>37.464120</td>\n",
       "      <td>0.074558</td>\n",
       "      <td>0.039031</td>\n",
       "    </tr>\n",
       "    <tr>\n",
       "      <th>min</th>\n",
       "      <td>7671.000000</td>\n",
       "      <td>0.161937</td>\n",
       "      <td>1.000000e+00</td>\n",
       "      <td>0.000260</td>\n",
       "      <td>0.000000</td>\n",
       "      <td>0.000000</td>\n",
       "      <td>1800.000000</td>\n",
       "      <td>15.605753</td>\n",
       "      <td>47.850748</td>\n",
       "    </tr>\n",
       "    <tr>\n",
       "      <th>25%</th>\n",
       "      <td>18762.250000</td>\n",
       "      <td>181.682084</td>\n",
       "      <td>4.120000e+02</td>\n",
       "      <td>1.000000</td>\n",
       "      <td>1.000000</td>\n",
       "      <td>0.000000</td>\n",
       "      <td>1894.000000</td>\n",
       "      <td>16.310912</td>\n",
       "      <td>48.179708</td>\n",
       "    </tr>\n",
       "    <tr>\n",
       "      <th>50%</th>\n",
       "      <td>29853.500000</td>\n",
       "      <td>354.343664</td>\n",
       "      <td>5.810000e+02</td>\n",
       "      <td>1.000000</td>\n",
       "      <td>1.000000</td>\n",
       "      <td>2.000000</td>\n",
       "      <td>1900.000000</td>\n",
       "      <td>16.352831</td>\n",
       "      <td>48.208886</td>\n",
       "    </tr>\n",
       "    <tr>\n",
       "      <th>75%</th>\n",
       "      <td>40944.750000</td>\n",
       "      <td>726.728429</td>\n",
       "      <td>1.035000e+03</td>\n",
       "      <td>1.000000</td>\n",
       "      <td>1.000000</td>\n",
       "      <td>4.000000</td>\n",
       "      <td>1940.000000</td>\n",
       "      <td>16.407386</td>\n",
       "      <td>48.230576</td>\n",
       "    </tr>\n",
       "    <tr>\n",
       "      <th>max</th>\n",
       "      <td>52036.000000</td>\n",
       "      <td>197628.458498</td>\n",
       "      <td>1.187781e+06</td>\n",
       "      <td>1.000000</td>\n",
       "      <td>1.000000</td>\n",
       "      <td>12.000000</td>\n",
       "      <td>2017.000000</td>\n",
       "      <td>16.572405</td>\n",
       "      <td>48.314311</td>\n",
       "    </tr>\n",
       "  </tbody>\n",
       "</table>\n",
       "</div>"
      ],
      "text/plain": [
       "                 id   price_per_m2     plot_area    plot_share  \\\n",
       "count  44366.000000   44366.000000  4.436600e+04  44366.000000   \n",
       "mean   29853.500000     789.062369  1.880226e+03      0.959631   \n",
       "std    12807.505358    2276.246856  1.064498e+04      0.163726   \n",
       "min     7671.000000       0.161937  1.000000e+00      0.000260   \n",
       "25%    18762.250000     181.682084  4.120000e+02      1.000000   \n",
       "50%    29853.500000     354.343664  5.810000e+02      1.000000   \n",
       "75%    40944.750000     726.728429  1.035000e+03      1.000000   \n",
       "max    52036.000000  197628.458498  1.187781e+06      1.000000   \n",
       "\n",
       "       land_use_share  building_floors  building_year     longitude  \\\n",
       "count    44320.000000     18422.000000   14739.000000  32465.000000   \n",
       "mean         0.956965         2.063402    1913.283737     16.363182   \n",
       "std          0.144435         1.902943      37.464120      0.074558   \n",
       "min          0.000000         0.000000    1800.000000     15.605753   \n",
       "25%          1.000000         0.000000    1894.000000     16.310912   \n",
       "50%          1.000000         2.000000    1900.000000     16.352831   \n",
       "75%          1.000000         4.000000    1940.000000     16.407386   \n",
       "max          1.000000        12.000000    2017.000000     16.572405   \n",
       "\n",
       "           latitude  \n",
       "count  32465.000000  \n",
       "mean      48.207192  \n",
       "std        0.039031  \n",
       "min       47.850748  \n",
       "25%       48.179708  \n",
       "50%       48.208886  \n",
       "75%       48.230576  \n",
       "max       48.314311  "
      ]
     },
     "execution_count": 5,
     "metadata": {},
     "output_type": "execute_result"
    }
   ],
   "source": [
    "#describe numerical values\n",
    "data.describe()"
   ]
  },
  {
   "cell_type": "code",
   "execution_count": 6,
   "metadata": {},
   "outputs": [
    {
     "data": {
      "text/html": [
       "<div>\n",
       "<style scoped>\n",
       "    .dataframe tbody tr th:only-of-type {\n",
       "        vertical-align: middle;\n",
       "    }\n",
       "\n",
       "    .dataframe tbody tr th {\n",
       "        vertical-align: top;\n",
       "    }\n",
       "\n",
       "    .dataframe thead th {\n",
       "        text-align: right;\n",
       "    }\n",
       "</style>\n",
       "<table border=\"1\" class=\"dataframe\">\n",
       "  <thead>\n",
       "    <tr style=\"text-align: right;\">\n",
       "      <th></th>\n",
       "      <th>transaction_ym</th>\n",
       "      <th>property_type</th>\n",
       "      <th>cadastral</th>\n",
       "      <th>district</th>\n",
       "      <th>contract_type</th>\n",
       "      <th>land_use</th>\n",
       "      <th>protection_zone</th>\n",
       "      <th>building_ban</th>\n",
       "      <th>building_height</th>\n",
       "    </tr>\n",
       "  </thead>\n",
       "  <tbody>\n",
       "    <tr>\n",
       "      <th>count</th>\n",
       "      <td>44366</td>\n",
       "      <td>44366</td>\n",
       "      <td>44366</td>\n",
       "      <td>44294</td>\n",
       "      <td>44366</td>\n",
       "      <td>44260</td>\n",
       "      <td>44366</td>\n",
       "      <td>44366</td>\n",
       "      <td>7800</td>\n",
       "    </tr>\n",
       "    <tr>\n",
       "      <th>unique</th>\n",
       "      <td>324</td>\n",
       "      <td>16</td>\n",
       "      <td>88</td>\n",
       "      <td>23</td>\n",
       "      <td>11</td>\n",
       "      <td>56</td>\n",
       "      <td>2</td>\n",
       "      <td>2</td>\n",
       "      <td>97</td>\n",
       "    </tr>\n",
       "    <tr>\n",
       "      <th>top</th>\n",
       "      <td>1988-12</td>\n",
       "      <td>unbebaut</td>\n",
       "      <td>Eßling</td>\n",
       "      <td>Donaustadt</td>\n",
       "      <td>Kaufvertrag</td>\n",
       "      <td>WI/GBI</td>\n",
       "      <td>No</td>\n",
       "      <td>No</td>\n",
       "      <td>6.5</td>\n",
       "    </tr>\n",
       "    <tr>\n",
       "      <th>freq</th>\n",
       "      <td>296</td>\n",
       "      <td>15345</td>\n",
       "      <td>2270</td>\n",
       "      <td>8476</td>\n",
       "      <td>38853</td>\n",
       "      <td>12099</td>\n",
       "      <td>43306</td>\n",
       "      <td>43857</td>\n",
       "      <td>2763</td>\n",
       "    </tr>\n",
       "  </tbody>\n",
       "</table>\n",
       "</div>"
      ],
      "text/plain": [
       "       transaction_ym property_type cadastral    district contract_type  \\\n",
       "count           44366         44366     44366       44294         44366   \n",
       "unique            324            16        88          23            11   \n",
       "top           1988-12      unbebaut    Eßling  Donaustadt   Kaufvertrag   \n",
       "freq              296         15345      2270        8476         38853   \n",
       "\n",
       "       land_use protection_zone building_ban building_height  \n",
       "count     44260           44366        44366            7800  \n",
       "unique       56               2            2              97  \n",
       "top      WI/GBI              No           No             6.5  \n",
       "freq      12099           43306        43857            2763  "
      ]
     },
     "execution_count": 6,
     "metadata": {},
     "output_type": "execute_result"
    }
   ],
   "source": [
    "#describe categorical values\n",
    "data.describe(include=\"O\")"
   ]
  },
  {
   "cell_type": "code",
   "execution_count": 7,
   "metadata": {},
   "outputs": [],
   "source": [
    "corrmat = data.corr()"
   ]
  },
  {
   "cell_type": "code",
   "execution_count": 8,
   "metadata": {},
   "outputs": [
    {
     "data": {
      "text/plain": [
       "price_per_m2       1.000000\n",
       "building_floors    0.385326\n",
       "plot_share         0.002082\n",
       "latitude          -0.011045\n",
       "plot_area         -0.028618\n",
       "longitude         -0.038409\n",
       "land_use_share    -0.050230\n",
       "building_year     -0.051976\n",
       "id                -0.133134\n",
       "Name: price_per_m2, dtype: float64"
      ]
     },
     "execution_count": 8,
     "metadata": {},
     "output_type": "execute_result"
    }
   ],
   "source": [
    "corrmat[\"price_per_m2\"].sort_values(ascending=False)"
   ]
  },
  {
   "cell_type": "code",
   "execution_count": 9,
   "metadata": {},
   "outputs": [],
   "source": [
    "from math import radians, cos, sin, asin, sqrt\n",
    "def haversine(lon1, lat1, lon2, lat2):\n",
    "    \"\"\"\n",
    "    Calculate the great circle distance between two points \n",
    "    on the earth (specified in decimal degrees)\n",
    "    \"\"\"\n",
    "    # convert decimal degrees to radians \n",
    "    lon1, lat1, lon2, lat2 = map(radians, [lon1, lat1, lon2, lat2])\n",
    "    # haversine formula \n",
    "    dlon = lon2 - lon1 \n",
    "    dlat = lat2 - lat1 \n",
    "    a = sin(dlat/2)**2 + cos(lat1) * cos(lat2) * sin(dlon/2)**2\n",
    "    c = 2 * asin(sqrt(a)) \n",
    "    km = 6367 * c\n",
    "    return km"
   ]
  },
  {
   "cell_type": "code",
   "execution_count": 10,
   "metadata": {},
   "outputs": [],
   "source": [
    "latitude_center = 48.210033\n",
    "longitude_center = 16.363449"
   ]
  },
  {
   "cell_type": "code",
   "execution_count": 11,
   "metadata": {},
   "outputs": [],
   "source": [
    "for index, row in data.iterrows():\n",
    "    data.loc[index, 'distance_to_center'] = haversine(row['longitude'], row['latitude'], longitude_center, latitude_center)"
   ]
  },
  {
   "cell_type": "code",
   "execution_count": 12,
   "metadata": {},
   "outputs": [
    {
     "data": {
      "text/plain": [
       "price_per_m2          1.000000\n",
       "building_floors       0.385326\n",
       "plot_share            0.002082\n",
       "latitude             -0.011045\n",
       "plot_area            -0.028618\n",
       "longitude            -0.038409\n",
       "land_use_share       -0.050230\n",
       "building_year        -0.051976\n",
       "id                   -0.133134\n",
       "distance_to_center   -0.268828\n",
       "Name: price_per_m2, dtype: float64"
      ]
     },
     "execution_count": 12,
     "metadata": {},
     "output_type": "execute_result"
    }
   ],
   "source": [
    "corrmat = data.corr()\n",
    "corrmat[\"price_per_m2\"].sort_values(ascending=False)"
   ]
  },
  {
   "cell_type": "code",
   "execution_count": 13,
   "metadata": {},
   "outputs": [
    {
     "data": {
      "text/plain": [
       "price_per_m2          1.000000\n",
       "building_floors       0.385326\n",
       "year                  0.131843\n",
       "plot_share            0.002082\n",
       "latitude             -0.011045\n",
       "plot_area            -0.028618\n",
       "longitude            -0.038409\n",
       "land_use_share       -0.050230\n",
       "building_year        -0.051976\n",
       "id                   -0.133134\n",
       "distance_to_center   -0.268828\n",
       "Name: price_per_m2, dtype: float64"
      ]
     },
     "execution_count": 13,
     "metadata": {},
     "output_type": "execute_result"
    }
   ],
   "source": [
    "date = data.transaction_ym.apply(pd.to_datetime, format=\"%Y-%m\")\n",
    "\n",
    "data[\"year\"] = date.dt.year\n",
    "\n",
    "corrmat = data.corr()\n",
    "corrmat[\"price_per_m2\"].sort_values(ascending=False)"
   ]
  },
  {
   "cell_type": "code",
   "execution_count": 14,
   "metadata": {},
   "outputs": [
    {
     "data": {
      "text/plain": [
       "price_per_m2          1.000000\n",
       "building_floors       0.385326\n",
       "year                  0.131843\n",
       "plot_share            0.002082\n",
       "latitude             -0.011045\n",
       "relative_share       -0.026335\n",
       "plot_area            -0.028618\n",
       "longitude            -0.038409\n",
       "land_use_share       -0.050230\n",
       "building_year        -0.051976\n",
       "id                   -0.133134\n",
       "distance_to_center   -0.268828\n",
       "Name: price_per_m2, dtype: float64"
      ]
     },
     "execution_count": 14,
     "metadata": {},
     "output_type": "execute_result"
    }
   ],
   "source": [
    "relative_share = data.plot_area * data.plot_share\n",
    "data[\"relative_share\"] = relative_share\n",
    "\n",
    "corrmat = data.corr()\n",
    "corrmat[\"price_per_m2\"].sort_values(ascending=False)"
   ]
  },
  {
   "cell_type": "code",
   "execution_count": 15,
   "metadata": {},
   "outputs": [
    {
     "data": {
      "text/html": [
       "<div>\n",
       "<style scoped>\n",
       "    .dataframe tbody tr th:only-of-type {\n",
       "        vertical-align: middle;\n",
       "    }\n",
       "\n",
       "    .dataframe tbody tr th {\n",
       "        vertical-align: top;\n",
       "    }\n",
       "\n",
       "    .dataframe thead th {\n",
       "        text-align: right;\n",
       "    }\n",
       "</style>\n",
       "<table border=\"1\" class=\"dataframe\">\n",
       "  <thead>\n",
       "    <tr style=\"text-align: right;\">\n",
       "      <th></th>\n",
       "      <th>id</th>\n",
       "      <th>price_per_m2</th>\n",
       "      <th>plot_area</th>\n",
       "      <th>plot_share</th>\n",
       "      <th>land_use_share</th>\n",
       "      <th>building_floors</th>\n",
       "      <th>building_year</th>\n",
       "      <th>longitude</th>\n",
       "      <th>latitude</th>\n",
       "      <th>distance_to_center</th>\n",
       "      <th>year</th>\n",
       "      <th>relative_share</th>\n",
       "    </tr>\n",
       "  </thead>\n",
       "  <tbody>\n",
       "    <tr>\n",
       "      <th>count</th>\n",
       "      <td>44366.000000</td>\n",
       "      <td>44366.000000</td>\n",
       "      <td>4.436600e+04</td>\n",
       "      <td>44366.000000</td>\n",
       "      <td>44320.000000</td>\n",
       "      <td>18422.000000</td>\n",
       "      <td>14739.000000</td>\n",
       "      <td>32465.000000</td>\n",
       "      <td>32465.000000</td>\n",
       "      <td>32465.000000</td>\n",
       "      <td>44366.000000</td>\n",
       "      <td>4.436600e+04</td>\n",
       "    </tr>\n",
       "    <tr>\n",
       "      <th>mean</th>\n",
       "      <td>29853.500000</td>\n",
       "      <td>789.062369</td>\n",
       "      <td>1.880226e+03</td>\n",
       "      <td>0.959631</td>\n",
       "      <td>0.956965</td>\n",
       "      <td>2.063402</td>\n",
       "      <td>1913.283737</td>\n",
       "      <td>16.363182</td>\n",
       "      <td>48.207192</td>\n",
       "      <td>6.212574</td>\n",
       "      <td>1999.322544</td>\n",
       "      <td>1.721025e+03</td>\n",
       "    </tr>\n",
       "    <tr>\n",
       "      <th>std</th>\n",
       "      <td>12807.505358</td>\n",
       "      <td>2276.246856</td>\n",
       "      <td>1.064498e+04</td>\n",
       "      <td>0.163726</td>\n",
       "      <td>0.144435</td>\n",
       "      <td>1.902943</td>\n",
       "      <td>37.464120</td>\n",
       "      <td>0.074558</td>\n",
       "      <td>0.039031</td>\n",
       "      <td>3.286353</td>\n",
       "      <td>7.920441</td>\n",
       "      <td>1.027912e+04</td>\n",
       "    </tr>\n",
       "    <tr>\n",
       "      <th>min</th>\n",
       "      <td>7671.000000</td>\n",
       "      <td>0.161937</td>\n",
       "      <td>1.000000e+00</td>\n",
       "      <td>0.000260</td>\n",
       "      <td>0.000000</td>\n",
       "      <td>0.000000</td>\n",
       "      <td>1800.000000</td>\n",
       "      <td>15.605753</td>\n",
       "      <td>47.850748</td>\n",
       "      <td>0.042117</td>\n",
       "      <td>1987.000000</td>\n",
       "      <td>7.601351e-02</td>\n",
       "    </tr>\n",
       "    <tr>\n",
       "      <th>25%</th>\n",
       "      <td>18762.250000</td>\n",
       "      <td>181.682084</td>\n",
       "      <td>4.120000e+02</td>\n",
       "      <td>1.000000</td>\n",
       "      <td>1.000000</td>\n",
       "      <td>0.000000</td>\n",
       "      <td>1894.000000</td>\n",
       "      <td>16.310912</td>\n",
       "      <td>48.179708</td>\n",
       "      <td>3.230216</td>\n",
       "      <td>1992.000000</td>\n",
       "      <td>3.840000e+02</td>\n",
       "    </tr>\n",
       "    <tr>\n",
       "      <th>50%</th>\n",
       "      <td>29853.500000</td>\n",
       "      <td>354.343664</td>\n",
       "      <td>5.810000e+02</td>\n",
       "      <td>1.000000</td>\n",
       "      <td>1.000000</td>\n",
       "      <td>2.000000</td>\n",
       "      <td>1900.000000</td>\n",
       "      <td>16.352831</td>\n",
       "      <td>48.208886</td>\n",
       "      <td>6.312582</td>\n",
       "      <td>1999.000000</td>\n",
       "      <td>5.540000e+02</td>\n",
       "    </tr>\n",
       "    <tr>\n",
       "      <th>75%</th>\n",
       "      <td>40944.750000</td>\n",
       "      <td>726.728429</td>\n",
       "      <td>1.035000e+03</td>\n",
       "      <td>1.000000</td>\n",
       "      <td>1.000000</td>\n",
       "      <td>4.000000</td>\n",
       "      <td>1940.000000</td>\n",
       "      <td>16.407386</td>\n",
       "      <td>48.230576</td>\n",
       "      <td>8.686688</td>\n",
       "      <td>2006.000000</td>\n",
       "      <td>9.770000e+02</td>\n",
       "    </tr>\n",
       "    <tr>\n",
       "      <th>max</th>\n",
       "      <td>52036.000000</td>\n",
       "      <td>197628.458498</td>\n",
       "      <td>1.187781e+06</td>\n",
       "      <td>1.000000</td>\n",
       "      <td>1.000000</td>\n",
       "      <td>12.000000</td>\n",
       "      <td>2017.000000</td>\n",
       "      <td>16.572405</td>\n",
       "      <td>48.314311</td>\n",
       "      <td>57.364157</td>\n",
       "      <td>2013.000000</td>\n",
       "      <td>1.187781e+06</td>\n",
       "    </tr>\n",
       "  </tbody>\n",
       "</table>\n",
       "</div>"
      ],
      "text/plain": [
       "                 id   price_per_m2     plot_area    plot_share  \\\n",
       "count  44366.000000   44366.000000  4.436600e+04  44366.000000   \n",
       "mean   29853.500000     789.062369  1.880226e+03      0.959631   \n",
       "std    12807.505358    2276.246856  1.064498e+04      0.163726   \n",
       "min     7671.000000       0.161937  1.000000e+00      0.000260   \n",
       "25%    18762.250000     181.682084  4.120000e+02      1.000000   \n",
       "50%    29853.500000     354.343664  5.810000e+02      1.000000   \n",
       "75%    40944.750000     726.728429  1.035000e+03      1.000000   \n",
       "max    52036.000000  197628.458498  1.187781e+06      1.000000   \n",
       "\n",
       "       land_use_share  building_floors  building_year     longitude  \\\n",
       "count    44320.000000     18422.000000   14739.000000  32465.000000   \n",
       "mean         0.956965         2.063402    1913.283737     16.363182   \n",
       "std          0.144435         1.902943      37.464120      0.074558   \n",
       "min          0.000000         0.000000    1800.000000     15.605753   \n",
       "25%          1.000000         0.000000    1894.000000     16.310912   \n",
       "50%          1.000000         2.000000    1900.000000     16.352831   \n",
       "75%          1.000000         4.000000    1940.000000     16.407386   \n",
       "max          1.000000        12.000000    2017.000000     16.572405   \n",
       "\n",
       "           latitude  distance_to_center          year  relative_share  \n",
       "count  32465.000000        32465.000000  44366.000000    4.436600e+04  \n",
       "mean      48.207192            6.212574   1999.322544    1.721025e+03  \n",
       "std        0.039031            3.286353      7.920441    1.027912e+04  \n",
       "min       47.850748            0.042117   1987.000000    7.601351e-02  \n",
       "25%       48.179708            3.230216   1992.000000    3.840000e+02  \n",
       "50%       48.208886            6.312582   1999.000000    5.540000e+02  \n",
       "75%       48.230576            8.686688   2006.000000    9.770000e+02  \n",
       "max       48.314311           57.364157   2013.000000    1.187781e+06  "
      ]
     },
     "execution_count": 15,
     "metadata": {},
     "output_type": "execute_result"
    }
   ],
   "source": [
    "data.describe()"
   ]
  },
  {
   "cell_type": "code",
   "execution_count": 16,
   "metadata": {},
   "outputs": [
    {
     "data": {
      "text/plain": [
       "(30441, 21)"
      ]
     },
     "execution_count": 16,
     "metadata": {},
     "output_type": "execute_result"
    }
   ],
   "source": [
    "data = data[data.distance_to_center < 15]\n",
    "data = data[data.price_per_m2 < 2500]\n",
    "data.shape"
   ]
  },
  {
   "cell_type": "code",
   "execution_count": 17,
   "metadata": {},
   "outputs": [],
   "source": [
    "data[['building_floors']] = data[['building_floors']].fillna(data[['building_floors']].mean())"
   ]
  },
  {
   "cell_type": "code",
   "execution_count": 18,
   "metadata": {},
   "outputs": [
    {
     "data": {
      "text/plain": [
       "price_per_m2          1.000000\n",
       "building_floors       0.385326\n",
       "year                  0.131843\n",
       "plot_share            0.002082\n",
       "latitude             -0.011045\n",
       "relative_share       -0.026335\n",
       "plot_area            -0.028618\n",
       "longitude            -0.038409\n",
       "land_use_share       -0.050230\n",
       "building_year        -0.051976\n",
       "id                   -0.133134\n",
       "distance_to_center   -0.268828\n",
       "Name: price_per_m2, dtype: float64"
      ]
     },
     "execution_count": 18,
     "metadata": {},
     "output_type": "execute_result"
    }
   ],
   "source": [
    "corrmat[\"price_per_m2\"].sort_values(ascending=False)"
   ]
  },
  {
   "cell_type": "code",
   "execution_count": 19,
   "metadata": {},
   "outputs": [],
   "source": [
    "data_fillna = data.fillna(data.mean())"
   ]
  },
  {
   "cell_type": "code",
   "execution_count": 20,
   "metadata": {},
   "outputs": [
    {
     "data": {
      "text/plain": [
       "price_per_m2          1.000000\n",
       "building_floors       0.391957\n",
       "year                  0.246964\n",
       "plot_share            0.007278\n",
       "latitude             -0.019270\n",
       "relative_share       -0.080414\n",
       "plot_area            -0.086744\n",
       "building_year        -0.101943\n",
       "land_use_share       -0.140467\n",
       "longitude            -0.166063\n",
       "id                   -0.252815\n",
       "distance_to_center   -0.487141\n",
       "Name: price_per_m2, dtype: float64"
      ]
     },
     "execution_count": 20,
     "metadata": {},
     "output_type": "execute_result"
    }
   ],
   "source": [
    "corrmat_fillna = data_fillna.corr()\n",
    "corrmat_fillna[\"price_per_m2\"].sort_values(ascending=False)"
   ]
  },
  {
   "cell_type": "code",
   "execution_count": 21,
   "metadata": {},
   "outputs": [
    {
     "data": {
      "text/html": [
       "<div>\n",
       "<style scoped>\n",
       "    .dataframe tbody tr th:only-of-type {\n",
       "        vertical-align: middle;\n",
       "    }\n",
       "\n",
       "    .dataframe tbody tr th {\n",
       "        vertical-align: top;\n",
       "    }\n",
       "\n",
       "    .dataframe thead th {\n",
       "        text-align: right;\n",
       "    }\n",
       "</style>\n",
       "<table border=\"1\" class=\"dataframe\">\n",
       "  <thead>\n",
       "    <tr style=\"text-align: right;\">\n",
       "      <th></th>\n",
       "      <th>id</th>\n",
       "      <th>price_per_m2</th>\n",
       "      <th>plot_area</th>\n",
       "      <th>plot_share</th>\n",
       "      <th>land_use_share</th>\n",
       "      <th>building_floors</th>\n",
       "      <th>building_year</th>\n",
       "      <th>longitude</th>\n",
       "      <th>latitude</th>\n",
       "      <th>distance_to_center</th>\n",
       "      <th>year</th>\n",
       "      <th>relative_share</th>\n",
       "    </tr>\n",
       "  </thead>\n",
       "  <tbody>\n",
       "    <tr>\n",
       "      <th>count</th>\n",
       "      <td>30441.000000</td>\n",
       "      <td>30441.000000</td>\n",
       "      <td>30441.000000</td>\n",
       "      <td>30441.000000</td>\n",
       "      <td>30441.000000</td>\n",
       "      <td>30441.000000</td>\n",
       "      <td>30441.000000</td>\n",
       "      <td>30441.000000</td>\n",
       "      <td>30441.000000</td>\n",
       "      <td>30441.000000</td>\n",
       "      <td>30441.000000</td>\n",
       "      <td>30441.000000</td>\n",
       "    </tr>\n",
       "    <tr>\n",
       "      <th>mean</th>\n",
       "      <td>30511.199369</td>\n",
       "      <td>554.004054</td>\n",
       "      <td>1116.820374</td>\n",
       "      <td>0.962616</td>\n",
       "      <td>0.959225</td>\n",
       "      <td>1.965090</td>\n",
       "      <td>1912.012724</td>\n",
       "      <td>16.363544</td>\n",
       "      <td>48.207234</td>\n",
       "      <td>6.468722</td>\n",
       "      <td>1998.919188</td>\n",
       "      <td>1036.814741</td>\n",
       "    </tr>\n",
       "    <tr>\n",
       "      <th>std</th>\n",
       "      <td>12744.549072</td>\n",
       "      <td>485.690583</td>\n",
       "      <td>3441.093298</td>\n",
       "      <td>0.154384</td>\n",
       "      <td>0.141401</td>\n",
       "      <td>1.088691</td>\n",
       "      <td>22.017873</td>\n",
       "      <td>0.076534</td>\n",
       "      <td>0.039983</td>\n",
       "      <td>3.180294</td>\n",
       "      <td>7.867244</td>\n",
       "      <td>3191.748118</td>\n",
       "    </tr>\n",
       "    <tr>\n",
       "      <th>min</th>\n",
       "      <td>7671.000000</td>\n",
       "      <td>0.383400</td>\n",
       "      <td>1.000000</td>\n",
       "      <td>0.001000</td>\n",
       "      <td>0.000000</td>\n",
       "      <td>0.000000</td>\n",
       "      <td>1800.000000</td>\n",
       "      <td>16.190731</td>\n",
       "      <td>48.121595</td>\n",
       "      <td>0.042117</td>\n",
       "      <td>1987.000000</td>\n",
       "      <td>1.000000</td>\n",
       "    </tr>\n",
       "    <tr>\n",
       "      <th>25%</th>\n",
       "      <td>19680.000000</td>\n",
       "      <td>218.018581</td>\n",
       "      <td>418.000000</td>\n",
       "      <td>1.000000</td>\n",
       "      <td>1.000000</td>\n",
       "      <td>1.965090</td>\n",
       "      <td>1912.012724</td>\n",
       "      <td>16.308571</td>\n",
       "      <td>48.177677</td>\n",
       "      <td>3.627851</td>\n",
       "      <td>1992.000000</td>\n",
       "      <td>392.000000</td>\n",
       "    </tr>\n",
       "    <tr>\n",
       "      <th>50%</th>\n",
       "      <td>30717.000000</td>\n",
       "      <td>396.615385</td>\n",
       "      <td>550.000000</td>\n",
       "      <td>1.000000</td>\n",
       "      <td>1.000000</td>\n",
       "      <td>1.965090</td>\n",
       "      <td>1912.012724</td>\n",
       "      <td>16.351679</td>\n",
       "      <td>48.209150</td>\n",
       "      <td>6.631485</td>\n",
       "      <td>1998.000000</td>\n",
       "      <td>532.000000</td>\n",
       "    </tr>\n",
       "    <tr>\n",
       "      <th>75%</th>\n",
       "      <td>41657.000000</td>\n",
       "      <td>724.299065</td>\n",
       "      <td>829.000000</td>\n",
       "      <td>1.000000</td>\n",
       "      <td>1.000000</td>\n",
       "      <td>2.000000</td>\n",
       "      <td>1912.012724</td>\n",
       "      <td>16.412278</td>\n",
       "      <td>48.232164</td>\n",
       "      <td>8.808093</td>\n",
       "      <td>2006.000000</td>\n",
       "      <td>794.000000</td>\n",
       "    </tr>\n",
       "    <tr>\n",
       "      <th>max</th>\n",
       "      <td>52034.000000</td>\n",
       "      <td>2495.769882</td>\n",
       "      <td>143858.000000</td>\n",
       "      <td>1.000000</td>\n",
       "      <td>1.000000</td>\n",
       "      <td>12.000000</td>\n",
       "      <td>2017.000000</td>\n",
       "      <td>16.546959</td>\n",
       "      <td>48.314311</td>\n",
       "      <td>14.409620</td>\n",
       "      <td>2013.000000</td>\n",
       "      <td>143858.000000</td>\n",
       "    </tr>\n",
       "  </tbody>\n",
       "</table>\n",
       "</div>"
      ],
      "text/plain": [
       "                 id  price_per_m2      plot_area    plot_share  \\\n",
       "count  30441.000000  30441.000000   30441.000000  30441.000000   \n",
       "mean   30511.199369    554.004054    1116.820374      0.962616   \n",
       "std    12744.549072    485.690583    3441.093298      0.154384   \n",
       "min     7671.000000      0.383400       1.000000      0.001000   \n",
       "25%    19680.000000    218.018581     418.000000      1.000000   \n",
       "50%    30717.000000    396.615385     550.000000      1.000000   \n",
       "75%    41657.000000    724.299065     829.000000      1.000000   \n",
       "max    52034.000000   2495.769882  143858.000000      1.000000   \n",
       "\n",
       "       land_use_share  building_floors  building_year     longitude  \\\n",
       "count    30441.000000     30441.000000   30441.000000  30441.000000   \n",
       "mean         0.959225         1.965090    1912.012724     16.363544   \n",
       "std          0.141401         1.088691      22.017873      0.076534   \n",
       "min          0.000000         0.000000    1800.000000     16.190731   \n",
       "25%          1.000000         1.965090    1912.012724     16.308571   \n",
       "50%          1.000000         1.965090    1912.012724     16.351679   \n",
       "75%          1.000000         2.000000    1912.012724     16.412278   \n",
       "max          1.000000        12.000000    2017.000000     16.546959   \n",
       "\n",
       "           latitude  distance_to_center          year  relative_share  \n",
       "count  30441.000000        30441.000000  30441.000000    30441.000000  \n",
       "mean      48.207234            6.468722   1998.919188     1036.814741  \n",
       "std        0.039983            3.180294      7.867244     3191.748118  \n",
       "min       48.121595            0.042117   1987.000000        1.000000  \n",
       "25%       48.177677            3.627851   1992.000000      392.000000  \n",
       "50%       48.209150            6.631485   1998.000000      532.000000  \n",
       "75%       48.232164            8.808093   2006.000000      794.000000  \n",
       "max       48.314311           14.409620   2013.000000   143858.000000  "
      ]
     },
     "execution_count": 21,
     "metadata": {},
     "output_type": "execute_result"
    }
   ],
   "source": [
    "data_fillna.describe()"
   ]
  },
  {
   "cell_type": "code",
   "execution_count": 22,
   "metadata": {},
   "outputs": [
    {
     "data": {
      "text/plain": [
       "price_per_m2          1.000000\n",
       "building_floors       0.391957\n",
       "year                  0.246964\n",
       "plot_share            0.007278\n",
       "latitude             -0.019270\n",
       "relative_share       -0.080414\n",
       "plot_area            -0.086744\n",
       "building_year        -0.101943\n",
       "land_use_share       -0.140467\n",
       "longitude            -0.166063\n",
       "id                   -0.252815\n",
       "distance_to_center   -0.487141\n",
       "Name: price_per_m2, dtype: float64"
      ]
     },
     "execution_count": 22,
     "metadata": {},
     "output_type": "execute_result"
    }
   ],
   "source": [
    "corrmat_fillna = data_fillna.corr()\n",
    "corrmat_fillna[\"price_per_m2\"].sort_values(ascending=False)"
   ]
  },
  {
   "cell_type": "code",
   "execution_count": 23,
   "metadata": {},
   "outputs": [],
   "source": [
    "train_data = data_fillna[[\"price_per_m2\", \"building_floors\", \"year\", \"distance_to_center\", \"land_use\", \"relative_share\", \"district\"]]\n",
    "train_data_cat = train_data[[\"land_use\", \"district\"]]\n",
    "train_data_num = train_data[[\"year\", \"distance_to_center\", \"building_floors\", \"relative_share\"]]"
   ]
  },
  {
   "cell_type": "code",
   "execution_count": 24,
   "metadata": {},
   "outputs": [],
   "source": [
    "data = train_data.drop(\"price_per_m2\", axis=1)\n",
    "labels = train_data[\"price_per_m2\"].copy()"
   ]
  },
  {
   "cell_type": "code",
   "execution_count": 25,
   "metadata": {},
   "outputs": [],
   "source": [
    "#data[\"contract_type\"] = data[\"contract_type\"].astype(str)\n",
    "data[\"land_use\"] = data[\"land_use\"].astype(str)\n",
    "data[\"district\"] = data[\"district\"].astype(str)\n",
    "#data[\"protection_zone\"] = data[\"protection_zone\"].astype(str)"
   ]
  },
  {
   "cell_type": "code",
   "execution_count": 26,
   "metadata": {},
   "outputs": [
    {
     "name": "stderr",
     "output_type": "stream",
     "text": [
      "/home/loherzberger/Projects/ML/venv/lib/python3.6/site-packages/ipykernel_launcher.py:4: SettingWithCopyWarning: \n",
      "A value is trying to be set on a copy of a slice from a DataFrame.\n",
      "Try using .loc[row_indexer,col_indexer] = value instead\n",
      "\n",
      "See the caveats in the documentation: http://pandas.pydata.org/pandas-docs/stable/indexing.html#indexing-view-versus-copy\n",
      "  after removing the cwd from sys.path.\n",
      "/home/loherzberger/Projects/ML/venv/lib/python3.6/site-packages/ipykernel_launcher.py:5: SettingWithCopyWarning: \n",
      "A value is trying to be set on a copy of a slice from a DataFrame.\n",
      "Try using .loc[row_indexer,col_indexer] = value instead\n",
      "\n",
      "See the caveats in the documentation: http://pandas.pydata.org/pandas-docs/stable/indexing.html#indexing-view-versus-copy\n",
      "  \"\"\"\n"
     ]
    },
    {
     "data": {
      "text/plain": [
       "[array(['0', '110', 'BG', 'BG/IG', 'E', 'E div.', 'EKL', 'EKLW', 'EPK',\n",
       "        'ESP', 'EW', 'Ekl', 'Eklw', 'Epk', 'Epl', 'Esp', 'Friedhof', 'G',\n",
       "        'GB', 'GBBG', 'GBGV', 'GS', 'IG', 'L', 'P', 'SO', 'SO/sonstiges',\n",
       "        'SPK', 'SWW', 'SWWL', 'Spk', 'Sww', 'SwwL', 'VB', 'Verkehrsband',\n",
       "        'Vfl', 'W', 'WI/GBI', 'WII/GBII', 'WIII/GBIII', 'WIV/GBIV',\n",
       "        'WV/GBV', 'WVI/GBVI', 'Wklw', 'nan', 'w', 'we'], dtype=object),\n",
       " array(['Alsergrund', 'Brigittenau', 'Donaustadt', 'Döbling', 'Favoriten',\n",
       "        'Floridsdorf', 'Fünfhaus', 'Hernals', 'Hietzing', 'Innere Stadt',\n",
       "        'Josefstadt', 'Landstraße', 'Leopoldstadt', 'Liesing',\n",
       "        'Margareten', 'Mariahilf', 'Meidling', 'Neubau', 'Ottakring',\n",
       "        'Penzing', 'Simmering', 'Wieden', 'Währing', 'nan'], dtype=object)]"
      ]
     },
     "execution_count": 26,
     "metadata": {},
     "output_type": "execute_result"
    }
   ],
   "source": [
    "#This is not important\n",
    "from future_encoders import OrdinalEncoder\n",
    "\n",
    "train_data_cat[\"district\"] = data[\"district\"]\n",
    "train_data_cat[\"land_use\"] = data[\"land_use\"]\n",
    "\n",
    "encoder = OrdinalEncoder()\n",
    "housing_cat_encoded = encoder.fit_transform(train_data_cat)\n",
    "encoder.categories_"
   ]
  },
  {
   "cell_type": "code",
   "execution_count": 27,
   "metadata": {},
   "outputs": [
    {
     "name": "stdout",
     "output_type": "stream",
     "text": [
      "<class 'pandas.core.frame.DataFrame'>\n",
      "Int64Index: 30441 entries, 0 to 44363\n",
      "Data columns (total 21 columns):\n",
      "id                    30441 non-null int64\n",
      "price_per_m2          30441 non-null float64\n",
      "transaction_ym        30441 non-null object\n",
      "plot_area             30441 non-null int64\n",
      "plot_share            30441 non-null float64\n",
      "property_type         30441 non-null object\n",
      "cadastral             30441 non-null object\n",
      "district              30385 non-null object\n",
      "contract_type         30441 non-null object\n",
      "land_use              30375 non-null object\n",
      "land_use_share        30441 non-null float64\n",
      "protection_zone       30441 non-null object\n",
      "building_ban          30441 non-null object\n",
      "building_height       5858 non-null object\n",
      "building_floors       30441 non-null float64\n",
      "building_year         30441 non-null float64\n",
      "longitude             30441 non-null float64\n",
      "latitude              30441 non-null float64\n",
      "distance_to_center    30441 non-null float64\n",
      "year                  30441 non-null int64\n",
      "relative_share        30441 non-null float64\n",
      "dtypes: float64(9), int64(3), object(9)\n",
      "memory usage: 5.1+ MB\n"
     ]
    }
   ],
   "source": [
    "#This is not important\n",
    "data_fillna.info()"
   ]
  },
  {
   "cell_type": "code",
   "execution_count": 28,
   "metadata": {},
   "outputs": [],
   "source": [
    "from sklearn.pipeline import Pipeline\n",
    "from sklearn.preprocessing import StandardScaler\n",
    "\n",
    "num_pipeline = Pipeline([\n",
    "    ('std_scaler', StandardScaler())\n",
    "])"
   ]
  },
  {
   "cell_type": "code",
   "execution_count": 29,
   "metadata": {},
   "outputs": [],
   "source": [
    "from future_encoders import ColumnTransformer\n",
    "from future_encoders import OneHotEncoder\n",
    "\n",
    "num_attribs = list(train_data_num)\n",
    "cat_attribs = list(train_data_cat)\n",
    "\n",
    "full_pipeline = ColumnTransformer([\n",
    "    (\"num\", num_pipeline, num_attribs),\n",
    "    (\"cat\", OneHotEncoder(), cat_attribs)\n",
    "])"
   ]
  },
  {
   "cell_type": "code",
   "execution_count": 30,
   "metadata": {},
   "outputs": [
    {
     "data": {
      "text/plain": [
       "['year', 'distance_to_center', 'building_floors', 'relative_share']"
      ]
     },
     "execution_count": 30,
     "metadata": {},
     "output_type": "execute_result"
    }
   ],
   "source": [
    "num_attribs"
   ]
  },
  {
   "cell_type": "code",
   "execution_count": 31,
   "metadata": {},
   "outputs": [
    {
     "data": {
      "text/plain": [
       "['land_use', 'district']"
      ]
     },
     "execution_count": 31,
     "metadata": {},
     "output_type": "execute_result"
    }
   ],
   "source": [
    "cat_attribs"
   ]
  },
  {
   "cell_type": "code",
   "execution_count": 32,
   "metadata": {},
   "outputs": [
    {
     "data": {
      "text/plain": [
       "<30441x75 sparse matrix of type '<class 'numpy.float64'>'\n",
       "\twith 182646 stored elements in Compressed Sparse Row format>"
      ]
     },
     "execution_count": 32,
     "metadata": {},
     "output_type": "execute_result"
    }
   ],
   "source": [
    "data_prepared = full_pipeline.fit_transform(data)\n",
    "data_prepared"
   ]
  },
  {
   "cell_type": "code",
   "execution_count": 33,
   "metadata": {},
   "outputs": [],
   "source": [
    "def display_scores(scores):\n",
    "    print(\"Scores:\", scores)\n",
    "    print(\"Mean:\", scores.mean())\n",
    "    print(\"Standard Deviation\", scores.std())"
   ]
  },
  {
   "cell_type": "code",
   "execution_count": 34,
   "metadata": {},
   "outputs": [
    {
     "name": "stdout",
     "output_type": "stream",
     "text": [
      "Scores: [465.47063684 403.45171919 382.77948056 358.3804026  325.2129627\n",
      " 353.65287303 350.11906838 375.83766258 326.84243795 334.22526143]\n",
      "Mean: 367.59725052620274\n",
      "Standard Deviation 40.39690858258576\n"
     ]
    }
   ],
   "source": [
    "from sklearn.linear_model import LinearRegression\n",
    "from sklearn.model_selection import cross_val_score\n",
    "\n",
    "lin_reg = LinearRegression()\n",
    "lin_reg.fit(data_prepared, labels)\n",
    "\n",
    "scores = cross_val_score(lin_reg, data_prepared, labels, scoring=\"neg_mean_squared_error\", cv=10)\n",
    "lin_reg_rmse_scores = np.sqrt(-scores)\n",
    "\n",
    "display_scores(lin_reg_rmse_scores)"
   ]
  },
  {
   "cell_type": "code",
   "execution_count": 35,
   "metadata": {},
   "outputs": [
    {
     "data": {
      "text/plain": [
       "Ridge(alpha=0.5, copy_X=True, fit_intercept=True, max_iter=None,\n",
       "   normalize=False, random_state=None, solver='auto', tol=0.001)"
      ]
     },
     "execution_count": 35,
     "metadata": {},
     "output_type": "execute_result"
    }
   ],
   "source": [
    "from sklearn.linear_model import Ridge\n",
    "\n",
    "ridge_reg = Ridge(alpha=0.5)\n",
    "ridge_reg.fit(data_prepared, labels)"
   ]
  },
  {
   "cell_type": "code",
   "execution_count": 36,
   "metadata": {},
   "outputs": [
    {
     "name": "stdout",
     "output_type": "stream",
     "text": [
      "Scores: [465.72205685 403.47787679 382.25622701 357.72999223 325.05948191\n",
      " 353.87962713 350.09742108 375.77136075 326.9108148  334.3981194 ]\n",
      "Mean: 367.5302977934822\n",
      "Standard Deviation 40.44300177787986\n"
     ]
    }
   ],
   "source": [
    "scores = cross_val_score(ridge_reg, data_prepared, labels, scoring=\"neg_mean_squared_error\", cv=10)\n",
    "ridge_reg_rmse_scores = np.sqrt(-scores)\n",
    "\n",
    "display_scores(ridge_reg_rmse_scores)"
   ]
  },
  {
   "cell_type": "code",
   "execution_count": 37,
   "metadata": {},
   "outputs": [
    {
     "name": "stdout",
     "output_type": "stream",
     "text": [
      "Scores: [537.39542038 521.29872995 494.69793354 479.97153867 448.94413669\n",
      " 443.4705759  433.41068254 459.60241882 461.04836817 401.66478131]\n",
      "Mean: 468.1504585959291\n",
      "Standard Deviation 38.977936384481666\n"
     ]
    }
   ],
   "source": [
    "from sklearn.tree import DecisionTreeRegressor\n",
    "\n",
    "tree_reg = DecisionTreeRegressor()\n",
    "tree_reg.fit(data_prepared, labels)\n",
    "\n",
    "scores = cross_val_score(tree_reg, data_prepared, labels, scoring=\"neg_mean_squared_error\", cv=10)\n",
    "tree_reg_rmse_scores = np.sqrt(-scores)\n",
    "\n",
    "display_scores(tree_reg_rmse_scores)"
   ]
  },
  {
   "cell_type": "code",
   "execution_count": 38,
   "metadata": {},
   "outputs": [
    {
     "data": {
      "text/plain": [
       "[(0.40892874650995203, 'distance_to_center'),\n",
       " (0.20377486198085856, 'year'),\n",
       " (0.15663257161045743, 'relative_share'),\n",
       " (0.09167644598799164, 'building_floors'),\n",
       " (0.01794114867049925, 'SWWL'),\n",
       " (0.007893251788944972, 'P'),\n",
       " (0.007363400141893408, 'EW'),\n",
       " (0.006363301539550394, 'Epk'),\n",
       " (0.00523234127654751, 'VB'),\n",
       " (0.004859882212856594, 'Verkehrsband'),\n",
       " (0.0047744851930872426, 'IG'),\n",
       " (0.0046786595151827575, 'Eklw'),\n",
       " (0.004458515024527212, 'Epl'),\n",
       " (0.004330344364992563, 'GS'),\n",
       " (0.004183183023736457, 'Wklw'),\n",
       " (0.003997404747298771, 'Spk'),\n",
       " (0.00394007588679753, 'Ekl'),\n",
       " (0.003749631336138583, 'Vfl'),\n",
       " (0.0035980101486040536, 'SWW'),\n",
       " (0.0035380722804310306, 'WIII/GBIII'),\n",
       " (0.0035242230015343984, 'SPK'),\n",
       " (0.0033628787335817055, 'WVI/GBVI'),\n",
       " (0.003336736134710806, 'WII/GBII'),\n",
       " (0.003305021609356217, 'WIV/GBIV'),\n",
       " (0.0032572895286037784, 'WI/GBI'),\n",
       " (0.00314594366328923, 'SO'),\n",
       " (0.0031435906329005375, 'W'),\n",
       " (0.0031306583871449955, 'Meidling'),\n",
       " (0.0028860252603712, 'L'),\n",
       " (0.0028506962416399834, 'SwwL'),\n",
       " (0.0025758086016566574, 'SO/sonstiges'),\n",
       " (0.002355960055053491, 'WV/GBV'),\n",
       " (0.0020516564708728826, 'Brigittenau'),\n",
       " (0.001549273128043008, 'Sww'),\n",
       " (0.0008533683484042296, 'Esp'),\n",
       " (0.0007616633141695934, 'Penzing'),\n",
       " (0.0006408054685896142, 'Simmering'),\n",
       " (0.0005874273462093987, 'nan'),\n",
       " (0.00044923776417232016, 'Floridsdorf'),\n",
       " (0.00044784127663401174, 'Wieden'),\n",
       " (0.00043745354598900875, 'GB'),\n",
       " (0.00040267771935227745, 'Josefstadt'),\n",
       " (0.00039788512823519417, 'Fünfhaus'),\n",
       " (0.0003793106587408214, 'Favoriten'),\n",
       " (0.0003387507471936255, 'E div.'),\n",
       " (0.0003281479719739141, '0'),\n",
       " (0.0002703233023465737, 'Landstraße'),\n",
       " (0.00024045978869847057, 'E'),\n",
       " (0.0002212657902111501, 'BG'),\n",
       " (0.00014371140511384347, 'EKL'),\n",
       " (0.0001302392396375643, 'Friedhof'),\n",
       " (0.00012990325976474206, 'BG/IG'),\n",
       " (9.347101713252442e-05, 'land_use'),\n",
       " (9.212538315954128e-05, 'Innere Stadt'),\n",
       " (7.353234224728502e-05, '110'),\n",
       " (5.2970135348851846e-05, 'EPK'),\n",
       " (2.791173519613746e-05, 'Liesing'),\n",
       " (2.772620249985573e-05, 'Alsergrund'),\n",
       " (2.3543975700479614e-05, 'EKLW'),\n",
       " (1.9238821856821653e-05, 'Hernals'),\n",
       " (9.764363732194399e-06, 'Leopoldstadt'),\n",
       " (8.838077055124765e-06, 'nan'),\n",
       " (5.638536703446075e-06, 'Neubau'),\n",
       " (4.842093166135303e-06, 'ESP'),\n",
       " (4.394097534445001e-06, 'Ottakring'),\n",
       " (2.6548312262864563e-06, 'Margareten'),\n",
       " (2.567971938855969e-06, 'Hietzing'),\n",
       " (2.070239020716575e-07, 'GBBG'),\n",
       " (6.627056580028692e-09, 'Donaustadt'),\n",
       " (0.0, 'district'),\n",
       " (0.0, 'Währing'),\n",
       " (0.0, 'Mariahilf'),\n",
       " (0.0, 'GBGV'),\n",
       " (0.0, 'G'),\n",
       " (0.0, 'Döbling')]"
      ]
     },
     "execution_count": 38,
     "metadata": {},
     "output_type": "execute_result"
    }
   ],
   "source": [
    "feature_importances = tree_reg.feature_importances_\n",
    "attributes = num_attribs + cat_attribs + list(encoder.categories_[1]) +  list(encoder.categories_[0])\n",
    "sorted(zip(feature_importances, attributes), reverse=True)"
   ]
  },
  {
   "cell_type": "code",
   "execution_count": 39,
   "metadata": {},
   "outputs": [],
   "source": [
    "#from sklearn.ensemble import RandomForestRegressor\n",
    "\n",
    "#forest_reg = RandomForestRegressor()\n",
    "#forest_reg.fit(data_prepared, labels)\n",
    "\n",
    "#scores = cross_val_score(forest_reg, data_prepared, labels, scoring=\"neg_mean_squared_error\", cv=10)\n",
    "#forest_rmse_scores = np.sqrt(-scores)\n",
    "#display_scores(forest_rmse_scores)"
   ]
  },
  {
   "cell_type": "code",
   "execution_count": 40,
   "metadata": {},
   "outputs": [],
   "source": [
    "#feature_importances = forest_reg.feature_importances_\n",
    "#attributes = num_attribs + cat_attribs + list(encoder.categories_[1]) +  list(encoder.categories_[0])\n",
    "#sorted(zip(feature_importances, attributes), reverse=True)"
   ]
  },
  {
   "cell_type": "code",
   "execution_count": 41,
   "metadata": {},
   "outputs": [
    {
     "data": {
      "text/plain": [
       "year                  1.000000\n",
       "price_per_m2          0.246964\n",
       "building_year         0.206628\n",
       "distance_to_center    0.162658\n",
       "plot_share            0.070137\n",
       "longitude             0.063504\n",
       "building_floors       0.061755\n",
       "latitude              0.047504\n",
       "relative_share        0.020173\n",
       "plot_area             0.009057\n",
       "land_use_share       -0.057949\n",
       "id                   -0.997872\n",
       "Name: year, dtype: float64"
      ]
     },
     "execution_count": 41,
     "metadata": {},
     "output_type": "execute_result"
    }
   ],
   "source": [
    "corrmat_fillna = data_fillna.corr()\n",
    "corrmat_fillna[\"year\"].sort_values(ascending=False)"
   ]
  },
  {
   "cell_type": "code",
   "execution_count": null,
   "metadata": {},
   "outputs": [],
   "source": []
  }
 ],
 "metadata": {
  "kernelspec": {
   "display_name": "Python 3",
   "language": "python",
   "name": "python3"
  },
  "language_info": {
   "codemirror_mode": {
    "name": "ipython",
    "version": 3
   },
   "file_extension": ".py",
   "mimetype": "text/x-python",
   "name": "python",
   "nbconvert_exporter": "python",
   "pygments_lexer": "ipython3",
   "version": "3.6.7"
  }
 },
 "nbformat": 4,
 "nbformat_minor": 2
}
